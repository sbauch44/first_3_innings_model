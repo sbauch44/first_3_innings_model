{
 "cells": [
  {
   "cell_type": "code",
   "execution_count": null,
   "metadata": {
    "colab": {
     "base_uri": "https://localhost:8080/"
    },
    "executionInfo": {
     "elapsed": 10762,
     "status": "ok",
     "timestamp": 1744047375993,
     "user": {
      "displayName": "Sam",
      "userId": "02456008665656849434"
     },
     "user_tz": 240
    },
    "id": "YWDSlXwy451f",
    "outputId": "39831c43-aad9-45ef-8ee0-5a0f141fb311"
   },
   "outputs": [
    {
     "name": "stdout",
     "output_type": "stream",
     "text": [
      "Collecting git+https://github.com/jldbc/pybaseball.git\n",
      "  Cloning https://github.com/jldbc/pybaseball.git to /tmp/pip-req-build-waajt386\n",
      "  Running command git clone --filter=blob:none --quiet https://github.com/jldbc/pybaseball.git /tmp/pip-req-build-waajt386\n",
      "  Resolved https://github.com/jldbc/pybaseball.git to commit aa093f9d52054b8b7ec5988deb2a8dbb7fcb0f89\n",
      "  Installing build dependencies ... \u001b[?25l\u001b[?25hdone\n",
      "  Getting requirements to build wheel ... \u001b[?25l\u001b[?25hdone\n",
      "  Preparing metadata (pyproject.toml) ... \u001b[?25l\u001b[?25hdone\n",
      "Requirement already satisfied: numpy>=1.13.0 in /usr/local/lib/python3.11/dist-packages (from pybaseball==2.2.7) (2.0.2)\n",
      "Requirement already satisfied: pandas>=1.0.3 in /usr/local/lib/python3.11/dist-packages (from pybaseball==2.2.7) (2.2.2)\n",
      "Requirement already satisfied: beautifulsoup4>=4.4.0 in /usr/local/lib/python3.11/dist-packages (from pybaseball==2.2.7) (4.13.3)\n",
      "Requirement already satisfied: requests>=2.18.1 in /usr/local/lib/python3.11/dist-packages (from pybaseball==2.2.7) (2.32.3)\n",
      "Requirement already satisfied: lxml>=4.2.1 in /usr/local/lib/python3.11/dist-packages (from pybaseball==2.2.7) (5.3.1)\n",
      "Requirement already satisfied: pyarrow>=1.0.1 in /usr/local/lib/python3.11/dist-packages (from pybaseball==2.2.7) (18.1.0)\n",
      "Requirement already satisfied: pygithub>=1.51 in /usr/local/lib/python3.11/dist-packages (from pybaseball==2.2.7) (2.6.1)\n",
      "Requirement already satisfied: scipy>=1.4.0 in /usr/local/lib/python3.11/dist-packages (from pybaseball==2.2.7) (1.14.1)\n",
      "Requirement already satisfied: matplotlib>=2.0.0 in /usr/local/lib/python3.11/dist-packages (from pybaseball==2.2.7) (3.10.0)\n",
      "Requirement already satisfied: tqdm>=4.50.0 in /usr/local/lib/python3.11/dist-packages (from pybaseball==2.2.7) (4.67.1)\n",
      "Requirement already satisfied: attrs>=20.3.0 in /usr/local/lib/python3.11/dist-packages (from pybaseball==2.2.7) (25.3.0)\n",
      "Requirement already satisfied: soupsieve>1.2 in /usr/local/lib/python3.11/dist-packages (from beautifulsoup4>=4.4.0->pybaseball==2.2.7) (2.6)\n",
      "Requirement already satisfied: typing-extensions>=4.0.0 in /usr/local/lib/python3.11/dist-packages (from beautifulsoup4>=4.4.0->pybaseball==2.2.7) (4.13.0)\n",
      "Requirement already satisfied: contourpy>=1.0.1 in /usr/local/lib/python3.11/dist-packages (from matplotlib>=2.0.0->pybaseball==2.2.7) (1.3.1)\n",
      "Requirement already satisfied: cycler>=0.10 in /usr/local/lib/python3.11/dist-packages (from matplotlib>=2.0.0->pybaseball==2.2.7) (0.12.1)\n",
      "Requirement already satisfied: fonttools>=4.22.0 in /usr/local/lib/python3.11/dist-packages (from matplotlib>=2.0.0->pybaseball==2.2.7) (4.56.0)\n",
      "Requirement already satisfied: kiwisolver>=1.3.1 in /usr/local/lib/python3.11/dist-packages (from matplotlib>=2.0.0->pybaseball==2.2.7) (1.4.8)\n",
      "Requirement already satisfied: packaging>=20.0 in /usr/local/lib/python3.11/dist-packages (from matplotlib>=2.0.0->pybaseball==2.2.7) (24.2)\n",
      "Requirement already satisfied: pillow>=8 in /usr/local/lib/python3.11/dist-packages (from matplotlib>=2.0.0->pybaseball==2.2.7) (11.1.0)\n",
      "Requirement already satisfied: pyparsing>=2.3.1 in /usr/local/lib/python3.11/dist-packages (from matplotlib>=2.0.0->pybaseball==2.2.7) (3.2.3)\n",
      "Requirement already satisfied: python-dateutil>=2.7 in /usr/local/lib/python3.11/dist-packages (from matplotlib>=2.0.0->pybaseball==2.2.7) (2.8.2)\n",
      "Requirement already satisfied: pytz>=2020.1 in /usr/local/lib/python3.11/dist-packages (from pandas>=1.0.3->pybaseball==2.2.7) (2025.2)\n",
      "Requirement already satisfied: tzdata>=2022.7 in /usr/local/lib/python3.11/dist-packages (from pandas>=1.0.3->pybaseball==2.2.7) (2025.2)\n",
      "Requirement already satisfied: pynacl>=1.4.0 in /usr/local/lib/python3.11/dist-packages (from pygithub>=1.51->pybaseball==2.2.7) (1.5.0)\n",
      "Requirement already satisfied: pyjwt>=2.4.0 in /usr/local/lib/python3.11/dist-packages (from pyjwt[crypto]>=2.4.0->pygithub>=1.51->pybaseball==2.2.7) (2.10.1)\n",
      "Requirement already satisfied: urllib3>=1.26.0 in /usr/local/lib/python3.11/dist-packages (from pygithub>=1.51->pybaseball==2.2.7) (2.3.0)\n",
      "Requirement already satisfied: Deprecated in /usr/local/lib/python3.11/dist-packages (from pygithub>=1.51->pybaseball==2.2.7) (1.2.18)\n",
      "Requirement already satisfied: charset-normalizer<4,>=2 in /usr/local/lib/python3.11/dist-packages (from requests>=2.18.1->pybaseball==2.2.7) (3.4.1)\n",
      "Requirement already satisfied: idna<4,>=2.5 in /usr/local/lib/python3.11/dist-packages (from requests>=2.18.1->pybaseball==2.2.7) (3.10)\n",
      "Requirement already satisfied: certifi>=2017.4.17 in /usr/local/lib/python3.11/dist-packages (from requests>=2.18.1->pybaseball==2.2.7) (2025.1.31)\n",
      "Requirement already satisfied: cryptography>=3.4.0 in /usr/local/lib/python3.11/dist-packages (from pyjwt[crypto]>=2.4.0->pygithub>=1.51->pybaseball==2.2.7) (43.0.3)\n",
      "Requirement already satisfied: cffi>=1.4.1 in /usr/local/lib/python3.11/dist-packages (from pynacl>=1.4.0->pygithub>=1.51->pybaseball==2.2.7) (1.17.1)\n",
      "Requirement already satisfied: six>=1.5 in /usr/local/lib/python3.11/dist-packages (from python-dateutil>=2.7->matplotlib>=2.0.0->pybaseball==2.2.7) (1.17.0)\n",
      "Requirement already satisfied: wrapt<2,>=1.10 in /usr/local/lib/python3.11/dist-packages (from Deprecated->pygithub>=1.51->pybaseball==2.2.7) (1.17.2)\n",
      "Requirement already satisfied: pycparser in /usr/local/lib/python3.11/dist-packages (from cffi>=1.4.1->pynacl>=1.4.0->pygithub>=1.51->pybaseball==2.2.7) (2.22)\n"
     ]
    }
   ],
   "source": [
    "!pip install git+https://github.com/jldbc/pybaseball.git"
   ]
  },
  {
   "cell_type": "code",
   "execution_count": null,
   "metadata": {
    "colab": {
     "base_uri": "https://localhost:8080/",
     "height": 225
    },
    "executionInfo": {
     "elapsed": 549,
     "status": "ok",
     "timestamp": 1744047387205,
     "user": {
      "displayName": "Sam",
      "userId": "02456008665656849434"
     },
     "user_tz": 240
    },
    "id": "3MjeZdWf5AHe",
    "outputId": "5333c923-87f6-4000-96de-eb011612b340"
   },
   "outputs": [
    {
     "name": "stdout",
     "output_type": "stream",
     "text": [
      "Drive already mounted at /content/drive; to attempt to forcibly remount, call drive.mount(\"/content/drive\", force_remount=True).\n"
     ]
    },
    {
     "data": {
      "text/html": [
       "<div style=\"max-width:800px; border: 1px solid var(--colab-border-color);\"><style>\n",
       "      pre.function-repr-contents {\n",
       "        overflow-x: auto;\n",
       "        padding: 8px 12px;\n",
       "        max-height: 500px;\n",
       "      }\n",
       "\n",
       "      pre.function-repr-contents.function-repr-contents-collapsed {\n",
       "        cursor: pointer;\n",
       "        max-height: 100px;\n",
       "      }\n",
       "    </style>\n",
       "    <pre style=\"white-space: initial; background:\n",
       "         var(--colab-secondary-surface-color); padding: 8px 12px;\n",
       "         border-bottom: 1px solid var(--colab-border-color);\"><b>polars.config.Config</b><br/>def __call__(func)</pre><pre class=\"function-repr-contents function-repr-contents-collapsed\" style=\"\"><a class=\"filepath\" style=\"display:none\" href=\"#\">/usr/local/lib/python3.11/dist-packages/polars/config.py</a>Configure polars; offers options for table formatting and more.\n",
       "\n",
       "Notes\n",
       "-----\n",
       "Can also be used as a context manager OR a function decorator in order to\n",
       "temporarily scope the lifetime of specific options. For example:\n",
       "\n",
       "&gt;&gt;&gt; with pl.Config() as cfg:\n",
       "...     # set verbose for more detailed output within the scope\n",
       "...     cfg.set_verbose(True)  # doctest: +IGNORE_RESULT\n",
       "&gt;&gt;&gt; # scope exit - no longer in verbose mode\n",
       "\n",
       "This can also be written more compactly as:\n",
       "\n",
       "&gt;&gt;&gt; with pl.Config(verbose=True):\n",
       "...     pass\n",
       "\n",
       "(The compact format is available for all `Config` methods that take a single value).\n",
       "\n",
       "Alternatively, you can use as a decorator in order to scope the duration of the\n",
       "selected options to a specific function:\n",
       "\n",
       "&gt;&gt;&gt; @pl.Config(verbose=True)\n",
       "... def test():\n",
       "...     pass</pre>\n",
       "      <script>\n",
       "      if (google.colab.kernel.accessAllowed && google.colab.files && google.colab.files.view) {\n",
       "        for (const element of document.querySelectorAll('.filepath')) {\n",
       "          element.style.display = 'block'\n",
       "          element.onclick = (event) => {\n",
       "            event.preventDefault();\n",
       "            event.stopPropagation();\n",
       "            google.colab.files.view(element.textContent, 145);\n",
       "          };\n",
       "        }\n",
       "      }\n",
       "      for (const element of document.querySelectorAll('.function-repr-contents')) {\n",
       "        element.onclick = (event) => {\n",
       "          event.preventDefault();\n",
       "          event.stopPropagation();\n",
       "          element.classList.toggle('function-repr-contents-collapsed');\n",
       "        };\n",
       "      }\n",
       "      </script>\n",
       "      </div>"
      ],
      "text/plain": [
       "polars.config.Config"
      ]
     },
     "execution_count": 20,
     "metadata": {},
     "output_type": "execute_result"
    }
   ],
   "source": [
    "from pybaseball import statcast, statcast_fielding, retrosheet\n",
    "import polars as pl\n",
    "import pandas as pd\n",
    "import numpy as np\n",
    "import time\n",
    "import datetime\n",
    "\n",
    "from google.colab import drive\n",
    "drive.mount('/content/drive')\n",
    "\n",
    "pl.Config.set_tbl_cols(200)\n",
    "pl.Config.set_tbl_rows(200)"
   ]
  },
  {
   "cell_type": "code",
   "execution_count": null,
   "metadata": {
    "id": "KiYAjxP3USBC"
   },
   "outputs": [],
   "source": [
    "FILE_PATH = '/content/drive/My Drive/Betting Models/mlb/hits_model/'\n",
    "\n",
    "seasons = [\n",
    "    ('2021-04-01', '2021-11-02'),\n",
    "    ('2022-04-07', '2022-11-05'),\n",
    "    ('2023-03-30', '2023-11-01'),\n",
    "    ('2024-03-28', '2024-11-02'),\n",
    "]"
   ]
  },
  {
   "cell_type": "code",
   "execution_count": null,
   "metadata": {
    "collapsed": true,
    "id": "oV3kOzE05R4X"
   },
   "outputs": [],
   "source": [
    "RUN = False\n",
    "\n",
    "if RUN:\n",
    "    for season in seasons:\n",
    "        start_dt = season[0]\n",
    "        end_dt = season[1]\n",
    "\n",
    "        data = statcast(start_dt=start_dt, end_dt=end_dt, verbose=True)\n",
    "        pl_data = pl.from_pandas(data)\n",
    "        pl_data.write_parquet(f'{FILE_PATH}{start_dt[:4]}_statcast_data.parquet')\n",
    "        print('finished saving data to parquet')"
   ]
  },
  {
   "cell_type": "code",
   "execution_count": null,
   "metadata": {
    "id": "wutfhzqWcq6K"
   },
   "outputs": [],
   "source": [
    "# https://library.fangraphs.com/principles/sample-size/\n",
    "\n",
    "# https://plusevanalytics.wordpress.com/2021/02/26/building-a-bayesian-model-part-2/"
   ]
  },
  {
   "cell_type": "markdown",
   "metadata": {
    "id": "DIWx1J7dvn14"
   },
   "source": [
    "## Fetching Park Factors"
   ]
  },
  {
   "cell_type": "code",
   "execution_count": null,
   "metadata": {
    "colab": {
     "base_uri": "https://localhost:8080/",
     "height": 380
    },
    "executionInfo": {
     "elapsed": 125,
     "status": "ok",
     "timestamp": 1744042438634,
     "user": {
      "displayName": "Sam",
      "userId": "02456008665656849434"
     },
     "user_tz": 240
    },
    "id": "5SCYHrtJto0D",
    "outputId": "6ff758fa-d8e1-4460-8130-ad228a004b62"
   },
   "outputs": [
    {
     "name": "stdout",
     "output_type": "stream",
     "text": [
      "(49, 66)\n"
     ]
    },
    {
     "data": {
      "text/html": [
       "<div><style>\n",
       ".dataframe > thead > tr,\n",
       ".dataframe > tbody > tr {\n",
       "  text-align: right;\n",
       "  white-space: pre-wrap;\n",
       "}\n",
       "</style>\n",
       "<small>shape: (5, 66)</small><table border=\"1\" class=\"dataframe\"><thead><tr><th>grouping_venue_conditions</th><th>key_is_year_rolling</th><th>key_num_years_rolling</th><th>key_bat_side</th><th>venue_id</th><th>venue_name</th><th>main_team_id</th><th>name_display_club</th><th>metric_key</th><th>metric_value_2025</th><th>metric_value_2024</th><th>metric_value_2023</th><th>metric_value_2022</th><th>metric_value_2021</th><th>metric_value_2020</th><th>metric_value_2019</th><th>metric_value_2018</th><th>metric_value_2017</th><th>metric_value_2016</th><th>metric_value_2015</th><th>metric_value_2014</th><th>metric_value_2013</th><th>metric_value_2012</th><th>metric_value_2011</th><th>metric_value_2010</th><th>metric_value_2009</th><th>metric_value_2008</th><th>metric_value_2007</th><th>metric_value_2006</th><th>metric_value_2005</th><th>metric_value_2004</th><th>metric_value_2003</th><th>metric_value_2002</th><th>metric_value_2001</th><th>metric_value_2000</th><th>metric_value_1999</th><th>metric_value_1998</th><th>metric_value_1997</th><th>metric_value_1996</th><th>metric_value_1995</th><th>metric_value_1994</th><th>metric_value_1993</th><th>metric_value_1992</th><th>metric_value_1991</th><th>metric_value_1990</th><th>metric_value_1989</th><th>metric_value_1988</th><th>metric_value_1987</th><th>metric_value_1986</th><th>metric_value_1985</th><th>metric_value_1984</th><th>metric_value_1983</th><th>metric_value_1982</th><th>metric_value_1981</th><th>metric_value_1980</th><th>metric_value_1979</th><th>metric_value_1978</th><th>metric_value_1977</th><th>metric_value_1976</th><th>metric_value_1975</th><th>metric_value_1974</th><th>metric_value_1973</th><th>metric_value_1972</th><th>metric_value_1971</th><th>metric_value_1970</th><th>metric_value_1969</th></tr><tr><td>str</td><td>str</td><td>str</td><td>str</td><td>str</td><td>str</td><td>str</td><td>str</td><td>str</td><td>str</td><td>str</td><td>str</td><td>str</td><td>str</td><td>str</td><td>str</td><td>str</td><td>str</td><td>str</td><td>str</td><td>str</td><td>str</td><td>str</td><td>str</td><td>str</td><td>str</td><td>str</td><td>str</td><td>str</td><td>str</td><td>str</td><td>str</td><td>str</td><td>str</td><td>str</td><td>str</td><td>str</td><td>str</td><td>str</td><td>str</td><td>str</td><td>str</td><td>str</td><td>str</td><td>str</td><td>str</td><td>str</td><td>str</td><td>str</td><td>str</td><td>str</td><td>str</td><td>str</td><td>str</td><td>str</td><td>str</td><td>str</td><td>str</td><td>str</td><td>str</td><td>str</td><td>str</td><td>str</td><td>str</td><td>null</td><td>null</td></tr></thead><tbody><tr><td>&quot;All&quot;</td><td>&quot;1&quot;</td><td>&quot;3&quot;</td><td>&quot;All&quot;</td><td>&quot;1&quot;</td><td>&quot;Angel Stadium&quot;</td><td>&quot;108&quot;</td><td>&quot;Angels&quot;</td><td>&quot;index_wOBA&quot;</td><td>&quot;101&quot;</td><td>&quot;100&quot;</td><td>&quot;100&quot;</td><td>&quot;102&quot;</td><td>&quot;102&quot;</td><td>&quot;101&quot;</td><td>&quot;97&quot;</td><td>&quot;96&quot;</td><td>&quot;95&quot;</td><td>&quot;96&quot;</td><td>&quot;97&quot;</td><td>&quot;97&quot;</td><td>&quot;97&quot;</td><td>&quot;94&quot;</td><td>&quot;97&quot;</td><td>&quot;99&quot;</td><td>&quot;101&quot;</td><td>&quot;99&quot;</td><td>&quot;97&quot;</td><td>&quot;96&quot;</td><td>&quot;96&quot;</td><td>&quot;97&quot;</td><td>&quot;98&quot;</td><td>&quot;100&quot;</td><td>&quot;100&quot;</td><td>&quot;98&quot;</td><td>&quot;98&quot;</td><td>&quot;99&quot;</td><td>&quot;100&quot;</td><td>&quot;100&quot;</td><td>&quot;100&quot;</td><td>&quot;99&quot;</td><td>&quot;96&quot;</td><td>&quot;96&quot;</td><td>&quot;96&quot;</td><td>&quot;98&quot;</td><td>&quot;97&quot;</td><td>&quot;97&quot;</td><td>&quot;98&quot;</td><td>&quot;98&quot;</td><td>&quot;99&quot;</td><td>&quot;100&quot;</td><td>&quot;102&quot;</td><td>&quot;102&quot;</td><td>&quot;100&quot;</td><td>&quot;100&quot;</td><td>&quot;98&quot;</td><td>&quot;97&quot;</td><td>&quot;94&quot;</td><td>&quot;93&quot;</td><td>&quot;94&quot;</td><td>&quot;93&quot;</td><td>&quot;92&quot;</td><td>&quot;91&quot;</td><td>&quot;93&quot;</td><td>null</td><td>null</td></tr><tr><td>&quot;All&quot;</td><td>&quot;1&quot;</td><td>&quot;3&quot;</td><td>&quot;All&quot;</td><td>&quot;2&quot;</td><td>&quot;Oriole Park at Camden Yards&quot;</td><td>&quot;110&quot;</td><td>&quot;Orioles&quot;</td><td>&quot;index_wOBA&quot;</td><td>&quot;99&quot;</td><td>&quot;99&quot;</td><td>&quot;101&quot;</td><td>&quot;102&quot;</td><td>&quot;105&quot;</td><td>&quot;103&quot;</td><td>&quot;104&quot;</td><td>&quot;103&quot;</td><td>&quot;103&quot;</td><td>&quot;102&quot;</td><td>&quot;102&quot;</td><td>&quot;103&quot;</td><td>&quot;104&quot;</td><td>&quot;103&quot;</td><td>&quot;103&quot;</td><td>&quot;103&quot;</td><td>&quot;103&quot;</td><td>&quot;103&quot;</td><td>&quot;101&quot;</td><td>&quot;100&quot;</td><td>&quot;99&quot;</td><td>&quot;99&quot;</td><td>&quot;97&quot;</td><td>&quot;97&quot;</td><td>&quot;98&quot;</td><td>&quot;98&quot;</td><td>&quot;98&quot;</td><td>&quot;97&quot;</td><td>&quot;98&quot;</td><td>&quot;99&quot;</td><td>&quot;101&quot;</td><td>&quot;101&quot;</td><td>null</td><td>null</td><td>null</td><td>null</td><td>null</td><td>null</td><td>null</td><td>null</td><td>null</td><td>null</td><td>null</td><td>null</td><td>null</td><td>null</td><td>null</td><td>null</td><td>null</td><td>null</td><td>null</td><td>null</td><td>null</td><td>null</td><td>null</td><td>null</td><td>null</td></tr><tr><td>&quot;All&quot;</td><td>&quot;1&quot;</td><td>&quot;3&quot;</td><td>&quot;All&quot;</td><td>&quot;3&quot;</td><td>&quot;Fenway Park&quot;</td><td>&quot;111&quot;</td><td>&quot;Red Sox&quot;</td><td>&quot;index_wOBA&quot;</td><td>&quot;105&quot;</td><td>&quot;107&quot;</td><td>&quot;108&quot;</td><td>&quot;109&quot;</td><td>&quot;107&quot;</td><td>&quot;105&quot;</td><td>&quot;102&quot;</td><td>&quot;104&quot;</td><td>&quot;105&quot;</td><td>&quot;106&quot;</td><td>&quot;104&quot;</td><td>&quot;104&quot;</td><td>&quot;105&quot;</td><td>&quot;106&quot;</td><td>&quot;106&quot;</td><td>&quot;104&quot;</td><td>&quot;104&quot;</td><td>&quot;103&quot;</td><td>&quot;102&quot;</td><td>&quot;104&quot;</td><td>&quot;105&quot;</td><td>&quot;103&quot;</td><td>&quot;102&quot;</td><td>&quot;98&quot;</td><td>&quot;99&quot;</td><td>&quot;100&quot;</td><td>&quot;102&quot;</td><td>&quot;104&quot;</td><td>&quot;105&quot;</td><td>&quot;104&quot;</td><td>&quot;103&quot;</td><td>&quot;103&quot;</td><td>&quot;103&quot;</td><td>&quot;104&quot;</td><td>&quot;106&quot;</td><td>&quot;108&quot;</td><td>&quot;106&quot;</td><td>&quot;104&quot;</td><td>&quot;103&quot;</td><td>&quot;106&quot;</td><td>&quot;108&quot;</td><td>&quot;108&quot;</td><td>&quot;108&quot;</td><td>&quot;108&quot;</td><td>&quot;108&quot;</td><td>&quot;108&quot;</td><td>&quot;111&quot;</td><td>&quot;111&quot;</td><td>&quot;111&quot;</td><td>&quot;108&quot;</td><td>&quot;106&quot;</td><td>&quot;107&quot;</td><td>&quot;109&quot;</td><td>&quot;111&quot;</td><td>&quot;111&quot;</td><td>null</td><td>null</td></tr><tr><td>&quot;All&quot;</td><td>&quot;1&quot;</td><td>&quot;3&quot;</td><td>&quot;All&quot;</td><td>&quot;4&quot;</td><td>&quot;Rate Field&quot;</td><td>&quot;145&quot;</td><td>&quot;White Sox&quot;</td><td>&quot;index_wOBA&quot;</td><td>&quot;98&quot;</td><td>&quot;99&quot;</td><td>&quot;100&quot;</td><td>&quot;101&quot;</td><td>&quot;100&quot;</td><td>&quot;99&quot;</td><td>&quot;100&quot;</td><td>&quot;100&quot;</td><td>&quot;99&quot;</td><td>&quot;99&quot;</td><td>&quot;99&quot;</td><td>&quot;102&quot;</td><td>&quot;101&quot;</td><td>&quot;103&quot;</td><td>&quot;100&quot;</td><td>&quot;102&quot;</td><td>&quot;100&quot;</td><td>&quot;101&quot;</td><td>&quot;101&quot;</td><td>&quot;103&quot;</td><td>&quot;102&quot;</td><td>&quot;103&quot;</td><td>&quot;101&quot;</td><td>&quot;103&quot;</td><td>&quot;101&quot;</td><td>&quot;101&quot;</td><td>&quot;99&quot;</td><td>&quot;98&quot;</td><td>&quot;97&quot;</td><td>&quot;96&quot;</td><td>&quot;98&quot;</td><td>&quot;97&quot;</td><td>&quot;98&quot;</td><td>null</td><td>null</td><td>null</td><td>null</td><td>null</td><td>null</td><td>null</td><td>null</td><td>null</td><td>null</td><td>null</td><td>null</td><td>null</td><td>null</td><td>null</td><td>null</td><td>null</td><td>null</td><td>null</td><td>null</td><td>null</td><td>null</td><td>null</td><td>null</td></tr><tr><td>&quot;All&quot;</td><td>&quot;1&quot;</td><td>&quot;3&quot;</td><td>&quot;All&quot;</td><td>&quot;5&quot;</td><td>&quot;Progressive Field&quot;</td><td>&quot;114&quot;</td><td>&quot;Guardians&quot;</td><td>&quot;index_wOBA&quot;</td><td>null</td><td>&quot;97&quot;</td><td>&quot;97&quot;</td><td>&quot;98&quot;</td><td>&quot;99&quot;</td><td>&quot;100&quot;</td><td>&quot;98&quot;</td><td>&quot;101&quot;</td><td>&quot;102&quot;</td><td>&quot;102&quot;</td><td>&quot;100&quot;</td><td>&quot;99&quot;</td><td>&quot;98&quot;</td><td>&quot;98&quot;</td><td>&quot;98&quot;</td><td>&quot;99&quot;</td><td>&quot;100&quot;</td><td>&quot;100&quot;</td><td>&quot;99&quot;</td><td>&quot;99&quot;</td><td>&quot;96&quot;</td><td>&quot;98&quot;</td><td>&quot;99&quot;</td><td>&quot;102&quot;</td><td>&quot;104&quot;</td><td>&quot;104&quot;</td><td>&quot;103&quot;</td><td>&quot;102&quot;</td><td>&quot;100&quot;</td><td>&quot;100&quot;</td><td>null</td><td>null</td><td>null</td><td>null</td><td>null</td><td>null</td><td>null</td><td>null</td><td>null</td><td>null</td><td>null</td><td>null</td><td>null</td><td>null</td><td>null</td><td>null</td><td>null</td><td>null</td><td>null</td><td>null</td><td>null</td><td>null</td><td>null</td><td>null</td><td>null</td><td>null</td><td>null</td></tr></tbody></table></div>"
      ],
      "text/plain": [
       "shape: (5, 66)\n",
       "┌─────┬─────┬─────┬─────┬─────┬─────┬─────┬─────┬─────┬─────┬─────┬─────┬─────┬─────┬─────┬─────┬─────┬─────┬─────┬─────┬─────┬─────┬─────┬─────┬─────┬─────┬─────┬─────┬─────┬─────┬─────┬─────┬─────┬─────┬─────┬─────┬─────┬─────┬─────┬─────┬─────┬─────┬─────┬─────┬─────┬─────┬─────┬─────┬─────┬─────┬─────┬─────┬─────┬─────┬─────┬─────┬─────┬─────┬─────┬─────┬─────┬─────┬─────┬─────┬─────┬─────┐\n",
       "│ gro ┆ key ┆ key ┆ key ┆ ven ┆ ven ┆ mai ┆ nam ┆ met ┆ met ┆ met ┆ met ┆ met ┆ met ┆ met ┆ met ┆ met ┆ met ┆ met ┆ met ┆ met ┆ met ┆ met ┆ met ┆ met ┆ met ┆ met ┆ met ┆ met ┆ met ┆ met ┆ met ┆ met ┆ met ┆ met ┆ met ┆ met ┆ met ┆ met ┆ met ┆ met ┆ met ┆ met ┆ met ┆ met ┆ met ┆ met ┆ met ┆ met ┆ met ┆ met ┆ met ┆ met ┆ met ┆ met ┆ met ┆ met ┆ met ┆ met ┆ met ┆ met ┆ met ┆ met ┆ met ┆ met ┆ met │\n",
       "│ upi ┆ _is ┆ _nu ┆ _ba ┆ ue_ ┆ ue_ ┆ n_t ┆ e_d ┆ ric ┆ ric ┆ ric ┆ ric ┆ ric ┆ ric ┆ ric ┆ ric ┆ ric ┆ ric ┆ ric ┆ ric ┆ ric ┆ ric ┆ ric ┆ ric ┆ ric ┆ ric ┆ ric ┆ ric ┆ ric ┆ ric ┆ ric ┆ ric ┆ ric ┆ ric ┆ ric ┆ ric ┆ ric ┆ ric ┆ ric ┆ ric ┆ ric ┆ ric ┆ ric ┆ ric ┆ ric ┆ ric ┆ ric ┆ ric ┆ ric ┆ ric ┆ ric ┆ ric ┆ ric ┆ ric ┆ ric ┆ ric ┆ ric ┆ ric ┆ ric ┆ ric ┆ ric ┆ ric ┆ ric ┆ ric ┆ ric ┆ ric │\n",
       "│ ng_ ┆ _ye ┆ m_y ┆ t_s ┆ id  ┆ nam ┆ eam ┆ isp ┆ _ke ┆ _va ┆ _va ┆ _va ┆ _va ┆ _va ┆ _va ┆ _va ┆ _va ┆ _va ┆ _va ┆ _va ┆ _va ┆ _va ┆ _va ┆ _va ┆ _va ┆ _va ┆ _va ┆ _va ┆ _va ┆ _va ┆ _va ┆ _va ┆ _va ┆ _va ┆ _va ┆ _va ┆ _va ┆ _va ┆ _va ┆ _va ┆ _va ┆ _va ┆ _va ┆ _va ┆ _va ┆ _va ┆ _va ┆ _va ┆ _va ┆ _va ┆ _va ┆ _va ┆ _va ┆ _va ┆ _va ┆ _va ┆ _va ┆ _va ┆ _va ┆ _va ┆ _va ┆ _va ┆ _va ┆ _va ┆ _va ┆ _va │\n",
       "│ ven ┆ ar_ ┆ ear ┆ ide ┆ --- ┆ e   ┆ _id ┆ lay ┆ y   ┆ lue ┆ lue ┆ lue ┆ lue ┆ lue ┆ lue ┆ lue ┆ lue ┆ lue ┆ lue ┆ lue ┆ lue ┆ lue ┆ lue ┆ lue ┆ lue ┆ lue ┆ lue ┆ lue ┆ lue ┆ lue ┆ lue ┆ lue ┆ lue ┆ lue ┆ lue ┆ lue ┆ lue ┆ lue ┆ lue ┆ lue ┆ lue ┆ lue ┆ lue ┆ lue ┆ lue ┆ lue ┆ lue ┆ lue ┆ lue ┆ lue ┆ lue ┆ lue ┆ lue ┆ lue ┆ lue ┆ lue ┆ lue ┆ lue ┆ lue ┆ lue ┆ lue ┆ lue ┆ lue ┆ lue ┆ lue ┆ lue │\n",
       "│ ue_ ┆ rol ┆ s_r ┆ --- ┆ str ┆ --- ┆ --- ┆ _cl ┆ --- ┆ _20 ┆ _20 ┆ _20 ┆ _20 ┆ _20 ┆ _20 ┆ _20 ┆ _20 ┆ _20 ┆ _20 ┆ _20 ┆ _20 ┆ _20 ┆ _20 ┆ _20 ┆ _20 ┆ _20 ┆ _20 ┆ _20 ┆ _20 ┆ _20 ┆ _20 ┆ _20 ┆ _20 ┆ _20 ┆ _20 ┆ _19 ┆ _19 ┆ _19 ┆ _19 ┆ _19 ┆ _19 ┆ _19 ┆ _19 ┆ _19 ┆ _19 ┆ _19 ┆ _19 ┆ _19 ┆ _19 ┆ _19 ┆ _19 ┆ _19 ┆ _19 ┆ _19 ┆ _19 ┆ _19 ┆ _19 ┆ _19 ┆ _19 ┆ _19 ┆ _19 ┆ _19 ┆ _19 ┆ _19 ┆ _19 ┆ _19 │\n",
       "│ con ┆ lin ┆ oll ┆ str ┆     ┆ str ┆ str ┆ ub  ┆ str ┆ 25  ┆ 24  ┆ 23  ┆ 22  ┆ 21  ┆ 20  ┆ 19  ┆ 18  ┆ 17  ┆ 16  ┆ 15  ┆ 14  ┆ 13  ┆ 12  ┆ 11  ┆ 10  ┆ 09  ┆ 08  ┆ 07  ┆ 06  ┆ 05  ┆ 04  ┆ 03  ┆ 02  ┆ 01  ┆ 00  ┆ 99  ┆ 98  ┆ 97  ┆ 96  ┆ 95  ┆ 94  ┆ 93  ┆ 92  ┆ 91  ┆ 90  ┆ 89  ┆ 88  ┆ 87  ┆ 86  ┆ 85  ┆ 84  ┆ 83  ┆ 82  ┆ 81  ┆ 80  ┆ 79  ┆ 78  ┆ 77  ┆ 76  ┆ 75  ┆ 74  ┆ 73  ┆ 72  ┆ 71  ┆ 70  ┆ 69  │\n",
       "│ dit ┆ g   ┆ ing ┆     ┆     ┆     ┆     ┆ --- ┆     ┆ --- ┆ --- ┆ --- ┆ --- ┆ --- ┆ --- ┆ --- ┆ --- ┆ --- ┆ --- ┆ --- ┆ --- ┆ --- ┆ --- ┆ --- ┆ --- ┆ --- ┆ --- ┆ --- ┆ --- ┆ --- ┆ --- ┆ --- ┆ --- ┆ --- ┆ --- ┆ --- ┆ --- ┆ --- ┆ --- ┆ --- ┆ --- ┆ --- ┆ --- ┆ --- ┆ --- ┆ --- ┆ --- ┆ --- ┆ --- ┆ --- ┆ --- ┆ --- ┆ --- ┆ --- ┆ --- ┆ --- ┆ --- ┆ --- ┆ --- ┆ --- ┆ --- ┆ --- ┆ --- ┆ --- ┆ --- ┆ --- │\n",
       "│ ion ┆ --- ┆ --- ┆     ┆     ┆     ┆     ┆ str ┆     ┆ str ┆ str ┆ str ┆ str ┆ str ┆ str ┆ str ┆ str ┆ str ┆ str ┆ str ┆ str ┆ str ┆ str ┆ str ┆ str ┆ str ┆ str ┆ str ┆ str ┆ str ┆ str ┆ str ┆ str ┆ str ┆ str ┆ str ┆ str ┆ str ┆ str ┆ str ┆ str ┆ str ┆ str ┆ str ┆ str ┆ str ┆ str ┆ str ┆ str ┆ str ┆ str ┆ str ┆ str ┆ str ┆ str ┆ str ┆ str ┆ str ┆ str ┆ str ┆ str ┆ str ┆ str ┆ str ┆ nul ┆ nul │\n",
       "│ s   ┆ str ┆ str ┆     ┆     ┆     ┆     ┆     ┆     ┆     ┆     ┆     ┆     ┆     ┆     ┆     ┆     ┆     ┆     ┆     ┆     ┆     ┆     ┆     ┆     ┆     ┆     ┆     ┆     ┆     ┆     ┆     ┆     ┆     ┆     ┆     ┆     ┆     ┆     ┆     ┆     ┆     ┆     ┆     ┆     ┆     ┆     ┆     ┆     ┆     ┆     ┆     ┆     ┆     ┆     ┆     ┆     ┆     ┆     ┆     ┆     ┆     ┆     ┆     ┆ l   ┆ l   │\n",
       "│ --- ┆     ┆     ┆     ┆     ┆     ┆     ┆     ┆     ┆     ┆     ┆     ┆     ┆     ┆     ┆     ┆     ┆     ┆     ┆     ┆     ┆     ┆     ┆     ┆     ┆     ┆     ┆     ┆     ┆     ┆     ┆     ┆     ┆     ┆     ┆     ┆     ┆     ┆     ┆     ┆     ┆     ┆     ┆     ┆     ┆     ┆     ┆     ┆     ┆     ┆     ┆     ┆     ┆     ┆     ┆     ┆     ┆     ┆     ┆     ┆     ┆     ┆     ┆     ┆     ┆     │\n",
       "│ str ┆     ┆     ┆     ┆     ┆     ┆     ┆     ┆     ┆     ┆     ┆     ┆     ┆     ┆     ┆     ┆     ┆     ┆     ┆     ┆     ┆     ┆     ┆     ┆     ┆     ┆     ┆     ┆     ┆     ┆     ┆     ┆     ┆     ┆     ┆     ┆     ┆     ┆     ┆     ┆     ┆     ┆     ┆     ┆     ┆     ┆     ┆     ┆     ┆     ┆     ┆     ┆     ┆     ┆     ┆     ┆     ┆     ┆     ┆     ┆     ┆     ┆     ┆     ┆     ┆     │\n",
       "╞═════╪═════╪═════╪═════╪═════╪═════╪═════╪═════╪═════╪═════╪═════╪═════╪═════╪═════╪═════╪═════╪═════╪═════╪═════╪═════╪═════╪═════╪═════╪═════╪═════╪═════╪═════╪═════╪═════╪═════╪═════╪═════╪═════╪═════╪═════╪═════╪═════╪═════╪═════╪═════╪═════╪═════╪═════╪═════╪═════╪═════╪═════╪═════╪═════╪═════╪═════╪═════╪═════╪═════╪═════╪═════╪═════╪═════╪═════╪═════╪═════╪═════╪═════╪═════╪═════╪═════╡\n",
       "│ All ┆ 1   ┆ 3   ┆ All ┆ 1   ┆ Ang ┆ 108 ┆ Ang ┆ ind ┆ 101 ┆ 100 ┆ 100 ┆ 102 ┆ 102 ┆ 101 ┆ 97  ┆ 96  ┆ 95  ┆ 96  ┆ 97  ┆ 97  ┆ 97  ┆ 94  ┆ 97  ┆ 99  ┆ 101 ┆ 99  ┆ 97  ┆ 96  ┆ 96  ┆ 97  ┆ 98  ┆ 100 ┆ 100 ┆ 98  ┆ 98  ┆ 99  ┆ 100 ┆ 100 ┆ 100 ┆ 99  ┆ 96  ┆ 96  ┆ 96  ┆ 98  ┆ 97  ┆ 97  ┆ 98  ┆ 98  ┆ 99  ┆ 100 ┆ 102 ┆ 102 ┆ 100 ┆ 100 ┆ 98  ┆ 97  ┆ 94  ┆ 93  ┆ 94  ┆ 93  ┆ 92  ┆ 91  ┆ 93  ┆ nul ┆ nul │\n",
       "│     ┆     ┆     ┆     ┆     ┆ el  ┆     ┆ els ┆ ex_ ┆     ┆     ┆     ┆     ┆     ┆     ┆     ┆     ┆     ┆     ┆     ┆     ┆     ┆     ┆     ┆     ┆     ┆     ┆     ┆     ┆     ┆     ┆     ┆     ┆     ┆     ┆     ┆     ┆     ┆     ┆     ┆     ┆     ┆     ┆     ┆     ┆     ┆     ┆     ┆     ┆     ┆     ┆     ┆     ┆     ┆     ┆     ┆     ┆     ┆     ┆     ┆     ┆     ┆     ┆     ┆ l   ┆ l   │\n",
       "│     ┆     ┆     ┆     ┆     ┆ Sta ┆     ┆     ┆ wOB ┆     ┆     ┆     ┆     ┆     ┆     ┆     ┆     ┆     ┆     ┆     ┆     ┆     ┆     ┆     ┆     ┆     ┆     ┆     ┆     ┆     ┆     ┆     ┆     ┆     ┆     ┆     ┆     ┆     ┆     ┆     ┆     ┆     ┆     ┆     ┆     ┆     ┆     ┆     ┆     ┆     ┆     ┆     ┆     ┆     ┆     ┆     ┆     ┆     ┆     ┆     ┆     ┆     ┆     ┆     ┆     ┆     │\n",
       "│     ┆     ┆     ┆     ┆     ┆ diu ┆     ┆     ┆ A   ┆     ┆     ┆     ┆     ┆     ┆     ┆     ┆     ┆     ┆     ┆     ┆     ┆     ┆     ┆     ┆     ┆     ┆     ┆     ┆     ┆     ┆     ┆     ┆     ┆     ┆     ┆     ┆     ┆     ┆     ┆     ┆     ┆     ┆     ┆     ┆     ┆     ┆     ┆     ┆     ┆     ┆     ┆     ┆     ┆     ┆     ┆     ┆     ┆     ┆     ┆     ┆     ┆     ┆     ┆     ┆     ┆     │\n",
       "│     ┆     ┆     ┆     ┆     ┆ m   ┆     ┆     ┆     ┆     ┆     ┆     ┆     ┆     ┆     ┆     ┆     ┆     ┆     ┆     ┆     ┆     ┆     ┆     ┆     ┆     ┆     ┆     ┆     ┆     ┆     ┆     ┆     ┆     ┆     ┆     ┆     ┆     ┆     ┆     ┆     ┆     ┆     ┆     ┆     ┆     ┆     ┆     ┆     ┆     ┆     ┆     ┆     ┆     ┆     ┆     ┆     ┆     ┆     ┆     ┆     ┆     ┆     ┆     ┆     ┆     │\n",
       "│ All ┆ 1   ┆ 3   ┆ All ┆ 2   ┆ Ori ┆ 110 ┆ Ori ┆ ind ┆ 99  ┆ 99  ┆ 101 ┆ 102 ┆ 105 ┆ 103 ┆ 104 ┆ 103 ┆ 103 ┆ 102 ┆ 102 ┆ 103 ┆ 104 ┆ 103 ┆ 103 ┆ 103 ┆ 103 ┆ 103 ┆ 101 ┆ 100 ┆ 99  ┆ 99  ┆ 97  ┆ 97  ┆ 98  ┆ 98  ┆ 98  ┆ 97  ┆ 98  ┆ 99  ┆ 101 ┆ 101 ┆ nul ┆ nul ┆ nul ┆ nul ┆ nul ┆ nul ┆ nul ┆ nul ┆ nul ┆ nul ┆ nul ┆ nul ┆ nul ┆ nul ┆ nul ┆ nul ┆ nul ┆ nul ┆ nul ┆ nul ┆ nul ┆ nul ┆ nul ┆ nul ┆ nul │\n",
       "│     ┆     ┆     ┆     ┆     ┆ ole ┆     ┆ ole ┆ ex_ ┆     ┆     ┆     ┆     ┆     ┆     ┆     ┆     ┆     ┆     ┆     ┆     ┆     ┆     ┆     ┆     ┆     ┆     ┆     ┆     ┆     ┆     ┆     ┆     ┆     ┆     ┆     ┆     ┆     ┆     ┆     ┆     ┆ l   ┆ l   ┆ l   ┆ l   ┆ l   ┆ l   ┆ l   ┆ l   ┆ l   ┆ l   ┆ l   ┆ l   ┆ l   ┆ l   ┆ l   ┆ l   ┆ l   ┆ l   ┆ l   ┆ l   ┆ l   ┆ l   ┆ l   ┆ l   ┆ l   │\n",
       "│     ┆     ┆     ┆     ┆     ┆ Par ┆     ┆ s   ┆ wOB ┆     ┆     ┆     ┆     ┆     ┆     ┆     ┆     ┆     ┆     ┆     ┆     ┆     ┆     ┆     ┆     ┆     ┆     ┆     ┆     ┆     ┆     ┆     ┆     ┆     ┆     ┆     ┆     ┆     ┆     ┆     ┆     ┆     ┆     ┆     ┆     ┆     ┆     ┆     ┆     ┆     ┆     ┆     ┆     ┆     ┆     ┆     ┆     ┆     ┆     ┆     ┆     ┆     ┆     ┆     ┆     ┆     │\n",
       "│     ┆     ┆     ┆     ┆     ┆ k   ┆     ┆     ┆ A   ┆     ┆     ┆     ┆     ┆     ┆     ┆     ┆     ┆     ┆     ┆     ┆     ┆     ┆     ┆     ┆     ┆     ┆     ┆     ┆     ┆     ┆     ┆     ┆     ┆     ┆     ┆     ┆     ┆     ┆     ┆     ┆     ┆     ┆     ┆     ┆     ┆     ┆     ┆     ┆     ┆     ┆     ┆     ┆     ┆     ┆     ┆     ┆     ┆     ┆     ┆     ┆     ┆     ┆     ┆     ┆     ┆     │\n",
       "│     ┆     ┆     ┆     ┆     ┆ at  ┆     ┆     ┆     ┆     ┆     ┆     ┆     ┆     ┆     ┆     ┆     ┆     ┆     ┆     ┆     ┆     ┆     ┆     ┆     ┆     ┆     ┆     ┆     ┆     ┆     ┆     ┆     ┆     ┆     ┆     ┆     ┆     ┆     ┆     ┆     ┆     ┆     ┆     ┆     ┆     ┆     ┆     ┆     ┆     ┆     ┆     ┆     ┆     ┆     ┆     ┆     ┆     ┆     ┆     ┆     ┆     ┆     ┆     ┆     ┆     │\n",
       "│     ┆     ┆     ┆     ┆     ┆ Cam ┆     ┆     ┆     ┆     ┆     ┆     ┆     ┆     ┆     ┆     ┆     ┆     ┆     ┆     ┆     ┆     ┆     ┆     ┆     ┆     ┆     ┆     ┆     ┆     ┆     ┆     ┆     ┆     ┆     ┆     ┆     ┆     ┆     ┆     ┆     ┆     ┆     ┆     ┆     ┆     ┆     ┆     ┆     ┆     ┆     ┆     ┆     ┆     ┆     ┆     ┆     ┆     ┆     ┆     ┆     ┆     ┆     ┆     ┆     ┆     │\n",
       "│     ┆     ┆     ┆     ┆     ┆ den ┆     ┆     ┆     ┆     ┆     ┆     ┆     ┆     ┆     ┆     ┆     ┆     ┆     ┆     ┆     ┆     ┆     ┆     ┆     ┆     ┆     ┆     ┆     ┆     ┆     ┆     ┆     ┆     ┆     ┆     ┆     ┆     ┆     ┆     ┆     ┆     ┆     ┆     ┆     ┆     ┆     ┆     ┆     ┆     ┆     ┆     ┆     ┆     ┆     ┆     ┆     ┆     ┆     ┆     ┆     ┆     ┆     ┆     ┆     ┆     │\n",
       "│     ┆     ┆     ┆     ┆     ┆ Yar ┆     ┆     ┆     ┆     ┆     ┆     ┆     ┆     ┆     ┆     ┆     ┆     ┆     ┆     ┆     ┆     ┆     ┆     ┆     ┆     ┆     ┆     ┆     ┆     ┆     ┆     ┆     ┆     ┆     ┆     ┆     ┆     ┆     ┆     ┆     ┆     ┆     ┆     ┆     ┆     ┆     ┆     ┆     ┆     ┆     ┆     ┆     ┆     ┆     ┆     ┆     ┆     ┆     ┆     ┆     ┆     ┆     ┆     ┆     ┆     │\n",
       "│     ┆     ┆     ┆     ┆     ┆ ds  ┆     ┆     ┆     ┆     ┆     ┆     ┆     ┆     ┆     ┆     ┆     ┆     ┆     ┆     ┆     ┆     ┆     ┆     ┆     ┆     ┆     ┆     ┆     ┆     ┆     ┆     ┆     ┆     ┆     ┆     ┆     ┆     ┆     ┆     ┆     ┆     ┆     ┆     ┆     ┆     ┆     ┆     ┆     ┆     ┆     ┆     ┆     ┆     ┆     ┆     ┆     ┆     ┆     ┆     ┆     ┆     ┆     ┆     ┆     ┆     │\n",
       "│ All ┆ 1   ┆ 3   ┆ All ┆ 3   ┆ Fen ┆ 111 ┆ Red ┆ ind ┆ 105 ┆ 107 ┆ 108 ┆ 109 ┆ 107 ┆ 105 ┆ 102 ┆ 104 ┆ 105 ┆ 106 ┆ 104 ┆ 104 ┆ 105 ┆ 106 ┆ 106 ┆ 104 ┆ 104 ┆ 103 ┆ 102 ┆ 104 ┆ 105 ┆ 103 ┆ 102 ┆ 98  ┆ 99  ┆ 100 ┆ 102 ┆ 104 ┆ 105 ┆ 104 ┆ 103 ┆ 103 ┆ 103 ┆ 104 ┆ 106 ┆ 108 ┆ 106 ┆ 104 ┆ 103 ┆ 106 ┆ 108 ┆ 108 ┆ 108 ┆ 108 ┆ 108 ┆ 108 ┆ 111 ┆ 111 ┆ 111 ┆ 108 ┆ 106 ┆ 107 ┆ 109 ┆ 111 ┆ 111 ┆ nul ┆ nul │\n",
       "│     ┆     ┆     ┆     ┆     ┆ way ┆     ┆ Sox ┆ ex_ ┆     ┆     ┆     ┆     ┆     ┆     ┆     ┆     ┆     ┆     ┆     ┆     ┆     ┆     ┆     ┆     ┆     ┆     ┆     ┆     ┆     ┆     ┆     ┆     ┆     ┆     ┆     ┆     ┆     ┆     ┆     ┆     ┆     ┆     ┆     ┆     ┆     ┆     ┆     ┆     ┆     ┆     ┆     ┆     ┆     ┆     ┆     ┆     ┆     ┆     ┆     ┆     ┆     ┆     ┆     ┆ l   ┆ l   │\n",
       "│     ┆     ┆     ┆     ┆     ┆ Par ┆     ┆     ┆ wOB ┆     ┆     ┆     ┆     ┆     ┆     ┆     ┆     ┆     ┆     ┆     ┆     ┆     ┆     ┆     ┆     ┆     ┆     ┆     ┆     ┆     ┆     ┆     ┆     ┆     ┆     ┆     ┆     ┆     ┆     ┆     ┆     ┆     ┆     ┆     ┆     ┆     ┆     ┆     ┆     ┆     ┆     ┆     ┆     ┆     ┆     ┆     ┆     ┆     ┆     ┆     ┆     ┆     ┆     ┆     ┆     ┆     │\n",
       "│     ┆     ┆     ┆     ┆     ┆ k   ┆     ┆     ┆ A   ┆     ┆     ┆     ┆     ┆     ┆     ┆     ┆     ┆     ┆     ┆     ┆     ┆     ┆     ┆     ┆     ┆     ┆     ┆     ┆     ┆     ┆     ┆     ┆     ┆     ┆     ┆     ┆     ┆     ┆     ┆     ┆     ┆     ┆     ┆     ┆     ┆     ┆     ┆     ┆     ┆     ┆     ┆     ┆     ┆     ┆     ┆     ┆     ┆     ┆     ┆     ┆     ┆     ┆     ┆     ┆     ┆     │\n",
       "│ All ┆ 1   ┆ 3   ┆ All ┆ 4   ┆ Rat ┆ 145 ┆ Whi ┆ ind ┆ 98  ┆ 99  ┆ 100 ┆ 101 ┆ 100 ┆ 99  ┆ 100 ┆ 100 ┆ 99  ┆ 99  ┆ 99  ┆ 102 ┆ 101 ┆ 103 ┆ 100 ┆ 102 ┆ 100 ┆ 101 ┆ 101 ┆ 103 ┆ 102 ┆ 103 ┆ 101 ┆ 103 ┆ 101 ┆ 101 ┆ 99  ┆ 98  ┆ 97  ┆ 96  ┆ 98  ┆ 97  ┆ 98  ┆ nul ┆ nul ┆ nul ┆ nul ┆ nul ┆ nul ┆ nul ┆ nul ┆ nul ┆ nul ┆ nul ┆ nul ┆ nul ┆ nul ┆ nul ┆ nul ┆ nul ┆ nul ┆ nul ┆ nul ┆ nul ┆ nul ┆ nul ┆ nul │\n",
       "│     ┆     ┆     ┆     ┆     ┆ e   ┆     ┆ te  ┆ ex_ ┆     ┆     ┆     ┆     ┆     ┆     ┆     ┆     ┆     ┆     ┆     ┆     ┆     ┆     ┆     ┆     ┆     ┆     ┆     ┆     ┆     ┆     ┆     ┆     ┆     ┆     ┆     ┆     ┆     ┆     ┆     ┆     ┆     ┆ l   ┆ l   ┆ l   ┆ l   ┆ l   ┆ l   ┆ l   ┆ l   ┆ l   ┆ l   ┆ l   ┆ l   ┆ l   ┆ l   ┆ l   ┆ l   ┆ l   ┆ l   ┆ l   ┆ l   ┆ l   ┆ l   ┆ l   ┆ l   │\n",
       "│     ┆     ┆     ┆     ┆     ┆ Fie ┆     ┆ Sox ┆ wOB ┆     ┆     ┆     ┆     ┆     ┆     ┆     ┆     ┆     ┆     ┆     ┆     ┆     ┆     ┆     ┆     ┆     ┆     ┆     ┆     ┆     ┆     ┆     ┆     ┆     ┆     ┆     ┆     ┆     ┆     ┆     ┆     ┆     ┆     ┆     ┆     ┆     ┆     ┆     ┆     ┆     ┆     ┆     ┆     ┆     ┆     ┆     ┆     ┆     ┆     ┆     ┆     ┆     ┆     ┆     ┆     ┆     │\n",
       "│     ┆     ┆     ┆     ┆     ┆ ld  ┆     ┆     ┆ A   ┆     ┆     ┆     ┆     ┆     ┆     ┆     ┆     ┆     ┆     ┆     ┆     ┆     ┆     ┆     ┆     ┆     ┆     ┆     ┆     ┆     ┆     ┆     ┆     ┆     ┆     ┆     ┆     ┆     ┆     ┆     ┆     ┆     ┆     ┆     ┆     ┆     ┆     ┆     ┆     ┆     ┆     ┆     ┆     ┆     ┆     ┆     ┆     ┆     ┆     ┆     ┆     ┆     ┆     ┆     ┆     ┆     │\n",
       "│ All ┆ 1   ┆ 3   ┆ All ┆ 5   ┆ Pro ┆ 114 ┆ Gua ┆ ind ┆ nul ┆ 97  ┆ 97  ┆ 98  ┆ 99  ┆ 100 ┆ 98  ┆ 101 ┆ 102 ┆ 102 ┆ 100 ┆ 99  ┆ 98  ┆ 98  ┆ 98  ┆ 99  ┆ 100 ┆ 100 ┆ 99  ┆ 99  ┆ 96  ┆ 98  ┆ 99  ┆ 102 ┆ 104 ┆ 104 ┆ 103 ┆ 102 ┆ 100 ┆ 100 ┆ nul ┆ nul ┆ nul ┆ nul ┆ nul ┆ nul ┆ nul ┆ nul ┆ nul ┆ nul ┆ nul ┆ nul ┆ nul ┆ nul ┆ nul ┆ nul ┆ nul ┆ nul ┆ nul ┆ nul ┆ nul ┆ nul ┆ nul ┆ nul ┆ nul ┆ nul ┆ nul │\n",
       "│     ┆     ┆     ┆     ┆     ┆ gre ┆     ┆ rdi ┆ ex_ ┆ l   ┆     ┆     ┆     ┆     ┆     ┆     ┆     ┆     ┆     ┆     ┆     ┆     ┆     ┆     ┆     ┆     ┆     ┆     ┆     ┆     ┆     ┆     ┆     ┆     ┆     ┆     ┆     ┆     ┆     ┆ l   ┆ l   ┆ l   ┆ l   ┆ l   ┆ l   ┆ l   ┆ l   ┆ l   ┆ l   ┆ l   ┆ l   ┆ l   ┆ l   ┆ l   ┆ l   ┆ l   ┆ l   ┆ l   ┆ l   ┆ l   ┆ l   ┆ l   ┆ l   ┆ l   ┆ l   ┆ l   │\n",
       "│     ┆     ┆     ┆     ┆     ┆ ssi ┆     ┆ ans ┆ wOB ┆     ┆     ┆     ┆     ┆     ┆     ┆     ┆     ┆     ┆     ┆     ┆     ┆     ┆     ┆     ┆     ┆     ┆     ┆     ┆     ┆     ┆     ┆     ┆     ┆     ┆     ┆     ┆     ┆     ┆     ┆     ┆     ┆     ┆     ┆     ┆     ┆     ┆     ┆     ┆     ┆     ┆     ┆     ┆     ┆     ┆     ┆     ┆     ┆     ┆     ┆     ┆     ┆     ┆     ┆     ┆     ┆     │\n",
       "│     ┆     ┆     ┆     ┆     ┆ ve  ┆     ┆     ┆ A   ┆     ┆     ┆     ┆     ┆     ┆     ┆     ┆     ┆     ┆     ┆     ┆     ┆     ┆     ┆     ┆     ┆     ┆     ┆     ┆     ┆     ┆     ┆     ┆     ┆     ┆     ┆     ┆     ┆     ┆     ┆     ┆     ┆     ┆     ┆     ┆     ┆     ┆     ┆     ┆     ┆     ┆     ┆     ┆     ┆     ┆     ┆     ┆     ┆     ┆     ┆     ┆     ┆     ┆     ┆     ┆     ┆     │\n",
       "│     ┆     ┆     ┆     ┆     ┆ Fie ┆     ┆     ┆     ┆     ┆     ┆     ┆     ┆     ┆     ┆     ┆     ┆     ┆     ┆     ┆     ┆     ┆     ┆     ┆     ┆     ┆     ┆     ┆     ┆     ┆     ┆     ┆     ┆     ┆     ┆     ┆     ┆     ┆     ┆     ┆     ┆     ┆     ┆     ┆     ┆     ┆     ┆     ┆     ┆     ┆     ┆     ┆     ┆     ┆     ┆     ┆     ┆     ┆     ┆     ┆     ┆     ┆     ┆     ┆     ┆     │\n",
       "│     ┆     ┆     ┆     ┆     ┆ ld  ┆     ┆     ┆     ┆     ┆     ┆     ┆     ┆     ┆     ┆     ┆     ┆     ┆     ┆     ┆     ┆     ┆     ┆     ┆     ┆     ┆     ┆     ┆     ┆     ┆     ┆     ┆     ┆     ┆     ┆     ┆     ┆     ┆     ┆     ┆     ┆     ┆     ┆     ┆     ┆     ┆     ┆     ┆     ┆     ┆     ┆     ┆     ┆     ┆     ┆     ┆     ┆     ┆     ┆     ┆     ┆     ┆     ┆     ┆     ┆     │\n",
       "└─────┴─────┴─────┴─────┴─────┴─────┴─────┴─────┴─────┴─────┴─────┴─────┴─────┴─────┴─────┴─────┴─────┴─────┴─────┴─────┴─────┴─────┴─────┴─────┴─────┴─────┴─────┴─────┴─────┴─────┴─────┴─────┴─────┴─────┴─────┴─────┴─────┴─────┴─────┴─────┴─────┴─────┴─────┴─────┴─────┴─────┴─────┴─────┴─────┴─────┴─────┴─────┴─────┴─────┴─────┴─────┴─────┴─────┴─────┴─────┴─────┴─────┴─────┴─────┴─────┴─────┘"
      ]
     },
     "execution_count": 8,
     "metadata": {},
     "output_type": "execute_result"
    }
   ],
   "source": [
    "import json\n",
    "import re\n",
    "\n",
    "import polars as pl\n",
    "import requests\n",
    "\n",
    "url = \"https://baseballsavant.mlb.com/leaderboard/statcast-park-factors?type=venue&year=2025&batSide=&stat=index_wOBA&condition=All&rolling=3&parks=mlb\"\n",
    "\n",
    "response = requests.get(url)\n",
    "data = re.search(r\"data = (.*);\", response.text).group(1)\n",
    "data = json.loads(data)\n",
    "df = pl.DataFrame(data)\n",
    "\n",
    "print(df.shape)\n",
    "df.head()"
   ]
  },
  {
   "cell_type": "code",
   "execution_count": null,
   "metadata": {
    "id": "0BFP3ljKvX6-"
   },
   "outputs": [],
   "source": [
    "df.write_parquet(f'{FILE_PATH}statcast_park_factors.parquet')"
   ]
  },
  {
   "cell_type": "markdown",
   "metadata": {
    "id": "kx83OGZuvruL"
   },
   "source": [
    "## Fetching Defensive Stats"
   ]
  },
  {
   "cell_type": "code",
   "execution_count": null,
   "metadata": {
    "id": "rn4ttaxdw1FR"
   },
   "outputs": [],
   "source": [
    "df_list = []\n",
    "for year in range(2021, 2025):\n",
    "    df_tmp = statcast_fielding.statcast_outs_above_average(year=year, pos=\"ALL\")\n",
    "    df_list.append(pl.from_pandas(df_tmp))\n",
    "\n",
    "df = pl.concat(df_list, how='vertical_relaxed')"
   ]
  },
  {
   "cell_type": "code",
   "execution_count": null,
   "metadata": {
    "id": "IydzEwEXx2BU"
   },
   "outputs": [],
   "source": [
    "df.write_parquet(f'{FILE_PATH}statcast_defensive_stats.parquet')"
   ]
  },
  {
   "cell_type": "markdown",
   "metadata": {
    "id": "w9WlqIfwOEaC"
   },
   "source": [
    "## Fetch Retrosheet Weather Data"
   ]
  },
  {
   "cell_type": "code",
   "execution_count": null,
   "metadata": {
    "id": "meBHO9RUUr0U"
   },
   "outputs": [],
   "source": []
  },
  {
   "cell_type": "code",
   "execution_count": null,
   "metadata": {
    "id": "PIfxrhPARAUZ"
   },
   "outputs": [],
   "source": []
  },
  {
   "cell_type": "code",
   "execution_count": null,
   "metadata": {
    "colab": {
     "base_uri": "https://localhost:8080/",
     "height": 323
    },
    "executionInfo": {
     "elapsed": 524,
     "status": "error",
     "timestamp": 1744048392775,
     "user": {
      "displayName": "Sam",
      "userId": "02456008665656849434"
     },
     "user_tz": 240
    },
    "id": "fC4LtnLOzJKT",
    "outputId": "7bc2f43b-f6d5-4745-9366-c8e2798803fc"
   },
   "outputs": [
    {
     "ename": "UnboundLocalError",
     "evalue": "cannot access local variable 'subtree' where it is not associated with a value",
     "output_type": "error",
     "traceback": [
      "\u001b[0;31m---------------------------------------------------------------------------\u001b[0m",
      "\u001b[0;31mUnboundLocalError\u001b[0m                         Traceback (most recent call last)",
      "\u001b[0;32m<ipython-input-32-aed41d0bd068>\u001b[0m in \u001b[0;36m<cell line: 0>\u001b[0;34m()\u001b[0m\n\u001b[1;32m      1\u001b[0m \u001b[0myear\u001b[0m \u001b[0;34m=\u001b[0m \u001b[0;36m2024\u001b[0m\u001b[0;34m\u001b[0m\u001b[0;34m\u001b[0m\u001b[0m\n\u001b[0;32m----> 2\u001b[0;31m \u001b[0mgame_data_pd\u001b[0m \u001b[0;34m=\u001b[0m \u001b[0mretrosheet\u001b[0m\u001b[0;34m.\u001b[0m\u001b[0mevents\u001b[0m\u001b[0;34m(\u001b[0m\u001b[0myear\u001b[0m\u001b[0;34m)\u001b[0m\u001b[0;34m\u001b[0m\u001b[0;34m\u001b[0m\u001b[0m\n\u001b[0m\u001b[1;32m      3\u001b[0m \u001b[0;31m# game_data = pl.from_pandas(game_data_pd)\u001b[0m\u001b[0;34m\u001b[0m\u001b[0;34m\u001b[0m\u001b[0m\n\u001b[1;32m      4\u001b[0m \u001b[0;31m# game_data.head()\u001b[0m\u001b[0;34m\u001b[0m\u001b[0;34m\u001b[0m\u001b[0m\n",
      "\u001b[0;32m/usr/local/lib/python3.11/dist-packages/pybaseball/retrosheet.py\u001b[0m in \u001b[0;36mevents\u001b[0;34m(season, type, export_dir)\u001b[0m\n\u001b[1;32m    128\u001b[0m                 \u001b[0msubtree\u001b[0m \u001b[0;34m=\u001b[0m \u001b[0mt\u001b[0m\u001b[0;34m\u001b[0m\u001b[0;34m\u001b[0m\u001b[0m\n\u001b[1;32m    129\u001b[0m \u001b[0;34m\u001b[0m\u001b[0m\n\u001b[0;32m--> 130\u001b[0;31m         \u001b[0msubtree\u001b[0m \u001b[0;34m=\u001b[0m \u001b[0mrepo\u001b[0m\u001b[0;34m.\u001b[0m\u001b[0mget_git_tree\u001b[0m\u001b[0;34m(\u001b[0m\u001b[0msubtree\u001b[0m\u001b[0;34m.\u001b[0m\u001b[0msha\u001b[0m\u001b[0;34m)\u001b[0m\u001b[0;34m\u001b[0m\u001b[0;34m\u001b[0m\u001b[0m\n\u001b[0m\u001b[1;32m    131\u001b[0m         \u001b[0;32mfor\u001b[0m \u001b[0mt\u001b[0m \u001b[0;32min\u001b[0m \u001b[0msubtree\u001b[0m\u001b[0;34m.\u001b[0m\u001b[0mtree\u001b[0m\u001b[0;34m:\u001b[0m\u001b[0;34m\u001b[0m\u001b[0;34m\u001b[0m\u001b[0m\n\u001b[1;32m    132\u001b[0m             \u001b[0;32mif\u001b[0m \u001b[0mt\u001b[0m\u001b[0;34m.\u001b[0m\u001b[0mpath\u001b[0m \u001b[0;34m==\u001b[0m \u001b[0mtype\u001b[0m\u001b[0;34m:\u001b[0m\u001b[0;34m\u001b[0m\u001b[0;34m\u001b[0m\u001b[0m\n",
      "\u001b[0;31mUnboundLocalError\u001b[0m: cannot access local variable 'subtree' where it is not associated with a value"
     ]
    }
   ],
   "source": [
    "year = 2024\n",
    "game_data_pd = retrosheet.events(year)\n",
    "# game_data = pl.from_pandas(game_data_pd)\n",
    "# game_data.head()"
   ]
  },
  {
   "cell_type": "code",
   "execution_count": null,
   "metadata": {
    "colab": {
     "base_uri": "https://localhost:8080/"
    },
    "executionInfo": {
     "elapsed": 4,
     "status": "ok",
     "timestamp": 1744048123125,
     "user": {
      "displayName": "Sam",
      "userId": "02456008665656849434"
     },
     "user_tz": 240
    },
    "id": "dMSjTfHKXk_G",
    "outputId": "2f1a249b-90c7-4650-ef3d-beca5ad32c72"
   },
   "outputs": [
    {
     "name": "stdout",
     "output_type": "stream",
     "text": [
      "161\n"
     ]
    }
   ],
   "source": [
    "gamelog_columns = [\n",
    "    'date', 'game_num', 'day_of_week', 'visiting_team',\n",
    "    'visiting_team_league', 'visiting_team_game_num', 'home_team',\n",
    "    'home_team_league', 'home_team_game_num', 'visiting_score',\n",
    "    'home_score', 'num_outs', 'day_night', 'completion_info',\n",
    "    'forfeit_info', 'protest_info', 'park_id', 'attendance',\n",
    "    'time_of_game_minutes', 'visiting_line_score',\n",
    "    'home_line_score', 'visiting_abs', 'visiting_hits',\n",
    "    'visiting_doubles', 'visiting_triples', 'visiting_homeruns',\n",
    "    'visiting_rbi', 'visiting_sac_hits', 'visiting_sac_flies',\n",
    "    'visiting_hbp', 'visiting_bb', 'visiting_iw', 'visiting_k',\n",
    "    'visiting_sb', 'visiting_cs', 'visiting_gdp', 'visiting_ci',\n",
    "    'visiting_lob', 'visiting_pitchers_used',\n",
    "    'visiting_individual_er', 'visiting_er', 'visiting_wp',\n",
    "    'visiting_balks', 'visiting_po', 'visiting_assists',\n",
    "    'visiting_errors', 'visiting_pb', 'visiting_dp',\n",
    "    'visiting_tp', 'home_abs', 'home_hits', 'home_doubles',\n",
    "    'home_triples', 'home_homeruns', 'home_rbi',\n",
    "    'home_sac_hits', 'home_sac_flies', 'home_hbp', 'home_bb',\n",
    "    'home_iw', 'home_k', 'home_sb', 'home_cs', 'home_gdp',\n",
    "    'home_ci', 'home_lob', 'home_pitchers_used',\n",
    "    'home_individual_er', 'home_er', 'home_wp', 'home_balks',\n",
    "    'home_po', 'home_assists', 'home_errors', 'home_pb',\n",
    "    'home_dp', 'home_tp', 'ump_home_id', 'ump_home_name',\n",
    "    'ump_first_id', 'ump_first_name', 'ump_second_id',\n",
    "    'ump_second_name', 'ump_third_id', 'ump_third_name',\n",
    "    'ump_lf_id', 'ump_lf_name', 'ump_rf_id', 'ump_rf_name',\n",
    "    'visiting_manager_id', 'visiting_manager_name',\n",
    "    'home_manager_id', 'home_manager_name',\n",
    "    'winning_pitcher_id', 'winning_pitcher_name',\n",
    "    'losing_pitcher_id', 'losing_pitcher_name',\n",
    "    'save_pitcher_id', 'save_pitcher_name',\n",
    "    'game_winning_rbi_id', 'game_winning_rbi_name',\n",
    "    'visiting_starting_pitcher_id',\n",
    "    'visiting_starting_pitcher_name',\n",
    "    'home_starting_pitcher_id', 'home_starting_pitcher_name',\n",
    "    'visiting_1_id', 'visiting_1_name', 'visiting_1_pos',\n",
    "    'visiting_2_id', 'visiting_2_name', 'visiting_2_pos',\n",
    "    'visiting_2_id.1', 'visiting_3_name', 'visiting_3_pos',\n",
    "    'visiting_4_id', 'visiting_4_name', 'visiting_4_pos',\n",
    "    'visiting_5_id', 'visiting_5_name', 'visiting_5_pos',\n",
    "    'visiting_6_id', 'visiting_6_name', 'visiting_6_pos',\n",
    "    'visiting_7_id', 'visiting_7_name', 'visiting_7_pos',\n",
    "    'visiting_8_id', 'visiting_8_name', 'visiting_8_pos',\n",
    "    'visiting_9_id', 'visiting_9_name', 'visiting_9_pos',\n",
    "    'home_1_id', 'home_1_name', 'home_1_pos', 'home_2_id',\n",
    "    'home_2_name', 'home_2_pos', 'home_3_id', 'home_3_name',\n",
    "    'home_3_pos', 'home_4_id', 'home_4_name', 'home_4_pos',\n",
    "    'home_5_id', 'home_5_name', 'home_5_pos', 'home_6_id',\n",
    "    'home_6_name', 'home_6_pos', 'home_7_id', 'home_7_name',\n",
    "    'home_7_pos', 'home_8_id', 'home_8_name', 'home_8_pos',\n",
    "    'home_9_id', 'home_9_name', 'home_9_pos', 'misc',\n",
    "    'acquisition_info'\n",
    "]"
   ]
  },
  {
   "cell_type": "code",
   "execution_count": null,
   "metadata": {
    "colab": {
     "base_uri": "https://localhost:8080/",
     "height": 380
    },
    "executionInfo": {
     "elapsed": 144,
     "status": "ok",
     "timestamp": 1744048275288,
     "user": {
      "displayName": "Sam",
      "userId": "02456008665656849434"
     },
     "user_tz": 240
    },
    "id": "fbmcw2GPPnZR",
    "outputId": "7fe603e0-74f6-40d3-bc52-2f6b2434a043"
   },
   "outputs": [
    {
     "name": "stdout",
     "output_type": "stream",
     "text": [
      "(2428, 161)\n"
     ]
    },
    {
     "data": {
      "text/html": [
       "<div><style>\n",
       ".dataframe > thead > tr,\n",
       ".dataframe > tbody > tr {\n",
       "  text-align: right;\n",
       "  white-space: pre-wrap;\n",
       "}\n",
       "</style>\n",
       "<small>shape: (5, 161)</small><table border=\"1\" class=\"dataframe\"><thead><tr><th>date</th><th>game_num</th><th>day_of_week</th><th>visiting_team</th><th>visiting_team_league</th><th>visiting_team_game_num</th><th>home_team</th><th>home_team_league</th><th>home_team_game_num</th><th>visiting_score</th><th>home_score</th><th>num_outs</th><th>day_night</th><th>completion_info</th><th>forfeit_info</th><th>protest_info</th><th>park_id</th><th>attendance</th><th>time_of_game_minutes</th><th>visiting_line_score</th><th>home_line_score</th><th>visiting_abs</th><th>visiting_hits</th><th>visiting_doubles</th><th>visiting_triples</th><th>visiting_homeruns</th><th>visiting_rbi</th><th>visiting_sac_hits</th><th>visiting_sac_flies</th><th>visiting_hbp</th><th>visiting_bb</th><th>visiting_iw</th><th>visiting_k</th><th>visiting_sb</th><th>visiting_cs</th><th>visiting_gdp</th><th>visiting_ci</th><th>visiting_lob</th><th>visiting_pitchers_used</th><th>visiting_individual_er</th><th>visiting_er</th><th>visiting_wp</th><th>visiting_balks</th><th>visiting_po</th><th>visiting_assists</th><th>visiting_errors</th><th>visiting_pb</th><th>visiting_dp</th><th>visiting_tp</th><th>home_abs</th><th>home_hits</th><th>home_doubles</th><th>home_triples</th><th>home_homeruns</th><th>home_rbi</th><th>home_sac_hits</th><th>home_sac_flies</th><th>home_hbp</th><th>home_bb</th><th>home_iw</th><th>home_k</th><th>home_sb</th><th>home_cs</th><th>home_gdp</th><th>home_ci</th><th>home_lob</th><th>home_pitchers_used</th><th>home_individual_er</th><th>home_er</th><th>home_wp</th><th>home_balks</th><th>home_po</th><th>home_assists</th><th>home_errors</th><th>home_pb</th><th>home_dp</th><th>home_tp</th><th>ump_home_id</th><th>ump_home_name</th><th>ump_first_id</th><th>ump_first_name</th><th>ump_second_id</th><th>ump_second_name</th><th>ump_third_id</th><th>ump_third_name</th><th>ump_lf_id</th><th>ump_lf_name</th><th>ump_rf_id</th><th>ump_rf_name</th><th>visiting_manager_id</th><th>visiting_manager_name</th><th>home_manager_id</th><th>home_manager_name</th><th>winning_pitcher_id</th><th>winning_pitcher_name</th><th>losing_pitcher_id</th><th>losing_pitcher_name</th><th>save_pitcher_id</th><th>save_pitcher_name</th><th>game_winning_rbi_id</th><th>game_winning_rbi_name</th><th>visiting_starting_pitcher_id</th><th>visiting_starting_pitcher_name</th><th>home_starting_pitcher_id</th><th>home_starting_pitcher_name</th><th>visiting_1_id</th><th>visiting_1_name</th><th>visiting_1_pos</th><th>visiting_2_id</th><th>visiting_2_name</th><th>visiting_2_pos</th><th>visiting_2_id.1</th><th>visiting_3_name</th><th>visiting_3_pos</th><th>visiting_4_id</th><th>visiting_4_name</th><th>visiting_4_pos</th><th>visiting_5_id</th><th>visiting_5_name</th><th>visiting_5_pos</th><th>visiting_6_id</th><th>visiting_6_name</th><th>visiting_6_pos</th><th>visiting_7_id</th><th>visiting_7_name</th><th>visiting_7_pos</th><th>visiting_8_id</th><th>visiting_8_name</th><th>visiting_8_pos</th><th>visiting_9_id</th><th>visiting_9_name</th><th>visiting_9_pos</th><th>home_1_id</th><th>home_1_name</th><th>home_1_pos</th><th>home_2_id</th><th>home_2_name</th><th>home_2_pos</th><th>home_3_id</th><th>home_3_name</th><th>home_3_pos</th><th>home_4_id</th><th>home_4_name</th><th>home_4_pos</th><th>home_5_id</th><th>home_5_name</th><th>home_5_pos</th><th>home_6_id</th><th>home_6_name</th><th>home_6_pos</th><th>home_7_id</th><th>home_7_name</th><th>home_7_pos</th><th>home_8_id</th><th>home_8_name</th><th>home_8_pos</th><th>home_9_id</th><th>home_9_name</th><th>home_9_pos</th><th>misc</th><th>acquisition_info</th></tr><tr><td>i64</td><td>i64</td><td>str</td><td>str</td><td>str</td><td>i64</td><td>str</td><td>str</td><td>i64</td><td>i64</td><td>i64</td><td>i64</td><td>str</td><td>str</td><td>str</td><td>str</td><td>str</td><td>i64</td><td>i64</td><td>str</td><td>str</td><td>i64</td><td>i64</td><td>i64</td><td>i64</td><td>i64</td><td>i64</td><td>i64</td><td>i64</td><td>i64</td><td>i64</td><td>i64</td><td>i64</td><td>i64</td><td>i64</td><td>i64</td><td>i64</td><td>i64</td><td>i64</td><td>i64</td><td>i64</td><td>i64</td><td>i64</td><td>i64</td><td>i64</td><td>i64</td><td>i64</td><td>i64</td><td>i64</td><td>i64</td><td>i64</td><td>i64</td><td>i64</td><td>i64</td><td>i64</td><td>i64</td><td>i64</td><td>i64</td><td>i64</td><td>i64</td><td>i64</td><td>i64</td><td>i64</td><td>i64</td><td>i64</td><td>i64</td><td>i64</td><td>i64</td><td>i64</td><td>i64</td><td>i64</td><td>i64</td><td>i64</td><td>i64</td><td>i64</td><td>i64</td><td>i64</td><td>str</td><td>str</td><td>str</td><td>str</td><td>str</td><td>str</td><td>str</td><td>str</td><td>str</td><td>str</td><td>str</td><td>str</td><td>str</td><td>str</td><td>str</td><td>str</td><td>str</td><td>str</td><td>str</td><td>str</td><td>str</td><td>str</td><td>str</td><td>str</td><td>str</td><td>str</td><td>str</td><td>str</td><td>str</td><td>str</td><td>i64</td><td>str</td><td>str</td><td>i64</td><td>str</td><td>str</td><td>i64</td><td>str</td><td>str</td><td>i64</td><td>str</td><td>str</td><td>i64</td><td>str</td><td>str</td><td>i64</td><td>str</td><td>str</td><td>i64</td><td>str</td><td>str</td><td>i64</td><td>str</td><td>str</td><td>i64</td><td>str</td><td>str</td><td>i64</td><td>str</td><td>str</td><td>i64</td><td>str</td><td>str</td><td>i64</td><td>str</td><td>str</td><td>i64</td><td>str</td><td>str</td><td>i64</td><td>str</td><td>str</td><td>i64</td><td>str</td><td>str</td><td>i64</td><td>str</td><td>str</td><td>i64</td><td>str</td><td>str</td><td>i64</td><td>str</td><td>str</td></tr></thead><tbody><tr><td>20210401</td><td>0</td><td>&quot;Thu&quot;</td><td>&quot;SLN&quot;</td><td>&quot;NL&quot;</td><td>1</td><td>&quot;CIN&quot;</td><td>&quot;NL&quot;</td><td>1</td><td>11</td><td>6</td><td>54</td><td>&quot;D&quot;</td><td>&quot;&quot;</td><td>&quot;&quot;</td><td>&quot;&quot;</td><td>&quot;CIN09&quot;</td><td>12264</td><td>211</td><td>&quot;610400000&quot;</td><td>&quot;102120000&quot;</td><td>37</td><td>10</td><td>2</td><td>0</td><td>2</td><td>9</td><td>0</td><td>0</td><td>1</td><td>3</td><td>0</td><td>7</td><td>0</td><td>0</td><td>1</td><td>0</td><td>3</td><td>6</td><td>6</td><td>6</td><td>1</td><td>0</td><td>27</td><td>4</td><td>0</td><td>0</td><td>1</td><td>0</td><td>34</td><td>10</td><td>3</td><td>0</td><td>2</td><td>5</td><td>1</td><td>1</td><td>1</td><td>5</td><td>0</td><td>8</td><td>0</td><td>0</td><td>0</td><td>0</td><td>9</td><td>5</td><td>9</td><td>9</td><td>1</td><td>0</td><td>27</td><td>12</td><td>2</td><td>0</td><td>1</td><td>0</td><td>&quot;reynj901&quot;</td><td>&quot;Jim Reynolds&quot;</td><td>&quot;randt901&quot;</td><td>&quot;Tony Randazzo&quot;</td><td>&quot;ticht901&quot;</td><td>&quot;Todd Tichenor&quot;</td><td>&quot;whitc901&quot;</td><td>&quot;Chad Whitson&quot;</td><td>&quot;&quot;</td><td>&quot;(none)&quot;</td><td>&quot;&quot;</td><td>&quot;(none)&quot;</td><td>&quot;shilm801&quot;</td><td>&quot;Mike Shildt&quot;</td><td>&quot;belld002&quot;</td><td>&quot;David Bell&quot;</td><td>&quot;gallg001&quot;</td><td>&quot;Giovanny Gallegos&quot;</td><td>&quot;castl003&quot;</td><td>&quot;Luis Castillo&quot;</td><td>&quot;&quot;</td><td>&quot;(none)&quot;</td><td>&quot;dejop001&quot;</td><td>&quot;Paul DeJong&quot;</td><td>&quot;flahj002&quot;</td><td>&quot;Jack Flaherty&quot;</td><td>&quot;castl003&quot;</td><td>&quot;Luis Castillo&quot;</td><td>&quot;edmat001&quot;</td><td>&quot;Tommy Edman&quot;</td><td>4</td><td>&quot;goldp001&quot;</td><td>&quot;Paul Goldschmidt&quot;</td><td>3</td><td>&quot;arenn001&quot;</td><td>&quot;Nolan Arenado&quot;</td><td>5</td><td>&quot;dejop001&quot;</td><td>&quot;Paul DeJong&quot;</td><td>6</td><td>&quot;oneit001&quot;</td><td>&quot;Tyler O&#x27;Neill&quot;</td><td>7</td><td>&quot;moliy001&quot;</td><td>&quot;Yadier Molina&quot;</td><td>2</td><td>&quot;carld002&quot;</td><td>&quot;Dylan Carlson&quot;</td><td>8</td><td>&quot;willj006&quot;</td><td>&quot;Justin Williams&quot;</td><td>9</td><td>&quot;flahj002&quot;</td><td>&quot;Jack Flaherty&quot;</td><td>1</td><td>&quot;winkj002&quot;</td><td>&quot;Jesse Winker&quot;</td><td>7</td><td>&quot;castn001&quot;</td><td>&quot;Nick Castellanos&quot;</td><td>9</td><td>&quot;vottj001&quot;</td><td>&quot;Joey Votto&quot;</td><td>3</td><td>&quot;suare001&quot;</td><td>&quot;Eugenio Suarez&quot;</td><td>6</td><td>&quot;mousm001&quot;</td><td>&quot;Mike Moustakas&quot;</td><td>5</td><td>&quot;senzn001&quot;</td><td>&quot;Nick Senzel&quot;</td><td>8</td><td>&quot;indij001&quot;</td><td>&quot;Jonathan India&quot;</td><td>4</td><td>&quot;barnt001&quot;</td><td>&quot;Tucker Barnhart&quot;</td><td>2</td><td>&quot;castl003&quot;</td><td>&quot;Luis Castillo&quot;</td><td>1</td><td>&quot;&quot;</td><td>&quot;Y&quot;</td></tr><tr><td>20210401</td><td>0</td><td>&quot;Thu&quot;</td><td>&quot;LAN&quot;</td><td>&quot;NL&quot;</td><td>1</td><td>&quot;COL&quot;</td><td>&quot;NL&quot;</td><td>1</td><td>5</td><td>8</td><td>51</td><td>&quot;D&quot;</td><td>&quot;&quot;</td><td>&quot;&quot;</td><td>&quot;&quot;</td><td>&quot;DEN02&quot;</td><td>20570</td><td>226</td><td>&quot;001012010&quot;</td><td>&quot;00202220x&quot;</td><td>36</td><td>15</td><td>3</td><td>1</td><td>0</td><td>5</td><td>0</td><td>1</td><td>1</td><td>8</td><td>0</td><td>6</td><td>0</td><td>0</td><td>3</td><td>0</td><td>14</td><td>4</td><td>7</td><td>7</td><td>3</td><td>0</td><td>24</td><td>15</td><td>2</td><td>0</td><td>0</td><td>0</td><td>35</td><td>11</td><td>1</td><td>1</td><td>0</td><td>5</td><td>1</td><td>0</td><td>0</td><td>3</td><td>0</td><td>4</td><td>2</td><td>1</td><td>0</td><td>0</td><td>7</td><td>5</td><td>5</td><td>5</td><td>1</td><td>0</td><td>27</td><td>12</td><td>0</td><td>0</td><td>3</td><td>0</td><td>&quot;welkb901&quot;</td><td>&quot;Bill Welke&quot;</td><td>&quot;conrc901&quot;</td><td>&quot;Chris Conroy&quot;</td><td>&quot;hobep901&quot;</td><td>&quot;Pat Hoberg&quot;</td><td>&quot;may-b901&quot;</td><td>&quot;Ben May&quot;</td><td>&quot;&quot;</td><td>&quot;(none)&quot;</td><td>&quot;&quot;</td><td>&quot;(none)&quot;</td><td>&quot;robed001&quot;</td><td>&quot;Dave Roberts&quot;</td><td>&quot;blacb001&quot;</td><td>&quot;Buddy Black&quot;</td><td>&quot;gonzc002&quot;</td><td>&quot;Chi Chi Gonzalez&quot;</td><td>&quot;kersc001&quot;</td><td>&quot;Clayton Kershaw&quot;</td><td>&quot;bardd001&quot;</td><td>&quot;Daniel Bard&quot;</td><td>&quot;owinc001&quot;</td><td>&quot;Chris Owings&quot;</td><td>&quot;kersc001&quot;</td><td>&quot;Clayton Kershaw&quot;</td><td>&quot;marqg001&quot;</td><td>&quot;German Marquez&quot;</td><td>&quot;bettm001&quot;</td><td>&quot;Mookie Betts&quot;</td><td>9</td><td>&quot;seagc001&quot;</td><td>&quot;Corey Seager&quot;</td><td>6</td><td>&quot;turnj001&quot;</td><td>&quot;Justin Turner&quot;</td><td>5</td><td>&quot;bellc002&quot;</td><td>&quot;Cody Bellinger&quot;</td><td>8</td><td>&quot;muncm001&quot;</td><td>&quot;Max Muncy&quot;</td><td>3</td><td>&quot;taylc001&quot;</td><td>&quot;Chris Taylor&quot;</td><td>7</td><td>&quot;lux-g001&quot;</td><td>&quot;Gavin Lux&quot;</td><td>4</td><td>&quot;barna001&quot;</td><td>&quot;Austin Barnes&quot;</td><td>2</td><td>&quot;kersc001&quot;</td><td>&quot;Clayton Kershaw&quot;</td><td>1</td><td>&quot;tapir001&quot;</td><td>&quot;Raimel Tapia&quot;</td><td>7</td><td>&quot;fuenj001&quot;</td><td>&quot;Josh Fuentes&quot;</td><td>5</td><td>&quot;stort001&quot;</td><td>&quot;Trevor Story&quot;</td><td>6</td><td>&quot;blacc001&quot;</td><td>&quot;Charlie Blackmon&quot;</td><td>9</td><td>&quot;cronc002&quot;</td><td>&quot;C.J. Cron&quot;</td><td>3</td><td>&quot;diaze005&quot;</td><td>&quot;Elias Diaz&quot;</td><td>2</td><td>&quot;owinc001&quot;</td><td>&quot;Chris Owings&quot;</td><td>4</td><td>&quot;hampg001&quot;</td><td>&quot;Garrett Hampson&quot;</td><td>8</td><td>&quot;marqg001&quot;</td><td>&quot;German Marquez&quot;</td><td>1</td><td>&quot;&quot;</td><td>&quot;Y&quot;</td></tr><tr><td>20210401</td><td>0</td><td>&quot;Thu&quot;</td><td>&quot;TBA&quot;</td><td>&quot;AL&quot;</td><td>1</td><td>&quot;MIA&quot;</td><td>&quot;NL&quot;</td><td>1</td><td>1</td><td>0</td><td>54</td><td>&quot;D&quot;</td><td>&quot;&quot;</td><td>&quot;&quot;</td><td>&quot;&quot;</td><td>&quot;MIA02&quot;</td><td>7062</td><td>164</td><td>&quot;000000010&quot;</td><td>&quot;000000000&quot;</td><td>32</td><td>5</td><td>1</td><td>0</td><td>1</td><td>1</td><td>0</td><td>0</td><td>1</td><td>3</td><td>0</td><td>12</td><td>0</td><td>0</td><td>0</td><td>0</td><td>8</td><td>4</td><td>0</td><td>0</td><td>0</td><td>0</td><td>27</td><td>7</td><td>0</td><td>0</td><td>0</td><td>0</td><td>30</td><td>3</td><td>0</td><td>0</td><td>0</td><td>0</td><td>0</td><td>0</td><td>0</td><td>1</td><td>0</td><td>9</td><td>1</td><td>0</td><td>0</td><td>0</td><td>4</td><td>5</td><td>1</td><td>1</td><td>0</td><td>0</td><td>27</td><td>5</td><td>0</td><td>0</td><td>0</td><td>0</td><td>&quot;laynj901&quot;</td><td>&quot;Jerry Layne&quot;</td><td>&quot;wendh902&quot;</td><td>&quot;Hunter Wendelstedt&quot;</td><td>&quot;estam901&quot;</td><td>&quot;Mike Estabrook&quot;</td><td>&quot;wolcq901&quot;</td><td>&quot;Quinn Wolcott&quot;</td><td>&quot;&quot;</td><td>&quot;(none)&quot;</td><td>&quot;&quot;</td><td>&quot;(none)&quot;</td><td>&quot;cashk001&quot;</td><td>&quot;Kevin Cash&quot;</td><td>&quot;mattd001&quot;</td><td>&quot;Don Mattingly&quot;</td><td>&quot;thomr007&quot;</td><td>&quot;Ryan Thompson&quot;</td><td>&quot;garcy001&quot;</td><td>&quot;Yimi Garcia&quot;</td><td>&quot;castd002&quot;</td><td>&quot;Diego Castillo&quot;</td><td>&quot;meada001&quot;</td><td>&quot;Austin Meadows&quot;</td><td>&quot;glast001&quot;</td><td>&quot;Tyler Glasnow&quot;</td><td>&quot;alcas001&quot;</td><td>&quot;Sandy Alcantara&quot;</td><td>&quot;tsuty001&quot;</td><td>&quot;Yoshi Tsutsugo&quot;</td><td>3</td><td>&quot;meada001&quot;</td><td>&quot;Austin Meadows&quot;</td><td>7</td><td>&quot;arozr001&quot;</td><td>&quot;Randy Arozarena&quot;</td><td>9</td><td>&quot;loweb001&quot;</td><td>&quot;Brandon Lowe&quot;</td><td>4</td><td>&quot;diazy001&quot;</td><td>&quot;Yandy Diaz&quot;</td><td>5</td><td>&quot;kierk001&quot;</td><td>&quot;Kevin Kiermaier&quot;</td><td>8</td><td>&quot;adamw002&quot;</td><td>&quot;Willy Adames&quot;</td><td>6</td><td>&quot;zunim001&quot;</td><td>&quot;Mike Zunino&quot;</td><td>2</td><td>&quot;glast001&quot;</td><td>&quot;Tyler Glasnow&quot;</td><td>1</td><td>&quot;dickc002&quot;</td><td>&quot;Corey Dickerson&quot;</td><td>7</td><td>&quot;marts002&quot;</td><td>&quot;Starling Marte&quot;</td><td>8</td><td>&quot;aguij001&quot;</td><td>&quot;Jesus Aguilar&quot;</td><td>3</td><td>&quot;duvaa001&quot;</td><td>&quot;Adam Duvall&quot;</td><td>9</td><td>&quot;andeb006&quot;</td><td>&quot;Brian Anderson&quot;</td><td>5</td><td>&quot;chisj001&quot;</td><td>&quot;Jazz Chisholm&quot;</td><td>4</td><td>&quot;alfaj002&quot;</td><td>&quot;Jorge Alfaro&quot;</td><td>2</td><td>&quot;rojam002&quot;</td><td>&quot;Miguel Rojas&quot;</td><td>6</td><td>&quot;alcas001&quot;</td><td>&quot;Sandy Alcantara&quot;</td><td>1</td><td>&quot;&quot;</td><td>&quot;Y&quot;</td></tr><tr><td>20210401</td><td>0</td><td>&quot;Thu&quot;</td><td>&quot;MIN&quot;</td><td>&quot;AL&quot;</td><td>1</td><td>&quot;MIL&quot;</td><td>&quot;NL&quot;</td><td>1</td><td>5</td><td>6</td><td>57</td><td>&quot;D&quot;</td><td>&quot;&quot;</td><td>&quot;&quot;</td><td>&quot;&quot;</td><td>&quot;MIL06&quot;</td><td>11740</td><td>254</td><td>&quot;0021002000&quot;</td><td>&quot;0010100031&quot;</td><td>39</td><td>10</td><td>2</td><td>1</td><td>1</td><td>4</td><td>1</td><td>0</td><td>0</td><td>7</td><td>0</td><td>17</td><td>1</td><td>0</td><td>0</td><td>0</td><td>13</td><td>7</td><td>1</td><td>1</td><td>0</td><td>0</td><td>27</td><td>10</td><td>2</td><td>0</td><td>0</td><td>0</td><td>40</td><td>11</td><td>1</td><td>0</td><td>0</td><td>6</td><td>0</td><td>0</td><td>2</td><td>2</td><td>0</td><td>9</td><td>0</td><td>0</td><td>0</td><td>0</td><td>12</td><td>6</td><td>5</td><td>5</td><td>2</td><td>0</td><td>30</td><td>6</td><td>0</td><td>0</td><td>0</td><td>0</td><td>&quot;danlk901&quot;</td><td>&quot;Kerwin Danley&quot;</td><td>&quot;buckc901&quot;</td><td>&quot;CB Bucknor&quot;</td><td>&quot;fairc901&quot;</td><td>&quot;Chad Fairchild&quot;</td><td>&quot;hamaa901&quot;</td><td>&quot;Adam Hamari&quot;</td><td>&quot;&quot;</td><td>&quot;(none)&quot;</td><td>&quot;&quot;</td><td>&quot;(none)&quot;</td><td>&quot;baldr001&quot;</td><td>&quot;Rocco Baldelli&quot;</td><td>&quot;counc001&quot;</td><td>&quot;Craig Counsell&quot;</td><td>&quot;hadej001&quot;</td><td>&quot;Josh Hader&quot;</td><td>&quot;dobnr001&quot;</td><td>&quot;Randy Dobnak&quot;</td><td>&quot;&quot;</td><td>&quot;(none)&quot;</td><td>&quot;arcio002&quot;</td><td>&quot;Orlando Arcia&quot;</td><td>&quot;maedk001&quot;</td><td>&quot;Kenta Maeda&quot;</td><td>&quot;woodb005&quot;</td><td>&quot;Brandon Woodruff&quot;</td><td>&quot;arral001&quot;</td><td>&quot;Luis Arraez&quot;</td><td>7</td><td>&quot;donaj001&quot;</td><td>&quot;Josh Donaldson&quot;</td><td>5</td><td>&quot;polaj001&quot;</td><td>&quot;Jorge Polanco&quot;</td><td>4</td><td>&quot;sanom001&quot;</td><td>&quot;Miguel Sano&quot;</td><td>3</td><td>&quot;keplm001&quot;</td><td>&quot;Max Kepler&quot;</td><td>9</td><td>&quot;buxtb001&quot;</td><td>&quot;Byron Buxton&quot;</td><td>8</td><td>&quot;garvm001&quot;</td><td>&quot;Mitch Garver&quot;</td><td>2</td><td>&quot;simma001&quot;</td><td>&quot;Andrelton Simmons&quot;</td><td>6</td><td>&quot;maedk001&quot;</td><td>&quot;Kenta Maeda&quot;</td><td>1</td><td>&quot;wongk001&quot;</td><td>&quot;Kolten Wong&quot;</td><td>4</td><td>&quot;hiurk001&quot;</td><td>&quot;Keston Hiura&quot;</td><td>3</td><td>&quot;yelic001&quot;</td><td>&quot;Christian Yelich&quot;</td><td>7</td><td>&quot;garca003&quot;</td><td>&quot;Avisail Garcia&quot;</td><td>9</td><td>&quot;shawt001&quot;</td><td>&quot;Travis Shaw&quot;</td><td>5</td><td>&quot;cainl001&quot;</td><td>&quot;Lorenzo Cain&quot;</td><td>8</td><td>&quot;narvo001&quot;</td><td>&quot;Omar Narvaez&quot;</td><td>2</td><td>&quot;urial001&quot;</td><td>&quot;Luis Urias&quot;</td><td>6</td><td>&quot;woodb005&quot;</td><td>&quot;Brandon Woodruff&quot;</td><td>1</td><td>&quot;&quot;</td><td>&quot;Y&quot;</td></tr><tr><td>20210401</td><td>0</td><td>&quot;Thu&quot;</td><td>&quot;ATL&quot;</td><td>&quot;NL&quot;</td><td>1</td><td>&quot;PHI&quot;</td><td>&quot;NL&quot;</td><td>1</td><td>2</td><td>3</td><td>59</td><td>&quot;D&quot;</td><td>&quot;&quot;</td><td>&quot;&quot;</td><td>&quot;&quot;</td><td>&quot;PHI13&quot;</td><td>8529</td><td>213</td><td>&quot;0000002000&quot;</td><td>&quot;1010000001&quot;</td><td>37</td><td>7</td><td>2</td><td>0</td><td>1</td><td>2</td><td>0</td><td>0</td><td>1</td><td>2</td><td>0</td><td>10</td><td>0</td><td>0</td><td>0</td><td>0</td><td>9</td><td>6</td><td>2</td><td>2</td><td>0</td><td>0</td><td>29</td><td>11</td><td>1</td><td>0</td><td>0</td><td>0</td><td>36</td><td>9</td><td>2</td><td>0</td><td>0</td><td>3</td><td>1</td><td>1</td><td>1</td><td>4</td><td>1</td><td>13</td><td>1</td><td>0</td><td>0</td><td>0</td><td>12</td><td>5</td><td>2</td><td>2</td><td>0</td><td>0</td><td>30</td><td>7</td><td>1</td><td>0</td><td>1</td><td>0</td><td>&quot;millb901&quot;</td><td>&quot;Bill Miller&quot;</td><td>&quot;eddid901&quot;</td><td>&quot;Doug Eddings&quot;</td><td>&quot;knigb901&quot;</td><td>&quot;Brian Knight&quot;</td><td>&quot;morag901&quot;</td><td>&quot;Gabe Morales&quot;</td><td>&quot;&quot;</td><td>&quot;(none)&quot;</td><td>&quot;&quot;</td><td>&quot;(none)&quot;</td><td>&quot;snitb801&quot;</td><td>&quot;Brian Snitker&quot;</td><td>&quot;giraj001&quot;</td><td>&quot;Joe Girardi&quot;</td><td>&quot;brogc001&quot;</td><td>&quot;Connor Brogdon&quot;</td><td>&quot;jonen001&quot;</td><td>&quot;Nate Jones&quot;</td><td>&quot;&quot;</td><td>&quot;(none)&quot;</td><td>&quot;seguj002&quot;</td><td>&quot;Jean Segura&quot;</td><td>&quot;friem001&quot;</td><td>&quot;Max Fried&quot;</td><td>&quot;nolaa001&quot;</td><td>&quot;Aaron Nola&quot;</td><td>&quot;acunr001&quot;</td><td>&quot;Ronald Acuna&quot;</td><td>9</td><td>&quot;albio001&quot;</td><td>&quot;Ozzie Albies&quot;</td><td>4</td><td>&quot;freef001&quot;</td><td>&quot;Freddie Freeman&quot;</td><td>3</td><td>&quot;ozunm001&quot;</td><td>&quot;Marcell Ozuna&quot;</td><td>7</td><td>&quot;darnt001&quot;</td><td>&quot;Travis d&#x27;Arnaud&quot;</td><td>2</td><td>&quot;swand001&quot;</td><td>&quot;Dansby Swanson&quot;</td><td>6</td><td>&quot;rilea001&quot;</td><td>&quot;Austin Riley&quot;</td><td>5</td><td>&quot;pachc001&quot;</td><td>&quot;Cristian Pache&quot;</td><td>8</td><td>&quot;friem001&quot;</td><td>&quot;Max Fried&quot;</td><td>1</td><td>&quot;mccua001&quot;</td><td>&quot;Andrew McCutchen&quot;</td><td>7</td><td>&quot;hoskr001&quot;</td><td>&quot;Rhys Hoskins&quot;</td><td>3</td><td>&quot;harpb003&quot;</td><td>&quot;Bryce Harper&quot;</td><td>9</td><td>&quot;realj001&quot;</td><td>&quot;J.T. Realmuto&quot;</td><td>2</td><td>&quot;bohma001&quot;</td><td>&quot;Alec Bohm&quot;</td><td>5</td><td>&quot;gregd001&quot;</td><td>&quot;Didi Gregorius&quot;</td><td>6</td><td>&quot;seguj002&quot;</td><td>&quot;Jean Segura&quot;</td><td>4</td><td>&quot;hasea001&quot;</td><td>&quot;Adam Haseley&quot;</td><td>8</td><td>&quot;nolaa001&quot;</td><td>&quot;Aaron Nola&quot;</td><td>1</td><td>&quot;&quot;</td><td>&quot;Y&quot;</td></tr></tbody></table></div>"
      ],
      "text/plain": [
       "shape: (5, 161)\n",
       "┌─────┬─────┬─────┬─────┬─────┬─────┬─────┬─────┬─────┬─────┬─────┬─────┬─────┬─────┬─────┬─────┬─────┬─────┬─────┬─────┬─────┬─────┬─────┬─────┬─────┬─────┬─────┬─────┬─────┬─────┬─────┬─────┬─────┬─────┬─────┬─────┬─────┬─────┬─────┬─────┬─────┬─────┬─────┬─────┬─────┬─────┬─────┬─────┬─────┬─────┬─────┬─────┬─────┬─────┬─────┬─────┬─────┬─────┬─────┬─────┬─────┬─────┬─────┬─────┬─────┬─────┬─────┬─────┬─────┬─────┬─────┬─────┬─────┬─────┬─────┬─────┬─────┬─────┬─────┬─────┬─────┬─────┬─────┬─────┬─────┬─────┬─────┬─────┬─────┬─────┬─────┬─────┬─────┬─────┬─────┬─────┬─────┬─────┬─────┬─────┬─────┬─────┬─────┬─────┬─────┬─────┬─────┬─────┬─────┬─────┬─────┬─────┬─────┬─────┬─────┬─────┬─────┬─────┬─────┬─────┬─────┬─────┬─────┬─────┬─────┬─────┬─────┬─────┬─────┬─────┬─────┬─────┬─────┬─────┬─────┬─────┬─────┬─────┬─────┬─────┬─────┬─────┬─────┬─────┬─────┬─────┬─────┬─────┬─────┬─────┬─────┬─────┬─────┬─────┬─────┬─────┬─────┬─────┬─────┬─────┬─────┐\n",
       "│ dat ┆ gam ┆ day ┆ vis ┆ vis ┆ vis ┆ hom ┆ hom ┆ hom ┆ vis ┆ hom ┆ num ┆ day ┆ com ┆ for ┆ pro ┆ par ┆ att ┆ tim ┆ vis ┆ hom ┆ vis ┆ vis ┆ vis ┆ vis ┆ vis ┆ vis ┆ vis ┆ vis ┆ vis ┆ vis ┆ vis ┆ vis ┆ vis ┆ vis ┆ vis ┆ vis ┆ vis ┆ vis ┆ vis ┆ vis ┆ vis ┆ vis ┆ vis ┆ vis ┆ vis ┆ vis ┆ vis ┆ vis ┆ hom ┆ hom ┆ hom ┆ hom ┆ hom ┆ hom ┆ hom ┆ hom ┆ hom ┆ hom ┆ hom ┆ hom ┆ hom ┆ hom ┆ hom ┆ hom ┆ hom ┆ hom ┆ hom ┆ hom ┆ hom ┆ hom ┆ hom ┆ hom ┆ hom ┆ hom ┆ hom ┆ hom ┆ ump ┆ ump ┆ ump ┆ ump ┆ ump ┆ ump ┆ ump ┆ ump ┆ ump ┆ ump ┆ ump ┆ ump ┆ vis ┆ vis ┆ hom ┆ hom ┆ win ┆ win ┆ los ┆ los ┆ sav ┆ sav ┆ gam ┆ gam ┆ vis ┆ vis ┆ hom ┆ hom ┆ vis ┆ vis ┆ vis ┆ vis ┆ vis ┆ vis ┆ vis ┆ vis ┆ vis ┆ vis ┆ vis ┆ vis ┆ vis ┆ vis ┆ vis ┆ vis ┆ vis ┆ vis ┆ vis ┆ vis ┆ vis ┆ vis ┆ vis ┆ vis ┆ vis ┆ vis ┆ vis ┆ hom ┆ hom ┆ hom ┆ hom ┆ hom ┆ hom ┆ hom ┆ hom ┆ hom ┆ hom ┆ hom ┆ hom ┆ hom ┆ hom ┆ hom ┆ hom ┆ hom ┆ hom ┆ hom ┆ hom ┆ hom ┆ hom ┆ hom ┆ hom ┆ hom ┆ hom ┆ hom ┆ mis ┆ acq │\n",
       "│ e   ┆ e_n ┆ _of ┆ iti ┆ iti ┆ iti ┆ e_t ┆ e_t ┆ e_t ┆ iti ┆ e_s ┆ _ou ┆ _ni ┆ ple ┆ fei ┆ tes ┆ k_i ┆ end ┆ e_o ┆ iti ┆ e_l ┆ iti ┆ iti ┆ iti ┆ iti ┆ iti ┆ iti ┆ iti ┆ iti ┆ iti ┆ iti ┆ iti ┆ iti ┆ iti ┆ iti ┆ iti ┆ iti ┆ iti ┆ iti ┆ iti ┆ iti ┆ iti ┆ iti ┆ iti ┆ iti ┆ iti ┆ iti ┆ iti ┆ iti ┆ e_a ┆ e_h ┆ e_d ┆ e_t ┆ e_h ┆ e_r ┆ e_s ┆ e_s ┆ e_h ┆ e_b ┆ e_i ┆ e_k ┆ e_s ┆ e_c ┆ e_g ┆ e_c ┆ e_l ┆ e_p ┆ e_i ┆ e_e ┆ e_w ┆ e_b ┆ e_p ┆ e_a ┆ e_e ┆ e_p ┆ e_d ┆ e_t ┆ _ho ┆ _ho ┆ _fi ┆ _fi ┆ _se ┆ _se ┆ _th ┆ _th ┆ _lf ┆ _lf ┆ _rf ┆ _rf ┆ iti ┆ iti ┆ e_m ┆ e_m ┆ nin ┆ nin ┆ ing ┆ ing ┆ e_p ┆ e_p ┆ e_w ┆ e_w ┆ iti ┆ iti ┆ e_s ┆ e_s ┆ iti ┆ iti ┆ iti ┆ iti ┆ iti ┆ iti ┆ iti ┆ iti ┆ iti ┆ iti ┆ iti ┆ iti ┆ iti ┆ iti ┆ iti ┆ iti ┆ iti ┆ iti ┆ iti ┆ iti ┆ iti ┆ iti ┆ iti ┆ iti ┆ iti ┆ iti ┆ iti ┆ e_1 ┆ e_1 ┆ e_1 ┆ e_2 ┆ e_2 ┆ e_2 ┆ e_3 ┆ e_3 ┆ e_3 ┆ e_4 ┆ e_4 ┆ e_4 ┆ e_5 ┆ e_5 ┆ e_5 ┆ e_6 ┆ e_6 ┆ e_6 ┆ e_7 ┆ e_7 ┆ e_7 ┆ e_8 ┆ e_8 ┆ e_8 ┆ e_9 ┆ e_9 ┆ e_9 ┆ c   ┆ uis │\n",
       "│ --- ┆ um  ┆ _we ┆ ng_ ┆ ng_ ┆ ng_ ┆ eam ┆ eam ┆ eam ┆ ng_ ┆ cor ┆ ts  ┆ ght ┆ tio ┆ t_i ┆ t_i ┆ d   ┆ anc ┆ f_g ┆ ng_ ┆ ine ┆ ng_ ┆ ng_ ┆ ng_ ┆ ng_ ┆ ng_ ┆ ng_ ┆ ng_ ┆ ng_ ┆ ng_ ┆ ng_ ┆ ng_ ┆ ng_ ┆ ng_ ┆ ng_ ┆ ng_ ┆ ng_ ┆ ng_ ┆ ng_ ┆ ng_ ┆ ng_ ┆ ng_ ┆ ng_ ┆ ng_ ┆ ng_ ┆ ng_ ┆ ng_ ┆ ng_ ┆ ng_ ┆ bs  ┆ its ┆ oub ┆ rip ┆ ome ┆ bi  ┆ ac_ ┆ ac_ ┆ bp  ┆ b   ┆ w   ┆ --- ┆ b   ┆ s   ┆ dp  ┆ i   ┆ ob  ┆ itc ┆ ndi ┆ r   ┆ p   ┆ alk ┆ o   ┆ ssi ┆ rro ┆ b   ┆ p   ┆ p   ┆ me_ ┆ me_ ┆ rst ┆ rst ┆ con ┆ con ┆ ird ┆ ird ┆ _id ┆ _na ┆ _id ┆ _na ┆ ng_ ┆ ng_ ┆ ana ┆ ana ┆ g_p ┆ g_p ┆ _pi ┆ _pi ┆ itc ┆ itc ┆ inn ┆ inn ┆ ng_ ┆ ng_ ┆ tar ┆ tar ┆ ng_ ┆ ng_ ┆ ng_ ┆ ng_ ┆ ng_ ┆ ng_ ┆ ng_ ┆ ng_ ┆ ng_ ┆ ng_ ┆ ng_ ┆ ng_ ┆ ng_ ┆ ng_ ┆ ng_ ┆ ng_ ┆ ng_ ┆ ng_ ┆ ng_ ┆ ng_ ┆ ng_ ┆ ng_ ┆ ng_ ┆ ng_ ┆ ng_ ┆ ng_ ┆ ng_ ┆ _id ┆ _na ┆ _po ┆ _id ┆ _na ┆ _po ┆ _id ┆ _na ┆ _po ┆ _id ┆ _na ┆ _po ┆ _id ┆ _na ┆ _po ┆ _id ┆ _na ┆ _po ┆ _id ┆ _na ┆ _po ┆ _id ┆ _na ┆ _po ┆ _id ┆ _na ┆ _po ┆ --- ┆ iti │\n",
       "│ i64 ┆ --- ┆ ek  ┆ tea ┆ tea ┆ tea ┆ --- ┆ _le ┆ _ga ┆ sco ┆ e   ┆ --- ┆ --- ┆ n_i ┆ nfo ┆ nfo ┆ --- ┆ e   ┆ ame ┆ lin ┆ _sc ┆ abs ┆ hit ┆ dou ┆ tri ┆ hom ┆ rbi ┆ sac ┆ sac ┆ hbp ┆ bb  ┆ iw  ┆ k   ┆ sb  ┆ cs  ┆ gdp ┆ ci  ┆ lob ┆ pit ┆ ind ┆ er  ┆ wp  ┆ bal ┆ po  ┆ ass ┆ err ┆ pb  ┆ dp  ┆ tp  ┆ --- ┆ --- ┆ les ┆ les ┆ run ┆ --- ┆ hit ┆ fli ┆ --- ┆ --- ┆ --- ┆ i64 ┆ --- ┆ --- ┆ --- ┆ --- ┆ --- ┆ her ┆ vid ┆ --- ┆ --- ┆ s   ┆ --- ┆ sts ┆ rs  ┆ --- ┆ --- ┆ --- ┆ id  ┆ nam ┆ _id ┆ _na ┆ d_i ┆ d_n ┆ _id ┆ _na ┆ --- ┆ me  ┆ --- ┆ me  ┆ man ┆ man ┆ ger ┆ ger ┆ itc ┆ itc ┆ tch ┆ tch ┆ her ┆ her ┆ ing ┆ ing ┆ sta ┆ sta ┆ tin ┆ tin ┆ 1_i ┆ 1_n ┆ 1_p ┆ 2_i ┆ 2_n ┆ 2_p ┆ 2_i ┆ 3_n ┆ 3_p ┆ 4_i ┆ 4_n ┆ 4_p ┆ 5_i ┆ 5_n ┆ 5_p ┆ 6_i ┆ 6_n ┆ 6_p ┆ 7_i ┆ 7_n ┆ 7_p ┆ 8_i ┆ 8_n ┆ 8_p ┆ 9_i ┆ 9_n ┆ 9_p ┆ --- ┆ me  ┆ s   ┆ --- ┆ me  ┆ s   ┆ --- ┆ me  ┆ s   ┆ --- ┆ me  ┆ s   ┆ --- ┆ me  ┆ s   ┆ --- ┆ me  ┆ s   ┆ --- ┆ me  ┆ s   ┆ --- ┆ me  ┆ s   ┆ --- ┆ me  ┆ s   ┆ str ┆ on_ │\n",
       "│     ┆ i64 ┆ --- ┆ m   ┆ m_l ┆ m_g ┆ str ┆ agu ┆ me_ ┆ re  ┆ --- ┆ i64 ┆ str ┆ nfo ┆ --- ┆ --- ┆ str ┆ --- ┆ _mi ┆ e_s ┆ ore ┆ --- ┆ s   ┆ ble ┆ ple ┆ eru ┆ --- ┆ _hi ┆ _fl ┆ --- ┆ --- ┆ --- ┆ --- ┆ --- ┆ --- ┆ --- ┆ --- ┆ --- ┆ che ┆ ivi ┆ --- ┆ --- ┆ ks  ┆ --- ┆ ist ┆ ors ┆ --- ┆ --- ┆ --- ┆ i64 ┆ i64 ┆ --- ┆ --- ┆ s   ┆ i64 ┆ s   ┆ es  ┆ i64 ┆ i64 ┆ i64 ┆     ┆ i64 ┆ i64 ┆ i64 ┆ i64 ┆ i64 ┆ s_u ┆ ual ┆ i64 ┆ i64 ┆ --- ┆ i64 ┆ --- ┆ --- ┆ i64 ┆ i64 ┆ i64 ┆ --- ┆ e   ┆ --- ┆ me  ┆ d   ┆ ame ┆ --- ┆ me  ┆ str ┆ --- ┆ str ┆ --- ┆ age ┆ age ┆ _id ┆ _na ┆ her ┆ her ┆ er_ ┆ er_ ┆ _id ┆ _na ┆ _rb ┆ _rb ┆ rti ┆ rti ┆ g_p ┆ g_p ┆ d   ┆ ame ┆ os  ┆ d   ┆ ame ┆ os  ┆ d.1 ┆ ame ┆ os  ┆ d   ┆ ame ┆ os  ┆ d   ┆ ame ┆ os  ┆ d   ┆ ame ┆ os  ┆ d   ┆ ame ┆ os  ┆ d   ┆ ame ┆ os  ┆ d   ┆ ame ┆ os  ┆ str ┆ --- ┆ --- ┆ str ┆ --- ┆ --- ┆ str ┆ --- ┆ --- ┆ str ┆ --- ┆ --- ┆ str ┆ --- ┆ --- ┆ str ┆ --- ┆ --- ┆ str ┆ --- ┆ --- ┆ str ┆ --- ┆ --- ┆ str ┆ --- ┆ --- ┆     ┆ inf │\n",
       "│     ┆     ┆ str ┆ --- ┆ eag ┆ ame ┆     ┆ e   ┆ num ┆ --- ┆ i64 ┆     ┆     ┆ --- ┆ str ┆ str ┆     ┆ i64 ┆ nut ┆ cor ┆ --- ┆ i64 ┆ --- ┆ s   ┆ s   ┆ ns  ┆ i64 ┆ ts  ┆ ies ┆ i64 ┆ i64 ┆ i64 ┆ i64 ┆ i64 ┆ i64 ┆ i64 ┆ i64 ┆ i64 ┆ rs_ ┆ dua ┆ i64 ┆ i64 ┆ --- ┆ i64 ┆ s   ┆ --- ┆ i64 ┆ i64 ┆ i64 ┆     ┆     ┆ i64 ┆ i64 ┆ --- ┆     ┆ --- ┆ --- ┆     ┆     ┆     ┆     ┆     ┆     ┆     ┆     ┆     ┆ sed ┆ _er ┆     ┆     ┆ i64 ┆     ┆ i64 ┆ i64 ┆     ┆     ┆     ┆ str ┆ --- ┆ str ┆ --- ┆ --- ┆ --- ┆ str ┆ --- ┆     ┆ str ┆     ┆ str ┆ r_i ┆ r_n ┆ --- ┆ me  ┆ _id ┆ _na ┆ id  ┆ nam ┆ --- ┆ me  ┆ i_i ┆ i_n ┆ ng_ ┆ ng_ ┆ itc ┆ itc ┆ --- ┆ --- ┆ --- ┆ --- ┆ --- ┆ --- ┆ --- ┆ --- ┆ --- ┆ --- ┆ --- ┆ --- ┆ --- ┆ --- ┆ --- ┆ --- ┆ --- ┆ --- ┆ --- ┆ --- ┆ --- ┆ --- ┆ --- ┆ --- ┆ --- ┆ --- ┆ --- ┆     ┆ str ┆ i64 ┆     ┆ str ┆ i64 ┆     ┆ str ┆ i64 ┆     ┆ str ┆ i64 ┆     ┆ str ┆ i64 ┆     ┆ str ┆ i64 ┆     ┆ str ┆ i64 ┆     ┆ str ┆ i64 ┆     ┆ str ┆ i64 ┆     ┆ o   │\n",
       "│     ┆     ┆     ┆ str ┆ ue  ┆ _nu ┆     ┆ --- ┆ --- ┆ i64 ┆     ┆     ┆     ┆ str ┆     ┆     ┆     ┆     ┆ es  ┆ e   ┆ str ┆     ┆ i64 ┆ --- ┆ --- ┆ --- ┆     ┆ --- ┆ --- ┆     ┆     ┆     ┆     ┆     ┆     ┆     ┆     ┆     ┆ use ┆ l_e ┆     ┆     ┆ i64 ┆     ┆ --- ┆ i64 ┆     ┆     ┆     ┆     ┆     ┆     ┆     ┆ i64 ┆     ┆ i64 ┆ i64 ┆     ┆     ┆     ┆     ┆     ┆     ┆     ┆     ┆     ┆ --- ┆ --- ┆     ┆     ┆     ┆     ┆     ┆     ┆     ┆     ┆     ┆     ┆ str ┆     ┆ str ┆ str ┆ str ┆     ┆ str ┆     ┆     ┆     ┆     ┆ d   ┆ ame ┆ str ┆ --- ┆ --- ┆ me  ┆ --- ┆ e   ┆ str ┆ --- ┆ d   ┆ ame ┆ pit ┆ pit ┆ her ┆ her ┆ str ┆ str ┆ i64 ┆ str ┆ str ┆ i64 ┆ str ┆ str ┆ i64 ┆ str ┆ str ┆ i64 ┆ str ┆ str ┆ i64 ┆ str ┆ str ┆ i64 ┆ str ┆ str ┆ i64 ┆ str ┆ str ┆ i64 ┆ str ┆ str ┆ i64 ┆     ┆     ┆     ┆     ┆     ┆     ┆     ┆     ┆     ┆     ┆     ┆     ┆     ┆     ┆     ┆     ┆     ┆     ┆     ┆     ┆     ┆     ┆     ┆     ┆     ┆     ┆     ┆     ┆ --- │\n",
       "│     ┆     ┆     ┆     ┆ --- ┆ m   ┆     ┆ str ┆ i64 ┆     ┆     ┆     ┆     ┆     ┆     ┆     ┆     ┆     ┆ --- ┆ --- ┆     ┆     ┆     ┆ i64 ┆ i64 ┆ i64 ┆     ┆ i64 ┆ i64 ┆     ┆     ┆     ┆     ┆     ┆     ┆     ┆     ┆     ┆ d   ┆ r   ┆     ┆     ┆     ┆     ┆ i64 ┆     ┆     ┆     ┆     ┆     ┆     ┆     ┆     ┆     ┆     ┆     ┆     ┆     ┆     ┆     ┆     ┆     ┆     ┆     ┆     ┆     ┆ i64 ┆ i64 ┆     ┆     ┆     ┆     ┆     ┆     ┆     ┆     ┆     ┆     ┆     ┆     ┆     ┆     ┆     ┆     ┆     ┆     ┆     ┆     ┆     ┆ --- ┆ --- ┆     ┆ str ┆ str ┆ --- ┆ str ┆ --- ┆     ┆ str ┆ --- ┆ --- ┆ che ┆ che ┆ _id ┆ _na ┆     ┆     ┆     ┆     ┆     ┆     ┆     ┆     ┆     ┆     ┆     ┆     ┆     ┆     ┆     ┆     ┆     ┆     ┆     ┆     ┆     ┆     ┆     ┆     ┆     ┆     ┆     ┆     ┆     ┆     ┆     ┆     ┆     ┆     ┆     ┆     ┆     ┆     ┆     ┆     ┆     ┆     ┆     ┆     ┆     ┆     ┆     ┆     ┆     ┆     ┆     ┆     ┆     ┆     ┆     ┆ str │\n",
       "│     ┆     ┆     ┆     ┆ str ┆ --- ┆     ┆     ┆     ┆     ┆     ┆     ┆     ┆     ┆     ┆     ┆     ┆     ┆ i64 ┆ str ┆     ┆     ┆     ┆     ┆     ┆     ┆     ┆     ┆     ┆     ┆     ┆     ┆     ┆     ┆     ┆     ┆     ┆     ┆ --- ┆ --- ┆     ┆     ┆     ┆     ┆     ┆     ┆     ┆     ┆     ┆     ┆     ┆     ┆     ┆     ┆     ┆     ┆     ┆     ┆     ┆     ┆     ┆     ┆     ┆     ┆     ┆     ┆     ┆     ┆     ┆     ┆     ┆     ┆     ┆     ┆     ┆     ┆     ┆     ┆     ┆     ┆     ┆     ┆     ┆     ┆     ┆     ┆     ┆     ┆     ┆ str ┆ str ┆     ┆     ┆     ┆ str ┆     ┆ str ┆     ┆     ┆ str ┆ str ┆ r_i ┆ r_n ┆ --- ┆ me  ┆     ┆     ┆     ┆     ┆     ┆     ┆     ┆     ┆     ┆     ┆     ┆     ┆     ┆     ┆     ┆     ┆     ┆     ┆     ┆     ┆     ┆     ┆     ┆     ┆     ┆     ┆     ┆     ┆     ┆     ┆     ┆     ┆     ┆     ┆     ┆     ┆     ┆     ┆     ┆     ┆     ┆     ┆     ┆     ┆     ┆     ┆     ┆     ┆     ┆     ┆     ┆     ┆     ┆     ┆     ┆     │\n",
       "│     ┆     ┆     ┆     ┆     ┆ i64 ┆     ┆     ┆     ┆     ┆     ┆     ┆     ┆     ┆     ┆     ┆     ┆     ┆     ┆     ┆     ┆     ┆     ┆     ┆     ┆     ┆     ┆     ┆     ┆     ┆     ┆     ┆     ┆     ┆     ┆     ┆     ┆     ┆ i64 ┆ i64 ┆     ┆     ┆     ┆     ┆     ┆     ┆     ┆     ┆     ┆     ┆     ┆     ┆     ┆     ┆     ┆     ┆     ┆     ┆     ┆     ┆     ┆     ┆     ┆     ┆     ┆     ┆     ┆     ┆     ┆     ┆     ┆     ┆     ┆     ┆     ┆     ┆     ┆     ┆     ┆     ┆     ┆     ┆     ┆     ┆     ┆     ┆     ┆     ┆     ┆     ┆     ┆     ┆     ┆     ┆     ┆     ┆     ┆     ┆     ┆     ┆     ┆ d   ┆ ame ┆ str ┆ --- ┆     ┆     ┆     ┆     ┆     ┆     ┆     ┆     ┆     ┆     ┆     ┆     ┆     ┆     ┆     ┆     ┆     ┆     ┆     ┆     ┆     ┆     ┆     ┆     ┆     ┆     ┆     ┆     ┆     ┆     ┆     ┆     ┆     ┆     ┆     ┆     ┆     ┆     ┆     ┆     ┆     ┆     ┆     ┆     ┆     ┆     ┆     ┆     ┆     ┆     ┆     ┆     ┆     ┆     ┆     ┆     │\n",
       "│     ┆     ┆     ┆     ┆     ┆     ┆     ┆     ┆     ┆     ┆     ┆     ┆     ┆     ┆     ┆     ┆     ┆     ┆     ┆     ┆     ┆     ┆     ┆     ┆     ┆     ┆     ┆     ┆     ┆     ┆     ┆     ┆     ┆     ┆     ┆     ┆     ┆     ┆     ┆     ┆     ┆     ┆     ┆     ┆     ┆     ┆     ┆     ┆     ┆     ┆     ┆     ┆     ┆     ┆     ┆     ┆     ┆     ┆     ┆     ┆     ┆     ┆     ┆     ┆     ┆     ┆     ┆     ┆     ┆     ┆     ┆     ┆     ┆     ┆     ┆     ┆     ┆     ┆     ┆     ┆     ┆     ┆     ┆     ┆     ┆     ┆     ┆     ┆     ┆     ┆     ┆     ┆     ┆     ┆     ┆     ┆     ┆     ┆     ┆     ┆     ┆ --- ┆ --- ┆     ┆ str ┆     ┆     ┆     ┆     ┆     ┆     ┆     ┆     ┆     ┆     ┆     ┆     ┆     ┆     ┆     ┆     ┆     ┆     ┆     ┆     ┆     ┆     ┆     ┆     ┆     ┆     ┆     ┆     ┆     ┆     ┆     ┆     ┆     ┆     ┆     ┆     ┆     ┆     ┆     ┆     ┆     ┆     ┆     ┆     ┆     ┆     ┆     ┆     ┆     ┆     ┆     ┆     ┆     ┆     ┆     ┆     │\n",
       "│     ┆     ┆     ┆     ┆     ┆     ┆     ┆     ┆     ┆     ┆     ┆     ┆     ┆     ┆     ┆     ┆     ┆     ┆     ┆     ┆     ┆     ┆     ┆     ┆     ┆     ┆     ┆     ┆     ┆     ┆     ┆     ┆     ┆     ┆     ┆     ┆     ┆     ┆     ┆     ┆     ┆     ┆     ┆     ┆     ┆     ┆     ┆     ┆     ┆     ┆     ┆     ┆     ┆     ┆     ┆     ┆     ┆     ┆     ┆     ┆     ┆     ┆     ┆     ┆     ┆     ┆     ┆     ┆     ┆     ┆     ┆     ┆     ┆     ┆     ┆     ┆     ┆     ┆     ┆     ┆     ┆     ┆     ┆     ┆     ┆     ┆     ┆     ┆     ┆     ┆     ┆     ┆     ┆     ┆     ┆     ┆     ┆     ┆     ┆     ┆     ┆ str ┆ str ┆     ┆     ┆     ┆     ┆     ┆     ┆     ┆     ┆     ┆     ┆     ┆     ┆     ┆     ┆     ┆     ┆     ┆     ┆     ┆     ┆     ┆     ┆     ┆     ┆     ┆     ┆     ┆     ┆     ┆     ┆     ┆     ┆     ┆     ┆     ┆     ┆     ┆     ┆     ┆     ┆     ┆     ┆     ┆     ┆     ┆     ┆     ┆     ┆     ┆     ┆     ┆     ┆     ┆     ┆     ┆     ┆     ┆     │\n",
       "╞═════╪═════╪═════╪═════╪═════╪═════╪═════╪═════╪═════╪═════╪═════╪═════╪═════╪═════╪═════╪═════╪═════╪═════╪═════╪═════╪═════╪═════╪═════╪═════╪═════╪═════╪═════╪═════╪═════╪═════╪═════╪═════╪═════╪═════╪═════╪═════╪═════╪═════╪═════╪═════╪═════╪═════╪═════╪═════╪═════╪═════╪═════╪═════╪═════╪═════╪═════╪═════╪═════╪═════╪═════╪═════╪═════╪═════╪═════╪═════╪═════╪═════╪═════╪═════╪═════╪═════╪═════╪═════╪═════╪═════╪═════╪═════╪═════╪═════╪═════╪═════╪═════╪═════╪═════╪═════╪═════╪═════╪═════╪═════╪═════╪═════╪═════╪═════╪═════╪═════╪═════╪═════╪═════╪═════╪═════╪═════╪═════╪═════╪═════╪═════╪═════╪═════╪═════╪═════╪═════╪═════╪═════╪═════╪═════╪═════╪═════╪═════╪═════╪═════╪═════╪═════╪═════╪═════╪═════╪═════╪═════╪═════╪═════╪═════╪═════╪═════╪═════╪═════╪═════╪═════╪═════╪═════╪═════╪═════╪═════╪═════╪═════╪═════╪═════╪═════╪═════╪═════╪═════╪═════╪═════╪═════╪═════╪═════╪═════╪═════╪═════╪═════╪═════╪═════╪═════╪═════╪═════╪═════╪═════╪═════╪═════╡\n",
       "│ 202 ┆ 0   ┆ Thu ┆ SLN ┆ NL  ┆ 1   ┆ CIN ┆ NL  ┆ 1   ┆ 11  ┆ 6   ┆ 54  ┆ D   ┆     ┆     ┆     ┆ CIN ┆ 122 ┆ 211 ┆ 610 ┆ 102 ┆ 37  ┆ 10  ┆ 2   ┆ 0   ┆ 2   ┆ 9   ┆ 0   ┆ 0   ┆ 1   ┆ 3   ┆ 0   ┆ 7   ┆ 0   ┆ 0   ┆ 1   ┆ 0   ┆ 3   ┆ 6   ┆ 6   ┆ 6   ┆ 1   ┆ 0   ┆ 27  ┆ 4   ┆ 0   ┆ 0   ┆ 1   ┆ 0   ┆ 34  ┆ 10  ┆ 3   ┆ 0   ┆ 2   ┆ 5   ┆ 1   ┆ 1   ┆ 1   ┆ 5   ┆ 0   ┆ 8   ┆ 0   ┆ 0   ┆ 0   ┆ 0   ┆ 9   ┆ 5   ┆ 9   ┆ 9   ┆ 1   ┆ 0   ┆ 27  ┆ 12  ┆ 2   ┆ 0   ┆ 1   ┆ 0   ┆ rey ┆ Jim ┆ ran ┆ Ton ┆ tic ┆ Tod ┆ whi ┆ Cha ┆     ┆ (no ┆     ┆ (no ┆ shi ┆ Mik ┆ bel ┆ Dav ┆ gal ┆ Gio ┆ cas ┆ Lui ┆     ┆ (no ┆ dej ┆ Pau ┆ fla ┆ Jac ┆ cas ┆ Lui ┆ edm ┆ Tom ┆ 4   ┆ gol ┆ Pau ┆ 3   ┆ are ┆ Nol ┆ 5   ┆ dej ┆ Pau ┆ 6   ┆ one ┆ Tyl ┆ 7   ┆ mol ┆ Yad ┆ 2   ┆ car ┆ Dyl ┆ 8   ┆ wil ┆ Jus ┆ 9   ┆ fla ┆ Jac ┆ 1   ┆ win ┆ Jes ┆ 7   ┆ cas ┆ Nic ┆ 9   ┆ vot ┆ Joe ┆ 3   ┆ sua ┆ Eug ┆ 6   ┆ mou ┆ Mik ┆ 5   ┆ sen ┆ Nic ┆ 8   ┆ ind ┆ Jon ┆ 4   ┆ bar ┆ Tuc ┆ 2   ┆ cas ┆ Lui ┆ 1   ┆     ┆ Y   │\n",
       "│ 104 ┆     ┆     ┆     ┆     ┆     ┆     ┆     ┆     ┆     ┆     ┆     ┆     ┆     ┆     ┆     ┆ 09  ┆ 64  ┆     ┆ 400 ┆ 120 ┆     ┆     ┆     ┆     ┆     ┆     ┆     ┆     ┆     ┆     ┆     ┆     ┆     ┆     ┆     ┆     ┆     ┆     ┆     ┆     ┆     ┆     ┆     ┆     ┆     ┆     ┆     ┆     ┆     ┆     ┆     ┆     ┆     ┆     ┆     ┆     ┆     ┆     ┆     ┆     ┆     ┆     ┆     ┆     ┆     ┆     ┆     ┆     ┆     ┆     ┆     ┆     ┆     ┆     ┆     ┆     ┆ nj9 ┆ Rey ┆ dt9 ┆ y   ┆ ht9 ┆ d   ┆ tc9 ┆ d   ┆     ┆ ne) ┆     ┆ ne) ┆ lm8 ┆ e   ┆ ld0 ┆ id  ┆ lg0 ┆ van ┆ tl0 ┆ s   ┆     ┆ ne) ┆ op0 ┆ l   ┆ hj0 ┆ k   ┆ tl0 ┆ s   ┆ at0 ┆ my  ┆     ┆ dp0 ┆ l   ┆     ┆ nn0 ┆ an  ┆     ┆ op0 ┆ l   ┆     ┆ it0 ┆ er  ┆     ┆ iy0 ┆ ier ┆     ┆ ld0 ┆ an  ┆     ┆ lj0 ┆ tin ┆     ┆ hj0 ┆ k   ┆     ┆ kj0 ┆ se  ┆     ┆ tn0 ┆ k   ┆     ┆ tj0 ┆ y   ┆     ┆ re0 ┆ eni ┆     ┆ sm0 ┆ e   ┆     ┆ zn0 ┆ k   ┆     ┆ ij0 ┆ ath ┆     ┆ nt0 ┆ ker ┆     ┆ tl0 ┆ s   ┆     ┆     ┆     │\n",
       "│ 01  ┆     ┆     ┆     ┆     ┆     ┆     ┆     ┆     ┆     ┆     ┆     ┆     ┆     ┆     ┆     ┆     ┆     ┆     ┆ 000 ┆ 000 ┆     ┆     ┆     ┆     ┆     ┆     ┆     ┆     ┆     ┆     ┆     ┆     ┆     ┆     ┆     ┆     ┆     ┆     ┆     ┆     ┆     ┆     ┆     ┆     ┆     ┆     ┆     ┆     ┆     ┆     ┆     ┆     ┆     ┆     ┆     ┆     ┆     ┆     ┆     ┆     ┆     ┆     ┆     ┆     ┆     ┆     ┆     ┆     ┆     ┆     ┆     ┆     ┆     ┆     ┆     ┆     ┆ 01  ┆ nol ┆ 01  ┆ Ran ┆ 01  ┆ Tic ┆ 01  ┆ Whi ┆     ┆     ┆     ┆     ┆ 01  ┆ Shi ┆ 02  ┆ Bel ┆ 01  ┆ ny  ┆ 03  ┆ Cas ┆     ┆     ┆ 01  ┆ DeJ ┆ 02  ┆ Fla ┆ 03  ┆ Cas ┆ 01  ┆ Edm ┆     ┆ 01  ┆ Gol ┆     ┆ 01  ┆ Are ┆     ┆ 01  ┆ DeJ ┆     ┆ 01  ┆ O'N ┆     ┆ 01  ┆ Mol ┆     ┆ 02  ┆ Car ┆     ┆ 06  ┆ Wil ┆     ┆ 02  ┆ Fla ┆     ┆ 02  ┆ Win ┆     ┆ 01  ┆ Cas ┆     ┆ 01  ┆ Vot ┆     ┆ 01  ┆ o   ┆     ┆ 01  ┆ Mou ┆     ┆ 01  ┆ Sen ┆     ┆ 01  ┆ an  ┆     ┆ 01  ┆ Bar ┆     ┆ 03  ┆ Cas ┆     ┆     ┆     │\n",
       "│     ┆     ┆     ┆     ┆     ┆     ┆     ┆     ┆     ┆     ┆     ┆     ┆     ┆     ┆     ┆     ┆     ┆     ┆     ┆     ┆     ┆     ┆     ┆     ┆     ┆     ┆     ┆     ┆     ┆     ┆     ┆     ┆     ┆     ┆     ┆     ┆     ┆     ┆     ┆     ┆     ┆     ┆     ┆     ┆     ┆     ┆     ┆     ┆     ┆     ┆     ┆     ┆     ┆     ┆     ┆     ┆     ┆     ┆     ┆     ┆     ┆     ┆     ┆     ┆     ┆     ┆     ┆     ┆     ┆     ┆     ┆     ┆     ┆     ┆     ┆     ┆     ┆     ┆ ds  ┆     ┆ daz ┆     ┆ hen ┆     ┆ tso ┆     ┆     ┆     ┆     ┆     ┆ ldt ┆     ┆ l   ┆     ┆ Gal ┆     ┆ til ┆     ┆     ┆     ┆ ong ┆     ┆ her ┆     ┆ til ┆     ┆ an  ┆     ┆     ┆ dsc ┆     ┆     ┆ nad ┆     ┆     ┆ ong ┆     ┆     ┆ eil ┆     ┆     ┆ ina ┆     ┆     ┆ lso ┆     ┆     ┆ lia ┆     ┆     ┆ her ┆     ┆     ┆ ker ┆     ┆     ┆ tel ┆     ┆     ┆ to  ┆     ┆     ┆ Sua ┆     ┆     ┆ sta ┆     ┆     ┆ zel ┆     ┆     ┆ Ind ┆     ┆     ┆ nha ┆     ┆     ┆ til ┆     ┆     ┆     │\n",
       "│     ┆     ┆     ┆     ┆     ┆     ┆     ┆     ┆     ┆     ┆     ┆     ┆     ┆     ┆     ┆     ┆     ┆     ┆     ┆     ┆     ┆     ┆     ┆     ┆     ┆     ┆     ┆     ┆     ┆     ┆     ┆     ┆     ┆     ┆     ┆     ┆     ┆     ┆     ┆     ┆     ┆     ┆     ┆     ┆     ┆     ┆     ┆     ┆     ┆     ┆     ┆     ┆     ┆     ┆     ┆     ┆     ┆     ┆     ┆     ┆     ┆     ┆     ┆     ┆     ┆     ┆     ┆     ┆     ┆     ┆     ┆     ┆     ┆     ┆     ┆     ┆     ┆     ┆     ┆     ┆ zo  ┆     ┆ or  ┆     ┆ n   ┆     ┆     ┆     ┆     ┆     ┆     ┆     ┆     ┆     ┆ leg ┆     ┆ lo  ┆     ┆     ┆     ┆     ┆     ┆ ty  ┆     ┆ lo  ┆     ┆     ┆     ┆     ┆ hmi ┆     ┆     ┆ o   ┆     ┆     ┆     ┆     ┆     ┆ l   ┆     ┆     ┆     ┆     ┆     ┆ n   ┆     ┆     ┆ ms  ┆     ┆     ┆ ty  ┆     ┆     ┆     ┆     ┆     ┆ lan ┆     ┆     ┆     ┆     ┆     ┆ rez ┆     ┆     ┆ kas ┆     ┆     ┆     ┆     ┆     ┆ ia  ┆     ┆     ┆ rt  ┆     ┆     ┆ lo  ┆     ┆     ┆     │\n",
       "│     ┆     ┆     ┆     ┆     ┆     ┆     ┆     ┆     ┆     ┆     ┆     ┆     ┆     ┆     ┆     ┆     ┆     ┆     ┆     ┆     ┆     ┆     ┆     ┆     ┆     ┆     ┆     ┆     ┆     ┆     ┆     ┆     ┆     ┆     ┆     ┆     ┆     ┆     ┆     ┆     ┆     ┆     ┆     ┆     ┆     ┆     ┆     ┆     ┆     ┆     ┆     ┆     ┆     ┆     ┆     ┆     ┆     ┆     ┆     ┆     ┆     ┆     ┆     ┆     ┆     ┆     ┆     ┆     ┆     ┆     ┆     ┆     ┆     ┆     ┆     ┆     ┆     ┆     ┆     ┆     ┆     ┆     ┆     ┆     ┆     ┆     ┆     ┆     ┆     ┆     ┆     ┆     ┆     ┆ os  ┆     ┆     ┆     ┆     ┆     ┆     ┆     ┆     ┆     ┆     ┆     ┆     ┆     ┆     ┆ dt  ┆     ┆     ┆     ┆     ┆     ┆     ┆     ┆     ┆     ┆     ┆     ┆     ┆     ┆     ┆     ┆     ┆     ┆     ┆     ┆     ┆     ┆     ┆     ┆     ┆     ┆     ┆ os  ┆     ┆     ┆     ┆     ┆     ┆     ┆     ┆     ┆     ┆     ┆     ┆     ┆     ┆     ┆     ┆     ┆     ┆     ┆     ┆     ┆     ┆     ┆     ┆     │\n",
       "│ 202 ┆ 0   ┆ Thu ┆ LAN ┆ NL  ┆ 1   ┆ COL ┆ NL  ┆ 1   ┆ 5   ┆ 8   ┆ 51  ┆ D   ┆     ┆     ┆     ┆ DEN ┆ 205 ┆ 226 ┆ 001 ┆ 002 ┆ 36  ┆ 15  ┆ 3   ┆ 1   ┆ 0   ┆ 5   ┆ 0   ┆ 1   ┆ 1   ┆ 8   ┆ 0   ┆ 6   ┆ 0   ┆ 0   ┆ 3   ┆ 0   ┆ 14  ┆ 4   ┆ 7   ┆ 7   ┆ 3   ┆ 0   ┆ 24  ┆ 15  ┆ 2   ┆ 0   ┆ 0   ┆ 0   ┆ 35  ┆ 11  ┆ 1   ┆ 1   ┆ 0   ┆ 5   ┆ 1   ┆ 0   ┆ 0   ┆ 3   ┆ 0   ┆ 4   ┆ 2   ┆ 1   ┆ 0   ┆ 0   ┆ 7   ┆ 5   ┆ 5   ┆ 5   ┆ 1   ┆ 0   ┆ 27  ┆ 12  ┆ 0   ┆ 0   ┆ 3   ┆ 0   ┆ wel ┆ Bil ┆ con ┆ Chr ┆ hob ┆ Pat ┆ may ┆ Ben ┆     ┆ (no ┆     ┆ (no ┆ rob ┆ Dav ┆ bla ┆ Bud ┆ gon ┆ Chi ┆ ker ┆ Cla ┆ bar ┆ Dan ┆ owi ┆ Chr ┆ ker ┆ Cla ┆ mar ┆ Ger ┆ bet ┆ Moo ┆ 9   ┆ sea ┆ Cor ┆ 6   ┆ tur ┆ Jus ┆ 5   ┆ bel ┆ Cod ┆ 8   ┆ mun ┆ Max ┆ 3   ┆ tay ┆ Chr ┆ 7   ┆ lux ┆ Gav ┆ 4   ┆ bar ┆ Aus ┆ 2   ┆ ker ┆ Cla ┆ 1   ┆ tap ┆ Rai ┆ 7   ┆ fue ┆ Jos ┆ 5   ┆ sto ┆ Tre ┆ 6   ┆ bla ┆ Cha ┆ 9   ┆ cro ┆ C.J ┆ 3   ┆ dia ┆ Eli ┆ 2   ┆ owi ┆ Chr ┆ 4   ┆ ham ┆ Gar ┆ 8   ┆ mar ┆ Ger ┆ 1   ┆     ┆ Y   │\n",
       "│ 104 ┆     ┆     ┆     ┆     ┆     ┆     ┆     ┆     ┆     ┆     ┆     ┆     ┆     ┆     ┆     ┆ 02  ┆ 70  ┆     ┆ 012 ┆ 022 ┆     ┆     ┆     ┆     ┆     ┆     ┆     ┆     ┆     ┆     ┆     ┆     ┆     ┆     ┆     ┆     ┆     ┆     ┆     ┆     ┆     ┆     ┆     ┆     ┆     ┆     ┆     ┆     ┆     ┆     ┆     ┆     ┆     ┆     ┆     ┆     ┆     ┆     ┆     ┆     ┆     ┆     ┆     ┆     ┆     ┆     ┆     ┆     ┆     ┆     ┆     ┆     ┆     ┆     ┆     ┆     ┆ kb9 ┆ l   ┆ rc9 ┆ is  ┆ ep9 ┆ Hob ┆ -b9 ┆ May ┆     ┆ ne) ┆     ┆ ne) ┆ ed0 ┆ e   ┆ cb0 ┆ dy  ┆ zc0 ┆ Chi ┆ sc0 ┆ yto ┆ dd0 ┆ iel ┆ nc0 ┆ is  ┆ sc0 ┆ yto ┆ qg0 ┆ man ┆ tm0 ┆ kie ┆     ┆ gc0 ┆ ey  ┆     ┆ nj0 ┆ tin ┆     ┆ lc0 ┆ y   ┆     ┆ cm0 ┆ Mun ┆     ┆ lc0 ┆ is  ┆     ┆ -g0 ┆ in  ┆     ┆ na0 ┆ tin ┆     ┆ sc0 ┆ yto ┆     ┆ ir0 ┆ mel ┆     ┆ nj0 ┆ h   ┆     ┆ rt0 ┆ vor ┆     ┆ cc0 ┆ rli ┆     ┆ nc0 ┆ .   ┆     ┆ ze0 ┆ as  ┆     ┆ nc0 ┆ is  ┆     ┆ pg0 ┆ ret ┆     ┆ qg0 ┆ man ┆     ┆     ┆     │\n",
       "│ 01  ┆     ┆     ┆     ┆     ┆     ┆     ┆     ┆     ┆     ┆     ┆     ┆     ┆     ┆     ┆     ┆     ┆     ┆     ┆ 010 ┆ 20x ┆     ┆     ┆     ┆     ┆     ┆     ┆     ┆     ┆     ┆     ┆     ┆     ┆     ┆     ┆     ┆     ┆     ┆     ┆     ┆     ┆     ┆     ┆     ┆     ┆     ┆     ┆     ┆     ┆     ┆     ┆     ┆     ┆     ┆     ┆     ┆     ┆     ┆     ┆     ┆     ┆     ┆     ┆     ┆     ┆     ┆     ┆     ┆     ┆     ┆     ┆     ┆     ┆     ┆     ┆     ┆     ┆ 01  ┆ Wel ┆ 01  ┆ Con ┆ 01  ┆ erg ┆ 01  ┆     ┆     ┆     ┆     ┆     ┆ 01  ┆ Rob ┆ 01  ┆ Bla ┆ 02  ┆ Gon ┆ 01  ┆ n   ┆ 01  ┆ Bar ┆ 01  ┆ Owi ┆ 01  ┆ n   ┆ 01  ┆ Mar ┆ 01  ┆ Bet ┆     ┆ 01  ┆ Sea ┆     ┆ 01  ┆ Tur ┆     ┆ 02  ┆ Bel ┆     ┆ 01  ┆ cy  ┆     ┆ 01  ┆ Tay ┆     ┆ 01  ┆ Lux ┆     ┆ 01  ┆ Bar ┆     ┆ 01  ┆ n   ┆     ┆ 01  ┆ Tap ┆     ┆ 01  ┆ Fue ┆     ┆ 01  ┆ Sto ┆     ┆ 01  ┆ e   ┆     ┆ 02  ┆ Cro ┆     ┆ 05  ┆ Dia ┆     ┆ 01  ┆ Owi ┆     ┆ 01  ┆ t   ┆     ┆ 01  ┆ Mar ┆     ┆     ┆     │\n",
       "│     ┆     ┆     ┆     ┆     ┆     ┆     ┆     ┆     ┆     ┆     ┆     ┆     ┆     ┆     ┆     ┆     ┆     ┆     ┆     ┆     ┆     ┆     ┆     ┆     ┆     ┆     ┆     ┆     ┆     ┆     ┆     ┆     ┆     ┆     ┆     ┆     ┆     ┆     ┆     ┆     ┆     ┆     ┆     ┆     ┆     ┆     ┆     ┆     ┆     ┆     ┆     ┆     ┆     ┆     ┆     ┆     ┆     ┆     ┆     ┆     ┆     ┆     ┆     ┆     ┆     ┆     ┆     ┆     ┆     ┆     ┆     ┆     ┆     ┆     ┆     ┆     ┆     ┆ ke  ┆     ┆ roy ┆     ┆     ┆     ┆     ┆     ┆     ┆     ┆     ┆     ┆ ert ┆     ┆ ck  ┆     ┆ zal ┆     ┆ Ker ┆     ┆ d   ┆     ┆ ngs ┆     ┆ Ker ┆     ┆ que ┆     ┆ ts  ┆     ┆     ┆ ger ┆     ┆     ┆ ner ┆     ┆     ┆ lin ┆     ┆     ┆     ┆     ┆     ┆ lor ┆     ┆     ┆     ┆     ┆     ┆ nes ┆     ┆     ┆ Ker ┆     ┆     ┆ ia  ┆     ┆     ┆ nte ┆     ┆     ┆ ry  ┆     ┆     ┆ Bla ┆     ┆     ┆ n   ┆     ┆     ┆ z   ┆     ┆     ┆ ngs ┆     ┆     ┆ Ham ┆     ┆     ┆ que ┆     ┆     ┆     │\n",
       "│     ┆     ┆     ┆     ┆     ┆     ┆     ┆     ┆     ┆     ┆     ┆     ┆     ┆     ┆     ┆     ┆     ┆     ┆     ┆     ┆     ┆     ┆     ┆     ┆     ┆     ┆     ┆     ┆     ┆     ┆     ┆     ┆     ┆     ┆     ┆     ┆     ┆     ┆     ┆     ┆     ┆     ┆     ┆     ┆     ┆     ┆     ┆     ┆     ┆     ┆     ┆     ┆     ┆     ┆     ┆     ┆     ┆     ┆     ┆     ┆     ┆     ┆     ┆     ┆     ┆     ┆     ┆     ┆     ┆     ┆     ┆     ┆     ┆     ┆     ┆     ┆     ┆     ┆     ┆     ┆     ┆     ┆     ┆     ┆     ┆     ┆     ┆     ┆     ┆     ┆ s   ┆     ┆     ┆     ┆ ez  ┆     ┆ sha ┆     ┆     ┆     ┆     ┆     ┆ sha ┆     ┆ z   ┆     ┆     ┆     ┆     ┆     ┆     ┆     ┆     ┆     ┆     ┆ ger ┆     ┆     ┆     ┆     ┆     ┆     ┆     ┆     ┆     ┆     ┆     ┆     ┆     ┆     ┆ sha ┆     ┆     ┆     ┆     ┆     ┆ s   ┆     ┆     ┆     ┆     ┆     ┆ ckm ┆     ┆     ┆     ┆     ┆     ┆     ┆     ┆     ┆     ┆     ┆     ┆ pso ┆     ┆     ┆ z   ┆     ┆     ┆     │\n",
       "│     ┆     ┆     ┆     ┆     ┆     ┆     ┆     ┆     ┆     ┆     ┆     ┆     ┆     ┆     ┆     ┆     ┆     ┆     ┆     ┆     ┆     ┆     ┆     ┆     ┆     ┆     ┆     ┆     ┆     ┆     ┆     ┆     ┆     ┆     ┆     ┆     ┆     ┆     ┆     ┆     ┆     ┆     ┆     ┆     ┆     ┆     ┆     ┆     ┆     ┆     ┆     ┆     ┆     ┆     ┆     ┆     ┆     ┆     ┆     ┆     ┆     ┆     ┆     ┆     ┆     ┆     ┆     ┆     ┆     ┆     ┆     ┆     ┆     ┆     ┆     ┆     ┆     ┆     ┆     ┆     ┆     ┆     ┆     ┆     ┆     ┆     ┆     ┆     ┆     ┆     ┆     ┆     ┆     ┆     ┆     ┆ w   ┆     ┆     ┆     ┆     ┆     ┆ w   ┆     ┆     ┆     ┆     ┆     ┆     ┆     ┆     ┆     ┆     ┆     ┆     ┆     ┆     ┆     ┆     ┆     ┆     ┆     ┆     ┆     ┆     ┆     ┆     ┆     ┆     ┆     ┆ w   ┆     ┆     ┆     ┆     ┆     ┆     ┆     ┆     ┆     ┆     ┆     ┆ on  ┆     ┆     ┆     ┆     ┆     ┆     ┆     ┆     ┆     ┆     ┆     ┆ n   ┆     ┆     ┆     ┆     ┆     ┆     │\n",
       "│ 202 ┆ 0   ┆ Thu ┆ TBA ┆ AL  ┆ 1   ┆ MIA ┆ NL  ┆ 1   ┆ 1   ┆ 0   ┆ 54  ┆ D   ┆     ┆     ┆     ┆ MIA ┆ 706 ┆ 164 ┆ 000 ┆ 000 ┆ 32  ┆ 5   ┆ 1   ┆ 0   ┆ 1   ┆ 1   ┆ 0   ┆ 0   ┆ 1   ┆ 3   ┆ 0   ┆ 12  ┆ 0   ┆ 0   ┆ 0   ┆ 0   ┆ 8   ┆ 4   ┆ 0   ┆ 0   ┆ 0   ┆ 0   ┆ 27  ┆ 7   ┆ 0   ┆ 0   ┆ 0   ┆ 0   ┆ 30  ┆ 3   ┆ 0   ┆ 0   ┆ 0   ┆ 0   ┆ 0   ┆ 0   ┆ 0   ┆ 1   ┆ 0   ┆ 9   ┆ 1   ┆ 0   ┆ 0   ┆ 0   ┆ 4   ┆ 5   ┆ 1   ┆ 1   ┆ 0   ┆ 0   ┆ 27  ┆ 5   ┆ 0   ┆ 0   ┆ 0   ┆ 0   ┆ lay ┆ Jer ┆ wen ┆ Hun ┆ est ┆ Mik ┆ wol ┆ Qui ┆     ┆ (no ┆     ┆ (no ┆ cas ┆ Kev ┆ mat ┆ Don ┆ tho ┆ Rya ┆ gar ┆ Yim ┆ cas ┆ Die ┆ mea ┆ Aus ┆ gla ┆ Tyl ┆ alc ┆ San ┆ tsu ┆ Yos ┆ 3   ┆ mea ┆ Aus ┆ 7   ┆ aro ┆ Ran ┆ 9   ┆ low ┆ Bra ┆ 4   ┆ dia ┆ Yan ┆ 5   ┆ kie ┆ Kev ┆ 8   ┆ ada ┆ Wil ┆ 6   ┆ zun ┆ Mik ┆ 2   ┆ gla ┆ Tyl ┆ 1   ┆ dic ┆ Cor ┆ 7   ┆ mar ┆ Sta ┆ 8   ┆ agu ┆ Jes ┆ 3   ┆ duv ┆ Ada ┆ 9   ┆ and ┆ Bri ┆ 5   ┆ chi ┆ Jaz ┆ 4   ┆ alf ┆ Jor ┆ 2   ┆ roj ┆ Mig ┆ 6   ┆ alc ┆ San ┆ 1   ┆     ┆ Y   │\n",
       "│ 104 ┆     ┆     ┆     ┆     ┆     ┆     ┆     ┆     ┆     ┆     ┆     ┆     ┆     ┆     ┆     ┆ 02  ┆ 2   ┆     ┆ 000 ┆ 000 ┆     ┆     ┆     ┆     ┆     ┆     ┆     ┆     ┆     ┆     ┆     ┆     ┆     ┆     ┆     ┆     ┆     ┆     ┆     ┆     ┆     ┆     ┆     ┆     ┆     ┆     ┆     ┆     ┆     ┆     ┆     ┆     ┆     ┆     ┆     ┆     ┆     ┆     ┆     ┆     ┆     ┆     ┆     ┆     ┆     ┆     ┆     ┆     ┆     ┆     ┆     ┆     ┆     ┆     ┆     ┆     ┆ nj9 ┆ ry  ┆ dh9 ┆ ter ┆ am9 ┆ e   ┆ cq9 ┆ nn  ┆     ┆ ne) ┆     ┆ ne) ┆ hk0 ┆ in  ┆ td0 ┆ Mat ┆ mr0 ┆ n   ┆ cy0 ┆ i   ┆ td0 ┆ go  ┆ da0 ┆ tin ┆ st0 ┆ er  ┆ as0 ┆ dy  ┆ ty0 ┆ hi  ┆     ┆ da0 ┆ tin ┆     ┆ zr0 ┆ dy  ┆     ┆ eb0 ┆ ndo ┆     ┆ zy0 ┆ dy  ┆     ┆ rk0 ┆ in  ┆     ┆ mw0 ┆ ly  ┆     ┆ im0 ┆ e   ┆     ┆ st0 ┆ er  ┆     ┆ kc0 ┆ ey  ┆     ┆ ts0 ┆ rli ┆     ┆ ij0 ┆ us  ┆     ┆ aa0 ┆ m   ┆     ┆ eb0 ┆ an  ┆     ┆ sj0 ┆ z   ┆     ┆ aj0 ┆ ge  ┆     ┆ am0 ┆ uel ┆     ┆ as0 ┆ dy  ┆     ┆     ┆     │\n",
       "│ 01  ┆     ┆     ┆     ┆     ┆     ┆     ┆     ┆     ┆     ┆     ┆     ┆     ┆     ┆     ┆     ┆     ┆     ┆     ┆ 010 ┆ 000 ┆     ┆     ┆     ┆     ┆     ┆     ┆     ┆     ┆     ┆     ┆     ┆     ┆     ┆     ┆     ┆     ┆     ┆     ┆     ┆     ┆     ┆     ┆     ┆     ┆     ┆     ┆     ┆     ┆     ┆     ┆     ┆     ┆     ┆     ┆     ┆     ┆     ┆     ┆     ┆     ┆     ┆     ┆     ┆     ┆     ┆     ┆     ┆     ┆     ┆     ┆     ┆     ┆     ┆     ┆     ┆     ┆ 01  ┆ Lay ┆ 02  ┆ Wen ┆ 01  ┆ Est ┆ 01  ┆ Wol ┆     ┆     ┆     ┆     ┆ 01  ┆ Cas ┆ 01  ┆ tin ┆ 07  ┆ Tho ┆ 01  ┆ Gar ┆ 02  ┆ Cas ┆ 01  ┆ Mea ┆ 01  ┆ Gla ┆ 01  ┆ Alc ┆ 01  ┆ Tsu ┆     ┆ 01  ┆ Mea ┆     ┆ 01  ┆ Aro ┆     ┆ 01  ┆ n   ┆     ┆ 01  ┆ Dia ┆     ┆ 01  ┆ Kie ┆     ┆ 02  ┆ Ada ┆     ┆ 01  ┆ Zun ┆     ┆ 01  ┆ Gla ┆     ┆ 02  ┆ Dic ┆     ┆ 02  ┆ ng  ┆     ┆ 01  ┆ Agu ┆     ┆ 01  ┆ Duv ┆     ┆ 06  ┆ And ┆     ┆ 01  ┆ Chi ┆     ┆ 02  ┆ Alf ┆     ┆ 02  ┆ Roj ┆     ┆ 01  ┆ Alc ┆     ┆     ┆     │\n",
       "│     ┆     ┆     ┆     ┆     ┆     ┆     ┆     ┆     ┆     ┆     ┆     ┆     ┆     ┆     ┆     ┆     ┆     ┆     ┆     ┆     ┆     ┆     ┆     ┆     ┆     ┆     ┆     ┆     ┆     ┆     ┆     ┆     ┆     ┆     ┆     ┆     ┆     ┆     ┆     ┆     ┆     ┆     ┆     ┆     ┆     ┆     ┆     ┆     ┆     ┆     ┆     ┆     ┆     ┆     ┆     ┆     ┆     ┆     ┆     ┆     ┆     ┆     ┆     ┆     ┆     ┆     ┆     ┆     ┆     ┆     ┆     ┆     ┆     ┆     ┆     ┆     ┆     ┆ ne  ┆     ┆ del ┆     ┆ abr ┆     ┆ cot ┆     ┆     ┆     ┆     ┆     ┆ h   ┆     ┆ gly ┆     ┆ mps ┆     ┆ cia ┆     ┆ til ┆     ┆ dow ┆     ┆ sno ┆     ┆ ant ┆     ┆ tsu ┆     ┆     ┆ dow ┆     ┆     ┆ zar ┆     ┆     ┆ Low ┆     ┆     ┆ z   ┆     ┆     ┆ rma ┆     ┆     ┆ mes ┆     ┆     ┆ ino ┆     ┆     ┆ sno ┆     ┆     ┆ ker ┆     ┆     ┆ Mar ┆     ┆     ┆ ila ┆     ┆     ┆ all ┆     ┆     ┆ ers ┆     ┆     ┆ sho ┆     ┆     ┆ aro ┆     ┆     ┆ as  ┆     ┆     ┆ ant ┆     ┆     ┆     │\n",
       "│     ┆     ┆     ┆     ┆     ┆     ┆     ┆     ┆     ┆     ┆     ┆     ┆     ┆     ┆     ┆     ┆     ┆     ┆     ┆     ┆     ┆     ┆     ┆     ┆     ┆     ┆     ┆     ┆     ┆     ┆     ┆     ┆     ┆     ┆     ┆     ┆     ┆     ┆     ┆     ┆     ┆     ┆     ┆     ┆     ┆     ┆     ┆     ┆     ┆     ┆     ┆     ┆     ┆     ┆     ┆     ┆     ┆     ┆     ┆     ┆     ┆     ┆     ┆     ┆     ┆     ┆     ┆     ┆     ┆     ┆     ┆     ┆     ┆     ┆     ┆     ┆     ┆     ┆     ┆     ┆ ste ┆     ┆ ook ┆     ┆ t   ┆     ┆     ┆     ┆     ┆     ┆     ┆     ┆     ┆     ┆ on  ┆     ┆     ┆     ┆ lo  ┆     ┆ s   ┆     ┆ w   ┆     ┆ ara ┆     ┆ go  ┆     ┆     ┆ s   ┆     ┆     ┆ ena ┆     ┆     ┆ e   ┆     ┆     ┆     ┆     ┆     ┆ ier ┆     ┆     ┆     ┆     ┆     ┆     ┆     ┆     ┆ w   ┆     ┆     ┆ son ┆     ┆     ┆ te  ┆     ┆     ┆ r   ┆     ┆     ┆     ┆     ┆     ┆ on  ┆     ┆     ┆ lm  ┆     ┆     ┆     ┆     ┆     ┆     ┆     ┆     ┆ ara ┆     ┆     ┆     │\n",
       "│     ┆     ┆     ┆     ┆     ┆     ┆     ┆     ┆     ┆     ┆     ┆     ┆     ┆     ┆     ┆     ┆     ┆     ┆     ┆     ┆     ┆     ┆     ┆     ┆     ┆     ┆     ┆     ┆     ┆     ┆     ┆     ┆     ┆     ┆     ┆     ┆     ┆     ┆     ┆     ┆     ┆     ┆     ┆     ┆     ┆     ┆     ┆     ┆     ┆     ┆     ┆     ┆     ┆     ┆     ┆     ┆     ┆     ┆     ┆     ┆     ┆     ┆     ┆     ┆     ┆     ┆     ┆     ┆     ┆     ┆     ┆     ┆     ┆     ┆     ┆     ┆     ┆     ┆     ┆     ┆ dt  ┆     ┆     ┆     ┆     ┆     ┆     ┆     ┆     ┆     ┆     ┆     ┆     ┆     ┆     ┆     ┆     ┆     ┆     ┆     ┆     ┆     ┆     ┆     ┆     ┆     ┆     ┆     ┆     ┆     ┆     ┆     ┆     ┆     ┆     ┆     ┆     ┆     ┆     ┆     ┆     ┆     ┆     ┆     ┆     ┆     ┆     ┆     ┆     ┆     ┆     ┆     ┆     ┆     ┆     ┆     ┆     ┆     ┆     ┆     ┆     ┆     ┆     ┆     ┆     ┆     ┆     ┆     ┆     ┆     ┆     ┆     ┆     ┆     ┆     ┆     ┆     ┆     ┆     ┆     ┆     │\n",
       "│ 202 ┆ 0   ┆ Thu ┆ MIN ┆ AL  ┆ 1   ┆ MIL ┆ NL  ┆ 1   ┆ 5   ┆ 6   ┆ 57  ┆ D   ┆     ┆     ┆     ┆ MIL ┆ 117 ┆ 254 ┆ 002 ┆ 001 ┆ 39  ┆ 10  ┆ 2   ┆ 1   ┆ 1   ┆ 4   ┆ 1   ┆ 0   ┆ 0   ┆ 7   ┆ 0   ┆ 17  ┆ 1   ┆ 0   ┆ 0   ┆ 0   ┆ 13  ┆ 7   ┆ 1   ┆ 1   ┆ 0   ┆ 0   ┆ 27  ┆ 10  ┆ 2   ┆ 0   ┆ 0   ┆ 0   ┆ 40  ┆ 11  ┆ 1   ┆ 0   ┆ 0   ┆ 6   ┆ 0   ┆ 0   ┆ 2   ┆ 2   ┆ 0   ┆ 9   ┆ 0   ┆ 0   ┆ 0   ┆ 0   ┆ 12  ┆ 6   ┆ 5   ┆ 5   ┆ 2   ┆ 0   ┆ 30  ┆ 6   ┆ 0   ┆ 0   ┆ 0   ┆ 0   ┆ dan ┆ Ker ┆ buc ┆ CB  ┆ fai ┆ Cha ┆ ham ┆ Ada ┆     ┆ (no ┆     ┆ (no ┆ bal ┆ Roc ┆ cou ┆ Cra ┆ had ┆ Jos ┆ dob ┆ Ran ┆     ┆ (no ┆ arc ┆ Orl ┆ mae ┆ Ken ┆ woo ┆ Bra ┆ arr ┆ Lui ┆ 7   ┆ don ┆ Jos ┆ 5   ┆ pol ┆ Jor ┆ 4   ┆ san ┆ Mig ┆ 3   ┆ kep ┆ Max ┆ 9   ┆ bux ┆ Byr ┆ 8   ┆ gar ┆ Mit ┆ 2   ┆ sim ┆ And ┆ 6   ┆ mae ┆ Ken ┆ 1   ┆ won ┆ Kol ┆ 4   ┆ hiu ┆ Kes ┆ 3   ┆ yel ┆ Chr ┆ 7   ┆ gar ┆ Avi ┆ 9   ┆ sha ┆ Tra ┆ 5   ┆ cai ┆ Lor ┆ 8   ┆ nar ┆ Oma ┆ 2   ┆ uri ┆ Lui ┆ 6   ┆ woo ┆ Bra ┆ 1   ┆     ┆ Y   │\n",
       "│ 104 ┆     ┆     ┆     ┆     ┆     ┆     ┆     ┆     ┆     ┆     ┆     ┆     ┆     ┆     ┆     ┆ 06  ┆ 40  ┆     ┆ 100 ┆ 010 ┆     ┆     ┆     ┆     ┆     ┆     ┆     ┆     ┆     ┆     ┆     ┆     ┆     ┆     ┆     ┆     ┆     ┆     ┆     ┆     ┆     ┆     ┆     ┆     ┆     ┆     ┆     ┆     ┆     ┆     ┆     ┆     ┆     ┆     ┆     ┆     ┆     ┆     ┆     ┆     ┆     ┆     ┆     ┆     ┆     ┆     ┆     ┆     ┆     ┆     ┆     ┆     ┆     ┆     ┆     ┆     ┆ lk9 ┆ win ┆ kc9 ┆ Buc ┆ rc9 ┆ d   ┆ aa9 ┆ m   ┆     ┆ ne) ┆     ┆ ne) ┆ dr0 ┆ co  ┆ nc0 ┆ ig  ┆ ej0 ┆ h   ┆ nr0 ┆ dy  ┆     ┆ ne) ┆ io0 ┆ and ┆ dk0 ┆ ta  ┆ db0 ┆ ndo ┆ al0 ┆ s   ┆     ┆ aj0 ┆ h   ┆     ┆ aj0 ┆ ge  ┆     ┆ om0 ┆ uel ┆     ┆ lm0 ┆ Kep ┆     ┆ tb0 ┆ on  ┆     ┆ vm0 ┆ ch  ┆     ┆ ma0 ┆ rel ┆     ┆ dk0 ┆ ta  ┆     ┆ gk0 ┆ ten ┆     ┆ rk0 ┆ ton ┆     ┆ ic0 ┆ ist ┆     ┆ ca0 ┆ sai ┆     ┆ wt0 ┆ vis ┆     ┆ nl0 ┆ enz ┆     ┆ vo0 ┆ r   ┆     ┆ al0 ┆ s   ┆     ┆ db0 ┆ ndo ┆     ┆     ┆     │\n",
       "│ 01  ┆     ┆     ┆     ┆     ┆     ┆     ┆     ┆     ┆     ┆     ┆     ┆     ┆     ┆     ┆     ┆     ┆     ┆     ┆ 200 ┆ 003 ┆     ┆     ┆     ┆     ┆     ┆     ┆     ┆     ┆     ┆     ┆     ┆     ┆     ┆     ┆     ┆     ┆     ┆     ┆     ┆     ┆     ┆     ┆     ┆     ┆     ┆     ┆     ┆     ┆     ┆     ┆     ┆     ┆     ┆     ┆     ┆     ┆     ┆     ┆     ┆     ┆     ┆     ┆     ┆     ┆     ┆     ┆     ┆     ┆     ┆     ┆     ┆     ┆     ┆     ┆     ┆     ┆ 01  ┆ Dan ┆ 01  ┆ kno ┆ 01  ┆ Fai ┆ 01  ┆ Ham ┆     ┆     ┆     ┆     ┆ 01  ┆ Bal ┆ 01  ┆ Cou ┆ 01  ┆ Had ┆ 01  ┆ Dob ┆     ┆     ┆ 02  ┆ o   ┆ 01  ┆ Mae ┆ 05  ┆ n   ┆ 01  ┆ Arr ┆     ┆ 01  ┆ Don ┆     ┆ 01  ┆ Pol ┆     ┆ 01  ┆ San ┆     ┆ 01  ┆ ler ┆     ┆ 01  ┆ Bux ┆     ┆ 01  ┆ Gar ┆     ┆ 01  ┆ ton ┆     ┆ 01  ┆ Mae ┆     ┆ 01  ┆ Won ┆     ┆ 01  ┆ Hiu ┆     ┆ 01  ┆ ian ┆     ┆ 03  ┆ l   ┆     ┆ 01  ┆ Sha ┆     ┆ 01  ┆ o   ┆     ┆ 01  ┆ Nar ┆     ┆ 01  ┆ Uri ┆     ┆ 05  ┆ n   ┆     ┆     ┆     │\n",
       "│     ┆     ┆     ┆     ┆     ┆     ┆     ┆     ┆     ┆     ┆     ┆     ┆     ┆     ┆     ┆     ┆     ┆     ┆     ┆ 0   ┆ 1   ┆     ┆     ┆     ┆     ┆     ┆     ┆     ┆     ┆     ┆     ┆     ┆     ┆     ┆     ┆     ┆     ┆     ┆     ┆     ┆     ┆     ┆     ┆     ┆     ┆     ┆     ┆     ┆     ┆     ┆     ┆     ┆     ┆     ┆     ┆     ┆     ┆     ┆     ┆     ┆     ┆     ┆     ┆     ┆     ┆     ┆     ┆     ┆     ┆     ┆     ┆     ┆     ┆     ┆     ┆     ┆     ┆     ┆ ley ┆     ┆ r   ┆     ┆ rch ┆     ┆ ari ┆     ┆     ┆     ┆     ┆     ┆ del ┆     ┆ nse ┆     ┆ er  ┆     ┆ nak ┆     ┆     ┆     ┆ Arc ┆     ┆ da  ┆     ┆ Woo ┆     ┆ aez ┆     ┆     ┆ ald ┆     ┆     ┆ anc ┆     ┆     ┆ o   ┆     ┆     ┆     ┆     ┆     ┆ ton ┆     ┆     ┆ ver ┆     ┆     ┆ Sim ┆     ┆     ┆ da  ┆     ┆     ┆ g   ┆     ┆     ┆ ra  ┆     ┆     ┆ Yel ┆     ┆     ┆ Gar ┆     ┆     ┆ w   ┆     ┆     ┆ Cai ┆     ┆     ┆ vae ┆     ┆     ┆ as  ┆     ┆     ┆ Woo ┆     ┆     ┆     │\n",
       "│     ┆     ┆     ┆     ┆     ┆     ┆     ┆     ┆     ┆     ┆     ┆     ┆     ┆     ┆     ┆     ┆     ┆     ┆     ┆     ┆     ┆     ┆     ┆     ┆     ┆     ┆     ┆     ┆     ┆     ┆     ┆     ┆     ┆     ┆     ┆     ┆     ┆     ┆     ┆     ┆     ┆     ┆     ┆     ┆     ┆     ┆     ┆     ┆     ┆     ┆     ┆     ┆     ┆     ┆     ┆     ┆     ┆     ┆     ┆     ┆     ┆     ┆     ┆     ┆     ┆     ┆     ┆     ┆     ┆     ┆     ┆     ┆     ┆     ┆     ┆     ┆     ┆     ┆     ┆     ┆     ┆     ┆ ild ┆     ┆     ┆     ┆     ┆     ┆     ┆     ┆ li  ┆     ┆ ll  ┆     ┆     ┆     ┆     ┆     ┆     ┆     ┆ ia  ┆     ┆     ┆     ┆ dru ┆     ┆     ┆     ┆     ┆ son ┆     ┆     ┆ o   ┆     ┆     ┆     ┆     ┆     ┆     ┆     ┆     ┆     ┆     ┆     ┆     ┆     ┆     ┆ mon ┆     ┆     ┆     ┆     ┆     ┆     ┆     ┆     ┆     ┆     ┆     ┆ ich ┆     ┆     ┆ cia ┆     ┆     ┆     ┆     ┆     ┆ n   ┆     ┆     ┆ z   ┆     ┆     ┆     ┆     ┆     ┆ dru ┆     ┆     ┆     │\n",
       "│     ┆     ┆     ┆     ┆     ┆     ┆     ┆     ┆     ┆     ┆     ┆     ┆     ┆     ┆     ┆     ┆     ┆     ┆     ┆     ┆     ┆     ┆     ┆     ┆     ┆     ┆     ┆     ┆     ┆     ┆     ┆     ┆     ┆     ┆     ┆     ┆     ┆     ┆     ┆     ┆     ┆     ┆     ┆     ┆     ┆     ┆     ┆     ┆     ┆     ┆     ┆     ┆     ┆     ┆     ┆     ┆     ┆     ┆     ┆     ┆     ┆     ┆     ┆     ┆     ┆     ┆     ┆     ┆     ┆     ┆     ┆     ┆     ┆     ┆     ┆     ┆     ┆     ┆     ┆     ┆     ┆     ┆     ┆     ┆     ┆     ┆     ┆     ┆     ┆     ┆     ┆     ┆     ┆     ┆     ┆     ┆     ┆     ┆     ┆     ┆     ┆     ┆     ┆     ┆ ff  ┆     ┆     ┆     ┆     ┆     ┆     ┆     ┆     ┆     ┆     ┆     ┆     ┆     ┆     ┆     ┆     ┆     ┆     ┆     ┆     ┆     ┆     ┆ s   ┆     ┆     ┆     ┆     ┆     ┆     ┆     ┆     ┆     ┆     ┆     ┆     ┆     ┆     ┆     ┆     ┆     ┆     ┆     ┆     ┆     ┆     ┆     ┆     ┆     ┆     ┆     ┆     ┆     ┆ ff  ┆     ┆     ┆     │\n",
       "│ 202 ┆ 0   ┆ Thu ┆ ATL ┆ NL  ┆ 1   ┆ PHI ┆ NL  ┆ 1   ┆ 2   ┆ 3   ┆ 59  ┆ D   ┆     ┆     ┆     ┆ PHI ┆ 852 ┆ 213 ┆ 000 ┆ 101 ┆ 37  ┆ 7   ┆ 2   ┆ 0   ┆ 1   ┆ 2   ┆ 0   ┆ 0   ┆ 1   ┆ 2   ┆ 0   ┆ 10  ┆ 0   ┆ 0   ┆ 0   ┆ 0   ┆ 9   ┆ 6   ┆ 2   ┆ 2   ┆ 0   ┆ 0   ┆ 29  ┆ 11  ┆ 1   ┆ 0   ┆ 0   ┆ 0   ┆ 36  ┆ 9   ┆ 2   ┆ 0   ┆ 0   ┆ 3   ┆ 1   ┆ 1   ┆ 1   ┆ 4   ┆ 1   ┆ 13  ┆ 1   ┆ 0   ┆ 0   ┆ 0   ┆ 12  ┆ 5   ┆ 2   ┆ 2   ┆ 0   ┆ 0   ┆ 30  ┆ 7   ┆ 1   ┆ 0   ┆ 1   ┆ 0   ┆ mil ┆ Bil ┆ edd ┆ Dou ┆ kni ┆ Bri ┆ mor ┆ Gab ┆     ┆ (no ┆     ┆ (no ┆ sni ┆ Bri ┆ gir ┆ Joe ┆ bro ┆ Con ┆ jon ┆ Nat ┆     ┆ (no ┆ seg ┆ Jea ┆ fri ┆ Max ┆ nol ┆ Aar ┆ acu ┆ Ron ┆ 9   ┆ alb ┆ Ozz ┆ 4   ┆ fre ┆ Fre ┆ 3   ┆ ozu ┆ Mar ┆ 7   ┆ dar ┆ Tra ┆ 2   ┆ swa ┆ Dan ┆ 6   ┆ ril ┆ Aus ┆ 5   ┆ pac ┆ Cri ┆ 8   ┆ fri ┆ Max ┆ 1   ┆ mcc ┆ And ┆ 7   ┆ hos ┆ Rhy ┆ 3   ┆ har ┆ Bry ┆ 9   ┆ rea ┆ J.T ┆ 2   ┆ boh ┆ Ale ┆ 5   ┆ gre ┆ Did ┆ 6   ┆ seg ┆ Jea ┆ 4   ┆ has ┆ Ada ┆ 8   ┆ nol ┆ Aar ┆ 1   ┆     ┆ Y   │\n",
       "│ 104 ┆     ┆     ┆     ┆     ┆     ┆     ┆     ┆     ┆     ┆     ┆     ┆     ┆     ┆     ┆     ┆ 13  ┆ 9   ┆     ┆ 000 ┆ 000 ┆     ┆     ┆     ┆     ┆     ┆     ┆     ┆     ┆     ┆     ┆     ┆     ┆     ┆     ┆     ┆     ┆     ┆     ┆     ┆     ┆     ┆     ┆     ┆     ┆     ┆     ┆     ┆     ┆     ┆     ┆     ┆     ┆     ┆     ┆     ┆     ┆     ┆     ┆     ┆     ┆     ┆     ┆     ┆     ┆     ┆     ┆     ┆     ┆     ┆     ┆     ┆     ┆     ┆     ┆     ┆     ┆ lb9 ┆ l   ┆ id9 ┆ g   ┆ gb9 ┆ an  ┆ ag9 ┆ e   ┆     ┆ ne) ┆     ┆ ne) ┆ tb8 ┆ an  ┆ aj0 ┆ Gir ┆ gc0 ┆ nor ┆ en0 ┆ e   ┆     ┆ ne) ┆ uj0 ┆ n   ┆ em0 ┆ Fri ┆ aa0 ┆ on  ┆ nr0 ┆ ald ┆     ┆ io0 ┆ ie  ┆     ┆ ef0 ┆ ddi ┆     ┆ nm0 ┆ cel ┆     ┆ nt0 ┆ vis ┆     ┆ nd0 ┆ sby ┆     ┆ ea0 ┆ tin ┆     ┆ hc0 ┆ sti ┆     ┆ em0 ┆ Fri ┆     ┆ ua0 ┆ rew ┆     ┆ kr0 ┆ s   ┆     ┆ pb0 ┆ ce  ┆     ┆ lj0 ┆ .   ┆     ┆ ma0 ┆ c   ┆     ┆ gd0 ┆ i   ┆     ┆ uj0 ┆ n   ┆     ┆ ea0 ┆ m   ┆     ┆ aa0 ┆ on  ┆     ┆     ┆     │\n",
       "│ 01  ┆     ┆     ┆     ┆     ┆     ┆     ┆     ┆     ┆     ┆     ┆     ┆     ┆     ┆     ┆     ┆     ┆     ┆     ┆ 200 ┆ 000 ┆     ┆     ┆     ┆     ┆     ┆     ┆     ┆     ┆     ┆     ┆     ┆     ┆     ┆     ┆     ┆     ┆     ┆     ┆     ┆     ┆     ┆     ┆     ┆     ┆     ┆     ┆     ┆     ┆     ┆     ┆     ┆     ┆     ┆     ┆     ┆     ┆     ┆     ┆     ┆     ┆     ┆     ┆     ┆     ┆     ┆     ┆     ┆     ┆     ┆     ┆     ┆     ┆     ┆     ┆     ┆     ┆ 01  ┆ Mil ┆ 01  ┆ Edd ┆ 01  ┆ Kni ┆ 01  ┆ Mor ┆     ┆     ┆     ┆     ┆ 01  ┆ Sni ┆ 01  ┆ ard ┆ 01  ┆ Bro ┆ 01  ┆ Jon ┆     ┆     ┆ 02  ┆ Seg ┆ 01  ┆ ed  ┆ 01  ┆ Nol ┆ 01  ┆ Acu ┆     ┆ 01  ┆ Alb ┆     ┆ 01  ┆ e   ┆     ┆ 01  ┆ l   ┆     ┆ 01  ┆ d'A ┆     ┆ 01  ┆ Swa ┆     ┆ 01  ┆ Ril ┆     ┆ 01  ┆ an  ┆     ┆ 01  ┆ ed  ┆     ┆ 01  ┆ McC ┆     ┆ 01  ┆ Hos ┆     ┆ 03  ┆ Har ┆     ┆ 01  ┆ Rea ┆     ┆ 01  ┆ Boh ┆     ┆ 01  ┆ Gre ┆     ┆ 02  ┆ Seg ┆     ┆ 01  ┆ Has ┆     ┆ 01  ┆ Nol ┆     ┆     ┆     │\n",
       "│     ┆     ┆     ┆     ┆     ┆     ┆     ┆     ┆     ┆     ┆     ┆     ┆     ┆     ┆     ┆     ┆     ┆     ┆     ┆ 0   ┆ 1   ┆     ┆     ┆     ┆     ┆     ┆     ┆     ┆     ┆     ┆     ┆     ┆     ┆     ┆     ┆     ┆     ┆     ┆     ┆     ┆     ┆     ┆     ┆     ┆     ┆     ┆     ┆     ┆     ┆     ┆     ┆     ┆     ┆     ┆     ┆     ┆     ┆     ┆     ┆     ┆     ┆     ┆     ┆     ┆     ┆     ┆     ┆     ┆     ┆     ┆     ┆     ┆     ┆     ┆     ┆     ┆     ┆     ┆ ler ┆     ┆ ing ┆     ┆ ght ┆     ┆ ale ┆     ┆     ┆     ┆     ┆     ┆ tke ┆     ┆ i   ┆     ┆ gdo ┆     ┆ es  ┆     ┆     ┆     ┆ ura ┆     ┆     ┆     ┆ a   ┆     ┆ na  ┆     ┆     ┆ ies ┆     ┆     ┆ Fre ┆     ┆     ┆ Ozu ┆     ┆     ┆ rna ┆     ┆     ┆ nso ┆     ┆     ┆ ey  ┆     ┆     ┆ Pac ┆     ┆     ┆     ┆     ┆     ┆ utc ┆     ┆     ┆ kin ┆     ┆     ┆ per ┆     ┆     ┆ lmu ┆     ┆     ┆ m   ┆     ┆     ┆ gor ┆     ┆     ┆ ura ┆     ┆     ┆ ele ┆     ┆     ┆ a   ┆     ┆     ┆     │\n",
       "│     ┆     ┆     ┆     ┆     ┆     ┆     ┆     ┆     ┆     ┆     ┆     ┆     ┆     ┆     ┆     ┆     ┆     ┆     ┆     ┆     ┆     ┆     ┆     ┆     ┆     ┆     ┆     ┆     ┆     ┆     ┆     ┆     ┆     ┆     ┆     ┆     ┆     ┆     ┆     ┆     ┆     ┆     ┆     ┆     ┆     ┆     ┆     ┆     ┆     ┆     ┆     ┆     ┆     ┆     ┆     ┆     ┆     ┆     ┆     ┆     ┆     ┆     ┆     ┆     ┆     ┆     ┆     ┆     ┆     ┆     ┆     ┆     ┆     ┆     ┆     ┆     ┆     ┆     ┆     ┆ s   ┆     ┆     ┆     ┆ s   ┆     ┆     ┆     ┆     ┆     ┆ r   ┆     ┆     ┆     ┆ n   ┆     ┆     ┆     ┆     ┆     ┆     ┆     ┆     ┆     ┆     ┆     ┆     ┆     ┆     ┆     ┆     ┆     ┆ ema ┆     ┆     ┆ na  ┆     ┆     ┆ ud  ┆     ┆     ┆ n   ┆     ┆     ┆     ┆     ┆     ┆ he  ┆     ┆     ┆     ┆     ┆     ┆ hen ┆     ┆     ┆ s   ┆     ┆     ┆     ┆     ┆     ┆ to  ┆     ┆     ┆     ┆     ┆     ┆ ius ┆     ┆     ┆     ┆     ┆     ┆ y   ┆     ┆     ┆     ┆     ┆     ┆     │\n",
       "│     ┆     ┆     ┆     ┆     ┆     ┆     ┆     ┆     ┆     ┆     ┆     ┆     ┆     ┆     ┆     ┆     ┆     ┆     ┆     ┆     ┆     ┆     ┆     ┆     ┆     ┆     ┆     ┆     ┆     ┆     ┆     ┆     ┆     ┆     ┆     ┆     ┆     ┆     ┆     ┆     ┆     ┆     ┆     ┆     ┆     ┆     ┆     ┆     ┆     ┆     ┆     ┆     ┆     ┆     ┆     ┆     ┆     ┆     ┆     ┆     ┆     ┆     ┆     ┆     ┆     ┆     ┆     ┆     ┆     ┆     ┆     ┆     ┆     ┆     ┆     ┆     ┆     ┆     ┆     ┆     ┆     ┆     ┆     ┆     ┆     ┆     ┆     ┆     ┆     ┆     ┆     ┆     ┆     ┆     ┆     ┆     ┆     ┆     ┆     ┆     ┆     ┆     ┆     ┆     ┆     ┆     ┆     ┆     ┆     ┆     ┆     ┆ n   ┆     ┆     ┆     ┆     ┆     ┆     ┆     ┆     ┆     ┆     ┆     ┆     ┆     ┆     ┆     ┆     ┆     ┆     ┆     ┆     ┆     ┆     ┆     ┆     ┆     ┆     ┆     ┆     ┆     ┆     ┆     ┆     ┆     ┆     ┆     ┆     ┆     ┆     ┆     ┆     ┆     ┆     ┆     ┆     ┆     ┆     ┆     ┆     │\n",
       "└─────┴─────┴─────┴─────┴─────┴─────┴─────┴─────┴─────┴─────┴─────┴─────┴─────┴─────┴─────┴─────┴─────┴─────┴─────┴─────┴─────┴─────┴─────┴─────┴─────┴─────┴─────┴─────┴─────┴─────┴─────┴─────┴─────┴─────┴─────┴─────┴─────┴─────┴─────┴─────┴─────┴─────┴─────┴─────┴─────┴─────┴─────┴─────┴─────┴─────┴─────┴─────┴─────┴─────┴─────┴─────┴─────┴─────┴─────┴─────┴─────┴─────┴─────┴─────┴─────┴─────┴─────┴─────┴─────┴─────┴─────┴─────┴─────┴─────┴─────┴─────┴─────┴─────┴─────┴─────┴─────┴─────┴─────┴─────┴─────┴─────┴─────┴─────┴─────┴─────┴─────┴─────┴─────┴─────┴─────┴─────┴─────┴─────┴─────┴─────┴─────┴─────┴─────┴─────┴─────┴─────┴─────┴─────┴─────┴─────┴─────┴─────┴─────┴─────┴─────┴─────┴─────┴─────┴─────┴─────┴─────┴─────┴─────┴─────┴─────┴─────┴─────┴─────┴─────┴─────┴─────┴─────┴─────┴─────┴─────┴─────┴─────┴─────┴─────┴─────┴─────┴─────┴─────┴─────┴─────┴─────┴─────┴─────┴─────┴─────┴─────┴─────┴─────┴─────┴─────┴─────┴─────┴─────┴─────┴─────┴─────┘"
      ]
     },
     "execution_count": 31,
     "metadata": {},
     "output_type": "execute_result"
    }
   ],
   "source": [
    "season = 2021\n",
    "url = f'https://raw.githubusercontent.com/chadwickbureau/retrosheet/refs/heads/master/seasons/{season}/GL{season}.TXT'\n",
    "\n",
    "df = pl.read_csv(url, new_columns=gamelog_columns ,infer_schema_length=10000)\n",
    "print(df.shape)\n",
    "df.head()"
   ]
  }
 ],
 "metadata": {
  "colab": {
   "authorship_tag": "ABX9TyObAERa2lN6YT45f2h0PeBx",
   "provenance": []
  },
  "kernelspec": {
   "display_name": "Python 3",
   "name": "python3"
  },
  "language_info": {
   "name": "python"
  }
 },
 "nbformat": 4,
 "nbformat_minor": 0
}

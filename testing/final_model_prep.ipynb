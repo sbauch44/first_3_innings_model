{
 "cells": [
  {
   "cell_type": "code",
   "execution_count": 1,
   "metadata": {
    "colab": {
     "base_uri": "https://localhost:8080/"
    },
    "executionInfo": {
     "elapsed": 78914,
     "status": "ok",
     "timestamp": 1744939995814,
     "user": {
      "displayName": "Sam",
      "userId": "02456008665656849434"
     },
     "user_tz": 240
    },
    "id": "NJ5Up6i_cXN6",
    "outputId": "1c227cc5-afc3-4b08-b5b1-eb4c9a7a78c4"
   },
   "outputs": [
    {
     "data": {
      "text/plain": [
       "polars.config.Config"
      ]
     },
     "execution_count": 1,
     "metadata": {},
     "output_type": "execute_result"
    }
   ],
   "source": [
    "import polars as pl\n",
    "import pandas as pd\n",
    "import numpy as np\n",
    "import time\n",
    "import datetime\n",
    "\n",
    "pl.Config.set_tbl_cols(200)\n",
    "pl.Config.set_tbl_rows(200)"
   ]
  },
  {
   "cell_type": "markdown",
   "metadata": {
    "id": "2oew1aE6sJCJ"
   },
   "source": [
    "## Load Data\n"
   ]
  },
  {
   "cell_type": "code",
   "execution_count": 2,
   "metadata": {
    "executionInfo": {
     "elapsed": 1063,
     "status": "ok",
     "timestamp": 1744942154612,
     "user": {
      "displayName": "Sam",
      "userId": "02456008665656849434"
     },
     "user_tz": 240
    },
    "id": "zI5lCn-3qG6B"
   },
   "outputs": [],
   "source": [
    "main_df = pl.read_parquet(f'../raw_data/ballasted_statcast_data.parquet')\n",
    "def_df = pl.read_parquet(f'../clean_data/clean_defensive_stats.parquet')\n",
    "park_df = pl.read_parquet(f'../clean_data/clean_park_factors.parquet')"
   ]
  },
  {
   "cell_type": "markdown",
   "metadata": {
    "id": "GsHfgkSruGel"
   },
   "source": [
    "### Filter to 1st 3 innings and only include necessary columns"
   ]
  },
  {
   "cell_type": "code",
   "execution_count": 3,
   "metadata": {
    "executionInfo": {
     "elapsed": 29,
     "status": "ok",
     "timestamp": 1744942155828,
     "user": {
      "displayName": "Sam",
      "userId": "02456008665656849434"
     },
     "user_tz": 240
    },
    "id": "-ewk8rGUuOdi"
   },
   "outputs": [],
   "source": [
    "model_df = (\n",
    "    main_df\n",
    "    .filter(pl.col('inning') <= 3)\n",
    "    .select(\n",
    "        'game_pk',\n",
    "        'batter',\n",
    "        'pitcher',\n",
    "        'is_batter_home',\n",
    "        'home_team',\n",
    "        'game_date',\n",
    "        pl.col('game_year').alias('year'),\n",
    "        'fielder_2',\n",
    "        'fielder_3',\n",
    "        'fielder_4',\n",
    "        'fielder_5',\n",
    "        'fielder_6',\n",
    "        'fielder_7',\n",
    "        'fielder_8',\n",
    "        'fielder_9',\n",
    "        'pa_outcome_category',\n",
    "        'is_platoon_adv',\n",
    "        'pitcher_avg_a_daily_input',\n",
    "        'pitcher_k_pct_a_daily_input',\n",
    "        'pitcher_bb_pct_a_daily_input',\n",
    "        'pitcher_hbp_pct_a_daily_input',\n",
    "        'pitcher_1b_pct_a_daily_input',\n",
    "        'pitcher_2b_pct_a_daily_input',\n",
    "        'pitcher_3b_pct_a_daily_input',\n",
    "        'pitcher_hr_pct_a_daily_input',\n",
    "        'pitcher_non_k_out_pct_a_daily_input',\n",
    "        'batter_avg_daily_input',\n",
    "        'batter_k_pct_daily_input',\n",
    "        'batter_bb_pct_daily_input',\n",
    "        'batter_hbp_pct_daily_input',\n",
    "        'batter_1b_pct_daily_input',\n",
    "        'batter_2b_pct_daily_input',\n",
    "        'batter_3b_pct_daily_input',\n",
    "        'batter_hr_pct_daily_input',\n",
    "        'batter_non_k_out_pct_daily_input',\n",
    "    )\n",
    ")"
   ]
  },
  {
   "cell_type": "markdown",
   "metadata": {
    "id": "1m36fM6TZ-99"
   },
   "source": [
    "## Join in Defense"
   ]
  },
  {
   "cell_type": "code",
   "execution_count": 4,
   "metadata": {
    "executionInfo": {
     "elapsed": 23,
     "status": "ok",
     "timestamp": 1744942156949,
     "user": {
      "displayName": "Sam",
      "userId": "02456008665656849434"
     },
     "user_tz": 240
    },
    "id": "J9rm3mdnPPR9"
   },
   "outputs": [],
   "source": [
    "def_df = (\n",
    "    def_df\n",
    "    .select(\n",
    "        'player_id',\n",
    "        'year',\n",
    "        'outs_above_average_per_inning',\n",
    "    )\n",
    ")"
   ]
  },
  {
   "cell_type": "code",
   "execution_count": 5,
   "metadata": {
    "executionInfo": {
     "elapsed": 152,
     "status": "ok",
     "timestamp": 1744942157657,
     "user": {
      "displayName": "Sam",
      "userId": "02456008665656849434"
     },
     "user_tz": 240
    },
    "id": "41ie9uUmCpz8"
   },
   "outputs": [],
   "source": [
    "pa_df_with_defense = model_df.clone()\n",
    "\n",
    "oaa_cols_list = []\n",
    "for i in range(2, 10): # Loop from fielder_2 to fielder_9\n",
    "    fielder_col = f\"fielder_{i}\" # e.g., 'fielder_2'\n",
    "    oaa_col_name = f\"f{i}_oaa_per_inning\" # e.g., 'oaa_p2_prior'\n",
    "\n",
    "    oaa_cols_list.append(oaa_col_name)\n",
    "\n",
    "    # Perform the left join for the current fielder\n",
    "    pa_df_with_defense = (\n",
    "        pa_df_with_defense\n",
    "        .join(\n",
    "            def_df,\n",
    "            left_on=[fielder_col, \"year\"],\n",
    "            right_on=[\"player_id\", \"year\"],\n",
    "            how=\"left\",\n",
    "        )\n",
    "        .rename({\"outs_above_average_per_inning\": oaa_col_name})\n",
    "        .with_columns(pl.col(oaa_col_name).fill_null(0))\n",
    "    )\n",
    "\n",
    "\n",
    "pa_df_with_defense = (\n",
    "    pa_df_with_defense\n",
    "    .with_columns(\n",
    "        pl.sum_horizontal(oaa_cols_list).alias(\"team_defense_oaa_input\")\n",
    "    )\n",
    ")"
   ]
  },
  {
   "cell_type": "markdown",
   "metadata": {
    "id": "F8eUJKmjMm02"
   },
   "source": [
    "## Add in Park Factors"
   ]
  },
  {
   "cell_type": "code",
   "execution_count": 6,
   "metadata": {
    "executionInfo": {
     "elapsed": 3,
     "status": "ok",
     "timestamp": 1744942159339,
     "user": {
      "displayName": "Sam",
      "userId": "02456008665656849434"
     },
     "user_tz": 240
    },
    "id": "PNvVu5CdHkpZ"
   },
   "outputs": [],
   "source": [
    "team_mapping = {\n",
    "    'BOS': 'Red Sox',\n",
    "    'MIN': 'Twins',\n",
    "    'LAD': 'Dodgers',\n",
    "    'CLE': 'Guardians',\n",
    "    'SD': 'Padres',\n",
    "    'KC': 'Royals',\n",
    "    'CWS': 'White Sox',\n",
    "    'WSH': 'Nationals',\n",
    "    'TB': 'Rays',\n",
    "    'AZ': 'D-backs',\n",
    "    'MIL': 'Brewers',\n",
    "    'STL': 'Cardinals',\n",
    "    'DET': 'Tigers',\n",
    "    'TEX': 'Rangers',\n",
    "    'OAK': 'Athletics',\n",
    "    'ATL': 'Braves',\n",
    "    'PHI': 'Phillies',\n",
    "    'CIN': 'Reds',\n",
    "    'NYY': 'Yankees',\n",
    "    'SEA': 'Mariners',\n",
    "    'NYM': 'Mets',\n",
    "    'LAA': 'Angels',\n",
    "    'MIA': 'Marlins',\n",
    "    'SF': 'Giants',\n",
    "    'PIT': 'Pirates',\n",
    "    'COL': 'Rockies',\n",
    "    'HOU': 'Astros',\n",
    "    'BAL': 'Orioles',\n",
    "    'TOR': 'Blue Jays',\n",
    "    'CHC': 'Cubs'\n",
    "}\n",
    "\n",
    "mapping_df = (\n",
    "    pl.DataFrame({\n",
    "        \"team_name\": list(team_mapping.values()),\n",
    "        \"team_abbr\": list(team_mapping.keys()),\n",
    "    })\n",
    ")"
   ]
  },
  {
   "cell_type": "code",
   "execution_count": 7,
   "metadata": {
    "executionInfo": {
     "elapsed": 11,
     "status": "ok",
     "timestamp": 1744942160215,
     "user": {
      "displayName": "Sam",
      "userId": "02456008665656849434"
     },
     "user_tz": 240
    },
    "id": "dt_OipYzNr9k"
   },
   "outputs": [],
   "source": [
    "df_with_abbr = (\n",
    "    park_df\n",
    "    .join(\n",
    "        mapping_df,\n",
    "        left_on=\"name_display_club\",\n",
    "        right_on=\"team_name\",\n",
    "        how=\"left\",\n",
    "    )\n",
    "    .filter(pl.col(\"team_abbr\").is_not_null())\n",
    ")"
   ]
  },
  {
   "cell_type": "code",
   "execution_count": 8,
   "metadata": {
    "executionInfo": {
     "elapsed": 78,
     "status": "ok",
     "timestamp": 1744942160897,
     "user": {
      "displayName": "Sam",
      "userId": "02456008665656849434"
     },
     "user_tz": 240
    },
    "id": "VmDs9h49NtMt"
   },
   "outputs": [],
   "source": [
    "df_park_factors_final = (\n",
    "    df_with_abbr\n",
    "    .with_columns(\n",
    "        (pl.col(\"year\") + 1).alias(\"year_to_join\"),\n",
    "        pl.col(\"park_factor\").fill_null(100.0).alias(\"park_factor_filled\"),\n",
    "    )\n",
    "    .select(\n",
    "        pl.col(\"team_abbr\"), # This will match 'home_team' abbreviation\n",
    "        pl.col(\"year_to_join\"),\n",
    "        pl.col(\"park_factor_filled\").alias(\"park_factor_input\") # The value to use\n",
    "    )\n",
    "    .unique()\n",
    "    .sort(\"team_abbr\", \"year_to_join\")\n",
    ")\n",
    "\n",
    "\n",
    "\n",
    "final_model_df = (\n",
    "    pa_df_with_defense\n",
    "    .join(\n",
    "        df_park_factors_final,\n",
    "        left_on=[\"home_team\", \"year\"], # Keys from PA data\n",
    "        right_on=[\"team_abbr\", \"year_to_join\"], # Keys from prepared park factor data\n",
    "        how=\"left\"\n",
    "    )\n",
    "    .select(\n",
    "        'game_pk',\n",
    "        'batter',\n",
    "        'pitcher',\n",
    "        'home_team',\n",
    "        'is_batter_home',\n",
    "        'game_date',\n",
    "        'year',\n",
    "        'pa_outcome_category',\n",
    "        'is_platoon_adv',\n",
    "        'pitcher_avg_a_daily_input',\n",
    "        'pitcher_k_pct_a_daily_input',\n",
    "        'pitcher_bb_pct_a_daily_input',\n",
    "        'pitcher_hbp_pct_a_daily_input',\n",
    "        'pitcher_1b_pct_a_daily_input',\n",
    "        'pitcher_2b_pct_a_daily_input',\n",
    "        'pitcher_3b_pct_a_daily_input',\n",
    "        'pitcher_hr_pct_a_daily_input',\n",
    "        'pitcher_non_k_out_pct_a_daily_input',\n",
    "        'batter_avg_daily_input',\n",
    "        'batter_k_pct_daily_input',\n",
    "        'batter_bb_pct_daily_input',\n",
    "        'batter_hbp_pct_daily_input',\n",
    "        'batter_1b_pct_daily_input',\n",
    "        'batter_2b_pct_daily_input',\n",
    "        'batter_3b_pct_daily_input',\n",
    "        'batter_hr_pct_daily_input',\n",
    "        'batter_non_k_out_pct_daily_input',\n",
    "        'team_defense_oaa_input',\n",
    "        'park_factor_input'\n",
    "    )\n",
    "    .filter(pl.col('year').is_in([2023, 2024]))\n",
    ")"
   ]
  },
  {
   "cell_type": "code",
   "execution_count": 9,
   "metadata": {
    "executionInfo": {
     "elapsed": 375,
     "status": "ok",
     "timestamp": 1744942162006,
     "user": {
      "displayName": "Sam",
      "userId": "02456008665656849434"
     },
     "user_tz": 240
    },
    "id": "ZAZVhebnag4X"
   },
   "outputs": [],
   "source": [
    "final_model_df.write_parquet(f'../raw_data/final_model_data.parquet')"
   ]
  },
  {
   "cell_type": "code",
   "execution_count": 10,
   "metadata": {
    "id": "22J-UvSGakaF"
   },
   "outputs": [
    {
     "name": "stdout",
     "output_type": "stream",
     "text": [
      "Creating PA Outcome Scaler...\n"
     ]
    }
   ],
   "source": [
    "# Cell: Import sklearn and create scaler\n",
    "from sklearn.preprocessing import StandardScaler\n",
    "import joblib\n",
    "\n",
    "print(\"Creating PA Outcome Scaler...\")"
   ]
  },
  {
   "cell_type": "code",
   "execution_count": 11,
   "metadata": {},
   "outputs": [
    {
     "name": "stdout",
     "output_type": "stream",
     "text": [
      "Continuous columns to scale: 18\n",
      "  - pitcher_k_pct_a_daily_input\n",
      "  - pitcher_bb_pct_a_daily_input\n",
      "  - pitcher_hbp_pct_a_daily_input\n",
      "  - pitcher_1b_pct_a_daily_input\n",
      "  - pitcher_2b_pct_a_daily_input\n",
      "  - pitcher_3b_pct_a_daily_input\n",
      "  - pitcher_hr_pct_a_daily_input\n",
      "  - pitcher_non_k_out_pct_a_daily_input\n",
      "  - batter_k_pct_daily_input\n",
      "  - batter_bb_pct_daily_input\n",
      "  - batter_hbp_pct_daily_input\n",
      "  - batter_1b_pct_daily_input\n",
      "  - batter_2b_pct_daily_input\n",
      "  - batter_3b_pct_daily_input\n",
      "  - batter_hr_pct_daily_input\n",
      "  - batter_non_k_out_pct_daily_input\n",
      "  - team_defense_oaa_input\n",
      "  - park_factor_input\n"
     ]
    }
   ],
   "source": [
    "\n",
    "CONTINUOUS_COLS = [\n",
    "    \"pitcher_k_pct_a_daily_input\",\n",
    "    \"pitcher_bb_pct_a_daily_input\",\n",
    "    \"pitcher_hbp_pct_a_daily_input\", \n",
    "    \"pitcher_1b_pct_a_daily_input\",\n",
    "    \"pitcher_2b_pct_a_daily_input\",\n",
    "    \"pitcher_3b_pct_a_daily_input\",\n",
    "    \"pitcher_hr_pct_a_daily_input\",\n",
    "    \"pitcher_non_k_out_pct_a_daily_input\",\n",
    "    \"batter_k_pct_daily_input\",\n",
    "    \"batter_bb_pct_daily_input\",\n",
    "    \"batter_hbp_pct_daily_input\",\n",
    "    \"batter_1b_pct_daily_input\", \n",
    "    \"batter_2b_pct_daily_input\",\n",
    "    \"batter_3b_pct_daily_input\",\n",
    "    \"batter_hr_pct_daily_input\",\n",
    "    \"batter_non_k_out_pct_daily_input\",\n",
    "    \"team_defense_oaa_input\",\n",
    "    \"park_factor_input\",\n",
    "]\n",
    "\n",
    "print(f\"Continuous columns to scale: {len(CONTINUOUS_COLS)}\")\n",
    "for col in CONTINUOUS_COLS:\n",
    "    print(f\"  - {col}\")"
   ]
  },
  {
   "cell_type": "code",
   "execution_count": 15,
   "metadata": {},
   "outputs": [
    {
     "name": "stdout",
     "output_type": "stream",
     "text": [
      "Complete records: 186072 out of 186072\n",
      "Continuous data shape: (186072, 18)\n"
     ]
    }
   ],
   "source": [
    "# Cell: Extract continuous features and create scaler\n",
    "# Filter for complete records (no nulls in continuous columns)\n",
    "complete_records = final_model_df.filter(\n",
    "    pl.all_horizontal([pl.col(col).is_not_null() for col in CONTINUOUS_COLS])\n",
    ")\n",
    "\n",
    "print(f\"Complete records: {complete_records.shape[0]} out of {final_model_df.shape[0]}\")\n",
    "\n",
    "# Extract continuous features\n",
    "continuous_data = complete_records.select(CONTINUOUS_COLS).to_numpy()\n",
    "print(f\"Continuous data shape: {continuous_data.shape}\")"
   ]
  },
  {
   "cell_type": "code",
   "execution_count": 16,
   "metadata": {},
   "outputs": [
    {
     "name": "stdout",
     "output_type": "stream",
     "text": [
      "✅ Scaler fitted on 18 features\n",
      "Feature names: ['pitcher_k_pct_a_daily_input', 'pitcher_bb_pct_a_daily_input', 'pitcher_hbp_pct_a_daily_input', 'pitcher_1b_pct_a_daily_input', 'pitcher_2b_pct_a_daily_input', 'pitcher_3b_pct_a_daily_input', 'pitcher_hr_pct_a_daily_input', 'pitcher_non_k_out_pct_a_daily_input', 'batter_k_pct_daily_input', 'batter_bb_pct_daily_input', 'batter_hbp_pct_daily_input', 'batter_1b_pct_daily_input', 'batter_2b_pct_daily_input', 'batter_3b_pct_daily_input', 'batter_hr_pct_daily_input', 'batter_non_k_out_pct_daily_input', 'team_defense_oaa_input', 'park_factor_input']\n",
      "Scaler means: [2.40808837e-01 8.34081787e-02 1.16119733e-02 1.39100213e-01\n",
      " 4.30171619e-02 3.55229409e-03 3.01620115e-02 4.48339330e-01\n",
      " 2.28338439e-01 8.28743676e-02 1.15886796e-02 1.41599251e-01\n",
      " 4.39812902e-02 3.68337551e-03 3.18720145e-02 4.56062582e-01\n",
      " 4.11058935e-03 9.99770895e+01]\n",
      "Scaler scales: [4.27639109e-02 1.61286486e-02 2.90194866e-03 8.97054946e-03\n",
      " 2.55876492e-03 6.45479383e-04 2.49247472e-03 4.22907829e-02\n",
      " 5.13747606e-02 2.14583156e-02 5.67164791e-03 1.74602323e-02\n",
      " 2.83221506e-03 1.06458035e-03 1.08261271e-02 5.05066516e-02\n",
      " 1.37704639e-02 3.32192683e+00]\n"
     ]
    }
   ],
   "source": [
    "# Cell: Fit the scaler\n",
    "scaler = StandardScaler()\n",
    "scaler.fit(continuous_data)\n",
    "\n",
    "print(f\"✅ Scaler fitted on {scaler.n_features_in_} features\")\n",
    "print(f\"Feature names: {CONTINUOUS_COLS}\")\n",
    "print(f\"Scaler means: {scaler.mean_}\")\n",
    "print(f\"Scaler scales: {scaler.scale_}\")"
   ]
  },
  {
   "cell_type": "code",
   "execution_count": null,
   "metadata": {},
   "outputs": [
    {
     "name": "stdout",
     "output_type": "stream",
     "text": [
      "Validation:\n",
      "Original sample mean: [2.38299334e-01 8.36736782e-02 1.14551050e-02 1.39667682e-01\n",
      " 4.29537275e-02 3.57531625e-03 3.02073240e-02 4.50167833e-01\n",
      " 2.29849702e-01 8.30106512e-02 1.15709229e-02 1.41134388e-01\n",
      " 4.39945933e-02 3.72153470e-03 3.25607672e-02 4.54157441e-01\n",
      " 4.20261729e-03 1.00098000e+02]\n",
      "Scaled sample mean: [-0.05868273  0.01646136 -0.05405619  0.0632591  -0.02479102  0.03566677\n",
      "  0.01817975  0.04323643  0.02941644  0.00635108 -0.00313079 -0.02662414\n",
      "  0.00469705  0.03584435  0.06361949 -0.03772059  0.006683    0.0363977 ]\n",
      "Scaled sample std: [1.03258068 0.99640896 0.96160399 1.02337304 0.96412319 0.960351\n",
      " 1.03449505 1.02433627 1.02887893 1.01133291 0.99312093 1.0195874\n",
      " 1.03530477 1.0128513  1.02513215 1.03439185 0.96066283 0.95632846]\n",
      "✅ Scaler validation passed!\n"
     ]
    }
   ],
   "source": [
    "# Cell: Validate the scaler\n",
    "# sample_data = continuous_data.head(1000)\n",
    "# scaled_sample = scaler.transform(sample_data)\n",
    "\n",
    "# print(\"Validation:\")\n",
    "# print(f\"Original sample mean: {sample_data.mean().values}\")\n",
    "# print(f\"Scaled sample mean: {scaled_sample.mean(axis=0)}\")\n",
    "# print(f\"Scaled sample std: {scaled_sample.std(axis=0)}\")\n",
    "\n",
    "# # Check that scaled data has mean ~0 and std ~1\n",
    "# if np.allclose(scaled_sample.mean(axis=0), 0, atol=0.1) and np.allclose(scaled_sample.std(axis=0), 1, atol=0.1):\n",
    "#     print(\"✅ Scaler validation passed!\")\n",
    "# else:\n",
    "#     print(\"⚠️ Scaler validation warning\")"
   ]
  },
  {
   "cell_type": "code",
   "execution_count": 17,
   "metadata": {},
   "outputs": [
    {
     "name": "stdout",
     "output_type": "stream",
     "text": [
      "✅ Scaler saved to: ../baseball_simulator/pa_outcome_scaler.joblib\n"
     ]
    }
   ],
   "source": [
    "# Cell: Save the scaler\n",
    "output_path = f\"../baseball_simulator/pa_outcome_scaler.joblib\"\n",
    "joblib.dump(scaler, output_path)\n",
    "print(f\"✅ Scaler saved to: {output_path}\")"
   ]
  }
 ],
 "metadata": {
  "colab": {
   "authorship_tag": "ABX9TyP8sWd6/9OrF8ETNKm8Ewfv",
   "provenance": []
  },
  "kernelspec": {
   "display_name": ".venv",
   "language": "python",
   "name": "python3"
  },
  "language_info": {
   "codemirror_mode": {
    "name": "ipython",
    "version": 3
   },
   "file_extension": ".py",
   "mimetype": "text/x-python",
   "name": "python",
   "nbconvert_exporter": "python",
   "pygments_lexer": "ipython3",
   "version": "3.11.5"
  }
 },
 "nbformat": 4,
 "nbformat_minor": 0
}
